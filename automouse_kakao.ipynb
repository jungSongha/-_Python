{
 "cells": [
  {
   "cell_type": "code",
   "execution_count": 1,
   "metadata": {},
   "outputs": [
    {
     "name": "stdout",
     "output_type": "stream",
     "text": [
      "Defaulting to user installation because normal site-packages is not writeable\n",
      "Collecting pyperclip\n",
      "  Downloading pyperclip-1.8.2.tar.gz (20 kB)\n",
      "Building wheels for collected packages: pyperclip\n",
      "  Building wheel for pyperclip (setup.py): started\n",
      "  Building wheel for pyperclip (setup.py): finished with status 'done'\n",
      "  Created wheel for pyperclip: filename=pyperclip-1.8.2-py3-none-any.whl size=11137 sha256=38ddac7edd0a99728c878a6bf6a201b7ce705926874e91da21827a93ad938cdd\n",
      "  Stored in directory: c:\\users\\kccistc\\appdata\\local\\pip\\cache\\wheels\\0c\\09\\9e\\49e21a6840ef7955b06d47394afef0058f0378c0914e48b8b8\n",
      "Successfully built pyperclip\n",
      "Installing collected packages: pyperclip\n",
      "Successfully installed pyperclip-1.8.2\n"
     ]
    }
   ],
   "source": [
    "!pip install pyperclip"
   ]
  },
  {
   "cell_type": "code",
   "execution_count": 2,
   "metadata": {},
   "outputs": [
    {
     "name": "stdout",
     "output_type": "stream",
     "text": [
      "Defaulting to user installation because normal site-packages is not writeable\n",
      "Collecting pyautogui\n",
      "  Downloading PyAutoGUI-0.9.53.tar.gz (59 kB)\n",
      "Collecting pymsgbox\n",
      "  Downloading PyMsgBox-1.0.9.tar.gz (18 kB)\n",
      "  Installing build dependencies: started\n",
      "  Installing build dependencies: finished with status 'done'\n",
      "  Getting requirements to build wheel: started\n",
      "  Getting requirements to build wheel: finished with status 'done'\n",
      "    Preparing wheel metadata: started\n",
      "    Preparing wheel metadata: finished with status 'done'\n",
      "Collecting PyTweening>=1.0.1\n",
      "  Downloading pytweening-1.0.4.tar.gz (14 kB)\n",
      "Collecting pyscreeze>=0.1.21\n",
      "  Downloading PyScreeze-0.1.28.tar.gz (25 kB)\n",
      "  Installing build dependencies: started\n",
      "  Installing build dependencies: finished with status 'done'\n",
      "  Getting requirements to build wheel: started\n",
      "  Getting requirements to build wheel: finished with status 'done'\n",
      "    Preparing wheel metadata: started\n",
      "    Preparing wheel metadata: finished with status 'done'\n",
      "Collecting pygetwindow>=0.0.5\n",
      "  Downloading PyGetWindow-0.0.9.tar.gz (9.7 kB)\n",
      "Collecting mouseinfo\n",
      "  Downloading MouseInfo-0.1.3.tar.gz (10 kB)\n",
      "Collecting pyrect\n",
      "  Downloading PyRect-0.2.0.tar.gz (17 kB)\n",
      "Requirement already satisfied: pyperclip in c:\\users\\kccistc\\appdata\\roaming\\python\\python39\\site-packages (from mouseinfo->pyautogui) (1.8.2)\n",
      "Building wheels for collected packages: pyautogui, pygetwindow, pyscreeze, PyTweening, mouseinfo, pymsgbox, pyrect\n",
      "  Building wheel for pyautogui (setup.py): started\n",
      "  Building wheel for pyautogui (setup.py): finished with status 'done'\n",
      "  Created wheel for pyautogui: filename=PyAutoGUI-0.9.53-py3-none-any.whl size=36614 sha256=8d70ec463a876489e4a8a18c7c9d4d0455b8c581195a93b462d6887c32ac7cb1\n",
      "  Stored in directory: c:\\users\\kccistc\\appdata\\local\\pip\\cache\\wheels\\d8\\97\\e4\\d2edca92a87d3b5fbfb527264750a17b4ba297b9a7cab6e67f\n",
      "  Building wheel for pygetwindow (setup.py): started\n",
      "  Building wheel for pygetwindow (setup.py): finished with status 'done'\n",
      "  Created wheel for pygetwindow: filename=PyGetWindow-0.0.9-py3-none-any.whl size=11081 sha256=9be0d915b6020df33ae53983c884469489f71bfeda728b03ee31a933e53de282\n",
      "  Stored in directory: c:\\users\\kccistc\\appdata\\local\\pip\\cache\\wheels\\44\\ab\\20\\423c3a444793767e4e41f8377bc902f77bee212e68dcce85a5\n",
      "  Building wheel for pyscreeze (PEP 517): started\n",
      "  Building wheel for pyscreeze (PEP 517): finished with status 'done'\n",
      "  Created wheel for pyscreeze: filename=PyScreeze-0.1.28-py3-none-any.whl size=13009 sha256=df0ceddf67a61f0a3e441d5d3c2885a25ffaee56be2d853ed404f909c6f8df15\n",
      "  Stored in directory: c:\\users\\kccistc\\appdata\\local\\pip\\cache\\wheels\\a2\\5b\\86\\99f1d8fac5d92de0ccb3f0d4ad15e3f4278baf75a9b0f20b93\n",
      "  Building wheel for PyTweening (setup.py): started\n",
      "  Building wheel for PyTweening (setup.py): finished with status 'done'\n",
      "  Created wheel for PyTweening: filename=pytweening-1.0.4-py3-none-any.whl size=5854 sha256=d9db683ff4520c5e84ec6e8d83a8bb849bedf41db4c06ac0ea96a4612e4a4163\n",
      "  Stored in directory: c:\\users\\kccistc\\appdata\\local\\pip\\cache\\wheels\\a4\\5d\\d2\\ba4c8f82163233ffaadcf383c1e34d7d92635d357d13e7b78d\n",
      "  Building wheel for mouseinfo (setup.py): started\n",
      "  Building wheel for mouseinfo (setup.py): finished with status 'done'\n",
      "  Created wheel for mouseinfo: filename=MouseInfo-0.1.3-py3-none-any.whl size=10906 sha256=2b81e7325078d1919c2bd8345f6fbda6ed9e33f792efc8eb442aa4d4fbff247d\n",
      "  Stored in directory: c:\\users\\kccistc\\appdata\\local\\pip\\cache\\wheels\\61\\73\\b9\\6fb1131ab36e650206e3aa0ad7a68907b41b32ac2d4f75f543\n",
      "  Building wheel for pymsgbox (PEP 517): started\n",
      "  Building wheel for pymsgbox (PEP 517): finished with status 'done'\n",
      "  Created wheel for pymsgbox: filename=PyMsgBox-1.0.9-py3-none-any.whl size=7406 sha256=ed9f2722514b03391ef32e7b59e00d12ce4b33fb25ada0c5c82916d26bc1ca31\n",
      "  Stored in directory: c:\\users\\kccistc\\appdata\\local\\pip\\cache\\wheels\\7f\\13\\8c\\584c519464297d9637f9cd29fd1dcdf55e2a2cab225c76a2db\n",
      "  Building wheel for pyrect (setup.py): started\n",
      "  Building wheel for pyrect (setup.py): finished with status 'done'\n",
      "  Created wheel for pyrect: filename=PyRect-0.2.0-py2.py3-none-any.whl size=11196 sha256=b7bb3cb4d8cc522c5f603e125b6c27348e36c8ab459d1950a8116c69c0b7e89c\n",
      "  Stored in directory: c:\\users\\kccistc\\appdata\\local\\pip\\cache\\wheels\\25\\80\\fa\\27bb4a1c2e21f64ec71390489d52e57b7cc8afbe79bd595c5e\n",
      "Successfully built pyautogui pygetwindow pyscreeze PyTweening mouseinfo pymsgbox pyrect\n",
      "Installing collected packages: pyrect, PyTweening, pyscreeze, pymsgbox, pygetwindow, mouseinfo, pyautogui\n",
      "Successfully installed PyTweening-1.0.4 mouseinfo-0.1.3 pyautogui-0.9.53 pygetwindow-0.0.9 pymsgbox-1.0.9 pyrect-0.2.0 pyscreeze-0.1.28\n"
     ]
    }
   ],
   "source": [
    "!pip install pyautogui"
   ]
  },
  {
   "cell_type": "code",
   "execution_count": 3,
   "metadata": {},
   "outputs": [
    {
     "name": "stdout",
     "output_type": "stream",
     "text": [
      "Defaulting to user installation because normal site-packages is not writeable\n",
      "Collecting schedule\n",
      "  Downloading schedule-1.1.0-py2.py3-none-any.whl (10 kB)\n",
      "Installing collected packages: schedule\n",
      "Successfully installed schedule-1.1.0\n"
     ]
    }
   ],
   "source": [
    "!pip install schedule"
   ]
  },
  {
   "cell_type": "code",
   "execution_count": 7,
   "metadata": {},
   "outputs": [
    {
     "name": "stdout",
     "output_type": "stream",
     "text": [
      "Box(left=104, top=92, width=127, height=76)\n"
     ]
    }
   ],
   "source": [
    "import pyautogui #컴퓨터의 마우스 오토 제어기능\n",
    "import os\n",
    "\n",
    "#경로를 .py파일의 실행 결로로 이동, 현재 경로로 이동\n",
    "\n",
    "picPosition = pyautogui.locateOnScreen('kakao7.png')\n",
    "print(picPosition)\n",
    "\n",
    "if picPosition is None :\n",
    "    picPosition = pyautogui.locateOnScreen('kakao8.png')\n",
    "    print(picPosition)\n",
    "if picPosition is None:\n",
    "    picPosition = pyautogui.locateOnScreen('kakao8.png')\n",
    "    print(picPosition)"
   ]
  },
  {
   "cell_type": "code",
   "execution_count": 4,
   "metadata": {},
   "outputs": [
    {
     "data": {
      "text/plain": [
       "'c:\\\\Users\\\\python'"
      ]
     },
     "execution_count": 4,
     "metadata": {},
     "output_type": "execute_result"
    }
   ],
   "source": [
    "os.getcwd()"
   ]
  },
  {
   "cell_type": "code",
   "execution_count": 9,
   "metadata": {},
   "outputs": [
    {
     "name": "stdout",
     "output_type": "stream",
     "text": [
      "Box(left=104, top=92, width=127, height=76)\n"
     ]
    },
    {
     "ename": "AttributeError",
     "evalue": "module 'pyautogui' has no attribute 'wirte'",
     "output_type": "error",
     "traceback": [
      "\u001b[1;31m---------------------------------------------------------------------------\u001b[0m",
      "\u001b[1;31mAttributeError\u001b[0m                            Traceback (most recent call last)",
      "\u001b[1;32mc:\\Users\\python\\automouse_kakao.ipynb 셀 6\u001b[0m in \u001b[0;36m<cell line: 24>\u001b[1;34m()\u001b[0m\n\u001b[0;32m     <a href='vscode-notebook-cell:/c%3A/Users/python/automouse_kakao.ipynb#W5sZmlsZQ%3D%3D?line=20'>21</a>\u001b[0m pyautogui\u001b[39m.\u001b[39mhotkey(\u001b[39m\"\u001b[39m\u001b[39mctrl\u001b[39m\u001b[39m\"\u001b[39m,\u001b[39m\"\u001b[39m\u001b[39mv\u001b[39m\u001b[39m\"\u001b[39m)\n\u001b[0;32m     <a href='vscode-notebook-cell:/c%3A/Users/python/automouse_kakao.ipynb#W5sZmlsZQ%3D%3D?line=21'>22</a>\u001b[0m time\u001b[39m.\u001b[39msleep(\u001b[39m1.0\u001b[39m)\n\u001b[1;32m---> <a href='vscode-notebook-cell:/c%3A/Users/python/automouse_kakao.ipynb#W5sZmlsZQ%3D%3D?line=23'>24</a>\u001b[0m pyautogui\u001b[39m.\u001b[39;49mwirte([\u001b[39m\"\u001b[39m\u001b[39menter\u001b[39m\u001b[39m\"\u001b[39m])\n\u001b[0;32m     <a href='vscode-notebook-cell:/c%3A/Users/python/automouse_kakao.ipynb#W5sZmlsZQ%3D%3D?line=24'>25</a>\u001b[0m time\u001b[39m.\u001b[39msleep(\u001b[39m1.0\u001b[39m)\n\u001b[0;32m     <a href='vscode-notebook-cell:/c%3A/Users/python/automouse_kakao.ipynb#W5sZmlsZQ%3D%3D?line=26'>27</a>\u001b[0m pyautogui\u001b[39m.\u001b[39mwirte([\u001b[39m\"\u001b[39m\u001b[39mescape\u001b[39m\u001b[39m\"\u001b[39m])\n",
      "\u001b[1;31mAttributeError\u001b[0m: module 'pyautogui' has no attribute 'wirte'"
     ]
    }
   ],
   "source": [
    "import pyautogui\n",
    "import pyperclip    #클립보드에 복사된 데이터 사용하기위한 라이브러리\n",
    "import time\n",
    "import os\n",
    "\n",
    "\n",
    "picPosition = pyautogui.locateOnScreen('kakao7.png')\n",
    "print(picPosition)\n",
    "\n",
    "if picPosition is None :\n",
    "    picPosition = pyautogui.locateOnScreen('kakao8.png')\n",
    "    print(picPosition)\n",
    "if picPosition is None:\n",
    "    picPosition = pyautogui.locateOnScreen('kakao9.png')\n",
    "    print(picPosition)\n",
    "    \n",
    "clickPosition = pyautogui.center(picPosition)\n",
    "pyautogui.doubleClick(clickPosition)\n",
    "\n",
    "pyperclip.copy(\"이 메세지는 automouse_kakao.ipynb로 짠 코드로 보내는 메세지입니다\")\n",
    "pyautogui.hotkey(\"ctrl\",\"v\")\n",
    "time.sleep(1.0)\n",
    "\n",
    "pyautogui.wirte([\"enter\"])\n",
    "time.sleep(1.0)\n",
    "\n",
    "pyautogui.wirte([\"escape\"])\n",
    "time.sleep(1.0)\n"
   ]
  },
  {
   "cell_type": "code",
   "execution_count": 11,
   "metadata": {},
   "outputs": [
    {
     "name": "stdout",
     "output_type": "stream",
     "text": [
      "None\n",
      "None\n",
      "None\n",
      "Box(left=104, top=92, width=127, height=76)\n",
      "Box(left=104, top=92, width=127, height=76)\n",
      "None\n",
      "None\n"
     ]
    },
    {
     "ename": "TypeError",
     "evalue": "'NoneType' object is not subscriptable",
     "output_type": "error",
     "traceback": [
      "\u001b[1;31m---------------------------------------------------------------------------\u001b[0m",
      "\u001b[1;31mTypeError\u001b[0m                                 Traceback (most recent call last)",
      "\u001b[1;32mc:\\Users\\python\\automouse_kakao.ipynb 셀 7\u001b[0m in \u001b[0;36m<cell line: 32>\u001b[1;34m()\u001b[0m\n\u001b[0;32m     <a href='vscode-notebook-cell:/c%3A/Users/python/automouse_kakao.ipynb#W6sZmlsZQ%3D%3D?line=29'>30</a>\u001b[0m     pyautogui\u001b[39m.\u001b[39mwirte([\u001b[39m\"\u001b[39m\u001b[39mEscape\u001b[39m\u001b[39m\"\u001b[39m])\n\u001b[0;32m     <a href='vscode-notebook-cell:/c%3A/Users/python/automouse_kakao.ipynb#W6sZmlsZQ%3D%3D?line=30'>31</a>\u001b[0m     time\u001b[39m.\u001b[39msleep(\u001b[39m1.0\u001b[39m)   \n\u001b[1;32m---> <a href='vscode-notebook-cell:/c%3A/Users/python/automouse_kakao.ipynb#W6sZmlsZQ%3D%3D?line=31'>32</a>\u001b[0m send_message()\n",
      "\u001b[1;32mc:\\Users\\python\\automouse_kakao.ipynb 셀 7\u001b[0m in \u001b[0;36msend_message\u001b[1;34m()\u001b[0m\n\u001b[0;32m     <a href='vscode-notebook-cell:/c%3A/Users/python/automouse_kakao.ipynb#W6sZmlsZQ%3D%3D?line=16'>17</a>\u001b[0m    picPosition \u001b[39m=\u001b[39m pyautogui\u001b[39m.\u001b[39mlocateOnScreen(\u001b[39m'\u001b[39m\u001b[39mkakao9.png\u001b[39m\u001b[39m'\u001b[39m)\n\u001b[0;32m     <a href='vscode-notebook-cell:/c%3A/Users/python/automouse_kakao.ipynb#W6sZmlsZQ%3D%3D?line=17'>18</a>\u001b[0m    \u001b[39mprint\u001b[39m(picPosition)\n\u001b[1;32m---> <a href='vscode-notebook-cell:/c%3A/Users/python/automouse_kakao.ipynb#W6sZmlsZQ%3D%3D?line=19'>20</a>\u001b[0m clickPosition \u001b[39m=\u001b[39m pyautogui\u001b[39m.\u001b[39;49mcenter(picPosition)\n\u001b[0;32m     <a href='vscode-notebook-cell:/c%3A/Users/python/automouse_kakao.ipynb#W6sZmlsZQ%3D%3D?line=20'>21</a>\u001b[0m pyautogui\u001b[39m.\u001b[39mdoubleClick(clickPosition)\n\u001b[0;32m     <a href='vscode-notebook-cell:/c%3A/Users/python/automouse_kakao.ipynb#W6sZmlsZQ%3D%3D?line=22'>23</a>\u001b[0m pyperclip\u001b[39m.\u001b[39mcopy(\u001b[39m\"\u001b[39m\u001b[39m이 메세지는 automouse_kakao.ipynb로 짠 코드로 보내는 메세지입니다\u001b[39m\u001b[39m\"\u001b[39m)\n",
      "File \u001b[1;32m~\\AppData\\Roaming\\Python\\Python39\\site-packages\\pyscreeze\\__init__.py:582\u001b[0m, in \u001b[0;36mcenter\u001b[1;34m(coords)\u001b[0m\n\u001b[0;32m    566\u001b[0m \u001b[39m\"\"\"\u001b[39;00m\n\u001b[0;32m    567\u001b[0m \u001b[39mReturns a `Point` object with the x and y set to an integer determined by the format of `coords`.\u001b[39;00m\n\u001b[0;32m    568\u001b[0m \n\u001b[1;32m   (...)\u001b[0m\n\u001b[0;32m    578\u001b[0m \u001b[39mPoint(x=14, y=15)\u001b[39;00m\n\u001b[0;32m    579\u001b[0m \u001b[39m\"\"\"\u001b[39;00m\n\u001b[0;32m    581\u001b[0m \u001b[39m# TODO - one day, add code to handle a Box namedtuple.\u001b[39;00m\n\u001b[1;32m--> 582\u001b[0m \u001b[39mreturn\u001b[39;00m Point(coords[\u001b[39m0\u001b[39;49m] \u001b[39m+\u001b[39m \u001b[39mint\u001b[39m(coords[\u001b[39m2\u001b[39m] \u001b[39m/\u001b[39m \u001b[39m2\u001b[39m), coords[\u001b[39m1\u001b[39m] \u001b[39m+\u001b[39m \u001b[39mint\u001b[39m(coords[\u001b[39m3\u001b[39m] \u001b[39m/\u001b[39m \u001b[39m2\u001b[39m))\n",
      "\u001b[1;31mTypeError\u001b[0m: 'NoneType' object is not subscriptable"
     ]
    }
   ],
   "source": [
    "import pyautogui\n",
    "import pyperclip\n",
    "import time\n",
    "import os\n",
    "import threading\n",
    "\n",
    "\n",
    "def send_message():\n",
    "    threading.Timer(10,send_message).start()\n",
    "    picPosition = pyautogui.locateOnScreen('kakao7.png')\n",
    "    print(picPosition)\n",
    "\n",
    "    if picPosition is None :\n",
    "       picPosition = pyautogui.locateOnScreen('kakao8.png')\n",
    "       print(picPosition)\n",
    "    if picPosition is None:\n",
    "       picPosition = pyautogui.locateOnScreen('kakao9.png')\n",
    "       print(picPosition)\n",
    "       \n",
    "    clickPosition = pyautogui.center(picPosition)\n",
    "    pyautogui.doubleClick(clickPosition)\n",
    "\n",
    "    pyperclip.copy(\"이 메세지는 automouse_kakao.ipynb로 짠 코드로 보내는 메세지입니다\")\n",
    "    pyautogui.hotkey(\"ctrl\",\"v\")\n",
    "    time.sleep(1.0)\n",
    "\n",
    "    pyautogui.wirte([\"Enter\"])\n",
    "    time.sleep(1.0)\n",
    "\n",
    "    pyautogui.wirte([\"Escape\"])\n",
    "    time.sleep(1.0)   \n",
    "send_message()"
   ]
  },
  {
   "cell_type": "code",
   "execution_count": 12,
   "metadata": {},
   "outputs": [
    {
     "ename": "FileNotFoundError",
     "evalue": "[WinError 2] 지정된 파일을 찾을 수 없습니다: 'c:\\\\python'",
     "output_type": "error",
     "traceback": [
      "\u001b[1;31m---------------------------------------------------------------------------\u001b[0m",
      "\u001b[1;31mFileNotFoundError\u001b[0m                         Traceback (most recent call last)",
      "\u001b[1;32mc:\\Users\\python\\automouse_kakao.ipynb 셀 8\u001b[0m in \u001b[0;36m<cell line: 7>\u001b[1;34m()\u001b[0m\n\u001b[0;32m      <a href='vscode-notebook-cell:/c%3A/Users/python/automouse_kakao.ipynb#X10sZmlsZQ%3D%3D?line=3'>4</a>\u001b[0m \u001b[39mimport\u001b[39;00m \u001b[39mos\u001b[39;00m\n\u001b[0;32m      <a href='vscode-notebook-cell:/c%3A/Users/python/automouse_kakao.ipynb#X10sZmlsZQ%3D%3D?line=4'>5</a>\u001b[0m \u001b[39mimport\u001b[39;00m \u001b[39mthreading\u001b[39;00m\n\u001b[1;32m----> <a href='vscode-notebook-cell:/c%3A/Users/python/automouse_kakao.ipynb#X10sZmlsZQ%3D%3D?line=6'>7</a>\u001b[0m os\u001b[39m.\u001b[39;49mchdir(\u001b[39m'\u001b[39;49m\u001b[39mc:\u001b[39;49m\u001b[39m\\\\\u001b[39;49;00m\u001b[39mpython\u001b[39;49m\u001b[39m'\u001b[39;49m)\n\u001b[0;32m      <a href='vscode-notebook-cell:/c%3A/Users/python/automouse_kakao.ipynb#X10sZmlsZQ%3D%3D?line=8'>9</a>\u001b[0m \u001b[39mdef\u001b[39;00m \u001b[39msend_message\u001b[39m():\n\u001b[0;32m     <a href='vscode-notebook-cell:/c%3A/Users/python/automouse_kakao.ipynb#X10sZmlsZQ%3D%3D?line=9'>10</a>\u001b[0m     threading\u001b[39m.\u001b[39mTimer(\u001b[39m10\u001b[39m,send_message)\u001b[39m.\u001b[39mstart()\n",
      "\u001b[1;31mFileNotFoundError\u001b[0m: [WinError 2] 지정된 파일을 찾을 수 없습니다: 'c:\\\\python'"
     ]
    }
   ],
   "source": [
    "import pyautogui\n",
    "import pyperclip\n",
    "import time\n",
    "import os\n",
    "import threading\n",
    "\n",
    "os.chdir('c:\\\\python')\n",
    "\n",
    "def send_message():\n",
    "   threading.Timer(10,send_message).start()\n",
    "   picPosition = pyautogui.locateOnScreen('kakao7.png')\n",
    "   print(picPosition)\n",
    "\n",
    "   if picPosition is None :\n",
    "      picPosition = pyautogui.locateOnScreen('kakao8.png')\n",
    "      print(picPosition)\n",
    "   if picPosition is None:\n",
    "      picPosition = pyautogui.locateOnScreen('kakao9.png')\n",
    "      print(picPosition)\n",
    "\n",
    "   clickPosition = pyautogui.center(picPosition)\n",
    "   pyautogui.doubleClick(clickPosition)\n",
    "\n",
    "   pyperclip.copy(\"이 메세지는 automouse_kakao.ipynb로 짠 코드로 보내는 메세지입니다\")\n",
    "   pyautogui.hotkey(\"ctrl\",\"v\")\n",
    "   time.sleep(1.0)\n",
    "\n",
    "   pyautogui.wirte([\"전송\"])\n",
    "   time.sleep(1.0)"
   ]
  }
 ],
 "metadata": {
  "kernelspec": {
   "display_name": "Python 3.9.12 ('base')",
   "language": "python",
   "name": "python3"
  },
  "language_info": {
   "codemirror_mode": {
    "name": "ipython",
    "version": 3
   },
   "file_extension": ".py",
   "mimetype": "text/x-python",
   "name": "python",
   "nbconvert_exporter": "python",
   "pygments_lexer": "ipython3",
   "version": "3.9.12"
  },
  "orig_nbformat": 4,
  "vscode": {
   "interpreter": {
    "hash": "ad2bdc8ecc057115af97d19610ffacc2b4e99fae6737bb82f5d7fb13d2f2c186"
   }
  }
 },
 "nbformat": 4,
 "nbformat_minor": 2
}
