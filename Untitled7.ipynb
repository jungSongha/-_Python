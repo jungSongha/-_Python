{
 "cells": [
  {
   "cell_type": "code",
   "execution_count": 19,
   "id": "96924680",
   "metadata": {},
   "outputs": [
    {
     "name": "stdout",
     "output_type": "stream",
     "text": [
      "Requirement already satisfied: requests in c:\\users\\kccistc\\anaconda3\\lib\\site-packages (2.27.1)\n",
      "Requirement already satisfied: idna<4,>=2.5 in c:\\users\\kccistc\\anaconda3\\lib\\site-packages (from requests) (3.3)\n",
      "Requirement already satisfied: charset-normalizer~=2.0.0 in c:\\users\\kccistc\\anaconda3\\lib\\site-packages (from requests) (2.0.4)\n",
      "Requirement already satisfied: urllib3<1.27,>=1.21.1 in c:\\users\\kccistc\\anaconda3\\lib\\site-packages (from requests) (1.26.9)\n",
      "Requirement already satisfied: certifi>=2017.4.17 in c:\\users\\kccistc\\anaconda3\\lib\\site-packages (from requests) (2021.10.8)\n"
     ]
    }
   ],
   "source": [
    "!pip install requests"
   ]
  },
  {
   "cell_type": "code",
   "execution_count": 25,
   "id": "fba832e6",
   "metadata": {},
   "outputs": [
    {
     "name": "stdout",
     "output_type": "stream",
     "text": [
      "Requirement already satisfied: bs4 in c:\\users\\kccistc\\anaconda3\\lib\\site-packages (0.0.1)\n",
      "Requirement already satisfied: beautifulsoup4 in c:\\users\\kccistc\\anaconda3\\lib\\site-packages (from bs4) (4.11.1)\n",
      "Requirement already satisfied: soupsieve>1.2 in c:\\users\\kccistc\\anaconda3\\lib\\site-packages (from beautifulsoup4->bs4) (2.3.1)\n"
     ]
    }
   ],
   "source": [
    "!pip install bs4"
   ]
  },
  {
   "cell_type": "code",
   "execution_count": 30,
   "id": "3b45e55c",
   "metadata": {
    "scrolled": true
   },
   "outputs": [
    {
     "ename": "IndexError",
     "evalue": "list index out of range",
     "output_type": "error",
     "traceback": [
      "\u001b[1;31m---------------------------------------------------------------------------\u001b[0m",
      "\u001b[1;31mIndexError\u001b[0m                                Traceback (most recent call last)",
      "Input \u001b[1;32mIn [30]\u001b[0m, in \u001b[0;36m<cell line: 38>\u001b[1;34m()\u001b[0m\n\u001b[0;32m     35\u001b[0m         review_list\u001b[38;5;241m.\u001b[39mappend(Review(comment, date, star, good, bad))\n\u001b[0;32m     37\u001b[0m     \u001b[38;5;28;01mreturn\u001b[39;00m title, review_list\n\u001b[1;32m---> 38\u001b[0m title, review_list \u001b[38;5;241m=\u001b[39m \u001b[43mcrawl\u001b[49m\u001b[43m(\u001b[49m\u001b[38;5;124;43m\"\u001b[39;49m\u001b[38;5;124;43mhttps://movie.naver.com/movie/bi/mi/basic.nhn?code=36944\u001b[39;49m\u001b[38;5;124;43m\"\u001b[39;49m\u001b[43m)\u001b[49m\n\u001b[0;32m     39\u001b[0m \u001b[38;5;28mprint\u001b[39m(\u001b[38;5;124m'\u001b[39m\u001b[38;5;124m제목: \u001b[39m\u001b[38;5;124m'\u001b[39m \u001b[38;5;241m+\u001b[39m title)\n\u001b[0;32m     40\u001b[0m \u001b[38;5;28;01mfor\u001b[39;00m review \u001b[38;5;129;01min\u001b[39;00m review_list:\n",
      "Input \u001b[1;32mIn [30]\u001b[0m, in \u001b[0;36mcrawl\u001b[1;34m(url)\u001b[0m\n\u001b[0;32m     31\u001b[0m button \u001b[38;5;241m=\u001b[39m review\u001b[38;5;241m.\u001b[39mfind(\u001b[38;5;124m\"\u001b[39m\u001b[38;5;124mdiv\u001b[39m\u001b[38;5;124m\"\u001b[39m, class_\u001b[38;5;241m=\u001b[39m\u001b[38;5;124m\"\u001b[39m\u001b[38;5;124mbtn_area\u001b[39m\u001b[38;5;124m\"\u001b[39m)\n\u001b[0;32m     32\u001b[0m sympathy \u001b[38;5;241m=\u001b[39m button\u001b[38;5;241m.\u001b[39mselect(\u001b[38;5;124m\"\u001b[39m\u001b[38;5;124mstrong > span\u001b[39m\u001b[38;5;124m\"\u001b[39m)\n\u001b[1;32m---> 33\u001b[0m good \u001b[38;5;241m=\u001b[39m \u001b[43msympathy\u001b[49m\u001b[43m[\u001b[49m\u001b[38;5;241;43m0\u001b[39;49m\u001b[43m]\u001b[49m\u001b[38;5;241m.\u001b[39mtext\n\u001b[0;32m     34\u001b[0m bad \u001b[38;5;241m=\u001b[39m sympathy[\u001b[38;5;241m1\u001b[39m]\u001b[38;5;241m.\u001b[39mtext\n\u001b[0;32m     35\u001b[0m review_list\u001b[38;5;241m.\u001b[39mappend(Review(comment, date, star, good, bad))\n",
      "\u001b[1;31mIndexError\u001b[0m: list index out of range"
     ]
    }
   ],
   "source": [
    "import urllib.request\n",
    "from bs4 import BeautifulSoup\n",
    "\n",
    "class Review:\n",
    "    def __init__(self, comment, date, star, good, bad):\n",
    "        self.comment = comment\n",
    "        self.date = date\n",
    "        self.star = star\n",
    "        self.good = good\n",
    "        self.bad = bad\n",
    "\n",
    "    def show(self):\n",
    "        print(\"내용: \" + self.comment +\n",
    "        \"\\n날짜: \" + self.date +\n",
    "        \"\\n별점: \" + self.star +\n",
    "        \"\\n좋아요: \" + self.good +\n",
    "        \"\\n싫어요: \" + self.bad)\n",
    "        \n",
    "def crawl(url):\n",
    "    soup = BeautifulSoup(urllib.request.urlopen(url).read(), \"html.parser\")\n",
    "    review_list = []\n",
    "    title = soup.find('h3', class_='h_movie').find('a').text\n",
    "    div = soup.find(\"div\", class_=\"score_result\")\n",
    "    data_list = div.select(\"ul > li\")\n",
    "\n",
    "    for review in data_list:\n",
    "        star = review.find(\"div\", class_=\"star_score\").text.strip()\n",
    "        reply = review.find(\"div\", class_=\"score_reple\")\n",
    "        comment = reply.find(\"p\").text\n",
    "        date = reply.select(\"dt > em\")[1].text.strip()\n",
    "        button = review.find(\"div\", class_=\"btn_area\")\n",
    "        sympathy = button.select(\"strong > span\")\n",
    "        good = sympathy[0].text\n",
    "        bad = sympathy[1].text\n",
    "        review_list.append(Review(comment, date, star, good, bad))\n",
    "\n",
    "    return title, review_list\n",
    "title, review_list = crawl(\"https://movie.naver.com/movie/bi/mi/basic.nhn?code=36944\")\n",
    "print('제목: ' + title)\n",
    "for review in review_list:\n",
    "    review.show()\n",
    "\n"
   ]
  }
 ],
 "metadata": {
  "kernelspec": {
   "display_name": "Python 3 (ipykernel)",
   "language": "python",
   "name": "python3"
  },
  "language_info": {
   "codemirror_mode": {
    "name": "ipython",
    "version": 3
   },
   "file_extension": ".py",
   "mimetype": "text/x-python",
   "name": "python",
   "nbconvert_exporter": "python",
   "pygments_lexer": "ipython3",
   "version": "3.9.12"
  }
 },
 "nbformat": 4,
 "nbformat_minor": 5
}
