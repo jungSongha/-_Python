{
 "cells": [
  {
   "cell_type": "code",
   "execution_count": 1,
   "metadata": {
    "colab": {
     "base_uri": "https://localhost:8080/"
    },
    "executionInfo": {
     "elapsed": 6,
     "status": "ok",
     "timestamp": 1663050455006,
     "user": {
      "displayName": "송하",
      "userId": "05079911566862389177"
     },
     "user_tz": -540
    },
    "id": "7xD7QuGEh7Qj",
    "outputId": "bfbda995-e339-40d4-8c1c-fe477a87c594"
   },
   "outputs": [
    {
     "data": {
      "text/plain": [
       "2"
      ]
     },
     "execution_count": 1,
     "metadata": {},
     "output_type": "execute_result"
    }
   ],
   "source": [
    "1+1"
   ]
  },
  {
   "cell_type": "code",
   "execution_count": 2,
   "metadata": {
    "colab": {
     "base_uri": "https://localhost:8080/"
    },
    "executionInfo": {
     "elapsed": 647,
     "status": "ok",
     "timestamp": 1663050479181,
     "user": {
      "displayName": "송하",
      "userId": "05079911566862389177"
     },
     "user_tz": -540
    },
    "id": "E_PuLZ_Bh8SI",
    "outputId": "3e2ac434-b675-4754-bb79-c1eeb31e04fb"
   },
   "outputs": [
    {
     "name": "stdout",
     "output_type": "stream",
     "text": [
      "hello\n"
     ]
    }
   ],
   "source": [
    "print('hello')"
   ]
  },
  {
   "cell_type": "code",
   "execution_count": 3,
   "metadata": {
    "colab": {
     "base_uri": "https://localhost:8080/"
    },
    "executionInfo": {
     "elapsed": 4,
     "status": "ok",
     "timestamp": 1663050513860,
     "user": {
      "displayName": "송하",
      "userId": "05079911566862389177"
     },
     "user_tz": -540
    },
    "id": "Qlm09ZuyiHkv",
    "outputId": "6a65908d-c21e-4e16-92c8-f4f1628bfbad"
   },
   "outputs": [
    {
     "name": "stdout",
     "output_type": "stream",
     "text": [
      "hello \"안녕하세요\"\n"
     ]
    }
   ],
   "source": [
    "print('hello \"안녕하세요\"')"
   ]
  },
  {
   "cell_type": "code",
   "execution_count": 4,
   "metadata": {
    "colab": {
     "base_uri": "https://localhost:8080/"
    },
    "executionInfo": {
     "elapsed": 505,
     "status": "ok",
     "timestamp": 1663050534683,
     "user": {
      "displayName": "송하",
      "userId": "05079911566862389177"
     },
     "user_tz": -540
    },
    "id": "KcOxUMm4iP9X",
    "outputId": "38a4abe8-09c2-4d6a-fdd9-587b2ed4e49a"
   },
   "outputs": [
    {
     "name": "stdout",
     "output_type": "stream",
     "text": [
      "hello '안녕하세요'\n"
     ]
    }
   ],
   "source": [
    "print(\"hello '안녕하세요'\")"
   ]
  },
  {
   "cell_type": "code",
   "execution_count": 6,
   "metadata": {
    "colab": {
     "base_uri": "https://localhost:8080/"
    },
    "executionInfo": {
     "elapsed": 915,
     "status": "ok",
     "timestamp": 1663050848619,
     "user": {
      "displayName": "송하",
      "userId": "05079911566862389177"
     },
     "user_tz": -540
    },
    "id": "RuVAXGyNjNnw",
    "outputId": "d7ab18f5-3a42-468b-eaab-c5246e08ebc1"
   },
   "outputs": [
    {
     "name": "stdout",
     "output_type": "stream",
     "text": [
      "a값:123 b값:안녕하세요\n"
     ]
    }
   ],
   "source": [
    "a=123\n",
    "b=\"안녕하세요\"\n",
    "print(\"a값:{} b값:{}\".format(a,b))"
   ]
  },
  {
   "cell_type": "code",
   "execution_count": 2,
   "metadata": {},
   "outputs": [
    {
     "data": {
      "text/plain": [
       "[1, 2, 3]"
      ]
     },
     "execution_count": 2,
     "metadata": {},
     "output_type": "execute_result"
    }
   ],
   "source": [
    "s1 = set([1,2,3])\n",
    "l1 = list(s1)\n",
    "l1"
   ]
  }
 ],
 "metadata": {
  "colab": {
   "authorship_tag": "ABX9TyMsFb0wZmkP/lXt8WmwQryf",
   "provenance": []
  },
  "kernelspec": {
   "display_name": "Python 3",
   "language": "python",
   "name": "python3"
  },
  "language_info": {
   "codemirror_mode": {
    "name": "ipython",
    "version": 3
   },
   "file_extension": ".py",
   "mimetype": "text/x-python",
   "name": "python",
   "nbconvert_exporter": "python",
   "pygments_lexer": "ipython3",
   "version": "3.8.8"
  }
 },
 "nbformat": 4,
 "nbformat_minor": 1
}
