{
 "cells": [
  {
   "cell_type": "code",
   "execution_count": 1,
   "id": "bca53bb1-113f-4174-9709-9e5253279457",
   "metadata": {},
   "outputs": [
    {
     "ename": "AttributeError",
     "evalue": "'Ball' object has no attribute 'move'",
     "output_type": "error",
     "traceback": [
      "\u001b[1;31m---------------------------------------------------------------------------\u001b[0m",
      "\u001b[1;31mAttributeError\u001b[0m                            Traceback (most recent call last)",
      "Input \u001b[1;32mIn [1]\u001b[0m, in \u001b[0;36m<cell line: 31>\u001b[1;34m()\u001b[0m\n\u001b[0;32m     30\u001b[0m ball \u001b[38;5;241m=\u001b[39m Ball(\u001b[38;5;124m\"\u001b[39m\u001b[38;5;124mred\u001b[39m\u001b[38;5;124m\"\u001b[39m, \u001b[38;5;241m2\u001b[39m, \u001b[38;5;241m1\u001b[39m)\n\u001b[0;32m     31\u001b[0m \u001b[38;5;28;01mfor\u001b[39;00m i \u001b[38;5;129;01min\u001b[39;00m \u001b[38;5;28mrange\u001b[39m(\u001b[38;5;241m100\u001b[39m) :\n\u001b[1;32m---> 32\u001b[0m     \u001b[43mball\u001b[49m\u001b[38;5;241;43m.\u001b[39;49m\u001b[43mmove\u001b[49m()\n",
      "\u001b[1;31mAttributeError\u001b[0m: 'Ball' object has no attribute 'move'"
     ]
    }
   ],
   "source": [
    "from turtle import *\n",
    "class Ball :\n",
    "    def __init__(self, color, size,speed) :\n",
    "        # 공의 위치\n",
    "        self.x = 0\n",
    "        self.y = 0\n",
    "        \n",
    "        # 공의 속도 벡터\n",
    "        self.xspeed = speed\n",
    "        self.yspeed = speed\n",
    "        \n",
    "        # 공의 크기\n",
    "        self.size = size\n",
    "        \n",
    "        # 공의 색상\n",
    "        self.color = color\n",
    "        \n",
    "        self.turtle = Turtle()\n",
    "        self.turtle.shape(\"circle\")\n",
    "        self.turtle.color(color, color)\n",
    "        self.turtle.resizemode(\"user\")\n",
    "        self.turtle.shapesize(size, size, 10)\n",
    "        \n",
    "        # 메소드 정의\n",
    "        def move(self) :\n",
    "            self.x += self.xspeed\n",
    "            self.y += self.yspeed\n",
    "            self.turtle.goto(self.x, self.y)\n",
    "\n",
    "ball = Ball(\"red\", 2, 1)\n",
    "for i in range(100) :\n",
    "    ball.move()"
   ]
  },
  {
   "cell_type": "code",
   "execution_count": 5,
   "id": "ad94443b-26f6-4cc4-8e78-387ec4bcc3bd",
   "metadata": {},
   "outputs": [],
   "source": [
    "from turtle import *   #\n",
    "\n",
    "class MyTurtle(Turtle):\n",
    "    def glow(self,x,y):\n",
    "        sel.fillcolor(\"red\")\n",
    "        \n",
    "turtle = MyTurtle()\n",
    "turtle.shape(\"turtle\")\n",
    "turtle.onclick(turtle.glow)"
   ]
  }
 ],
 "metadata": {
  "kernelspec": {
   "display_name": "Python 3 (ipykernel)",
   "language": "python",
   "name": "python3"
  },
  "language_info": {
   "codemirror_mode": {
    "name": "ipython",
    "version": 3
   },
   "file_extension": ".py",
   "mimetype": "text/x-python",
   "name": "python",
   "nbconvert_exporter": "python",
   "pygments_lexer": "ipython3",
   "version": "3.9.12"
  }
 },
 "nbformat": 4,
 "nbformat_minor": 5
}
