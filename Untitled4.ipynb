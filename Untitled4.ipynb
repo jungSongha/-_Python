{
 "cells": [
  {
   "cell_type": "code",
   "execution_count": null,
   "id": "c11fb2e0",
   "metadata": {},
   "outputs": [],
   "source": [
    "while True:\n",
    "    light = input('신호등 색상을 입력하시오:')\n",
    "    if light == 'blue':\n",
    "        break\n",
    "print('전진!!')"
   ]
  },
  {
   "cell_type": "code",
   "execution_count": null,
   "id": "60b477dd",
   "metadata": {},
   "outputs": [],
   "source": [
    "for n in range(1)):\n",
    "    if n % == 0 :\n",
    "        continue\n",
    "    print(n)"
   ]
  },
  {
   "cell_type": "code",
   "execution_count": null,
   "id": "d85eb695",
   "metadata": {},
   "outputs": [],
   "source": []
  }
 ],
 "metadata": {
  "kernelspec": {
   "display_name": "Python 3",
   "language": "python",
   "name": "python3"
  },
  "language_info": {
   "codemirror_mode": {
    "name": "ipython",
    "version": 3
   },
   "file_extension": ".py",
   "mimetype": "text/x-python",
   "name": "python",
   "nbconvert_exporter": "python",
   "pygments_lexer": "ipython3",
   "version": "3.8.8"
  }
 },
 "nbformat": 4,
 "nbformat_minor": 5
}
