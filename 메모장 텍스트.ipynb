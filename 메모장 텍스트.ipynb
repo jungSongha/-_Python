{
 "cells": [
  {
   "cell_type": "code",
   "execution_count": 1,
   "id": "183458c3",
   "metadata": {},
   "outputs": [
    {
     "data": {
      "text/plain": [
       "'C:\\\\Users\\\\kccistc'"
      ]
     },
     "execution_count": 1,
     "metadata": {},
     "output_type": "execute_result"
    }
   ],
   "source": [
    "import os\n",
    "os.getcwd()"
   ]
  },
  {
   "cell_type": "code",
   "execution_count": 2,
   "id": "77782879",
   "metadata": {},
   "outputs": [
    {
     "ename": "SyntaxError",
     "evalue": "invalid syntax (<ipython-input-2-4f4e539f079f>, line 1)",
     "output_type": "error",
     "traceback": [
      "\u001b[1;36m  File \u001b[1;32m\"<ipython-input-2-4f4e539f079f>\"\u001b[1;36m, line \u001b[1;32m1\u001b[0m\n\u001b[1;33m    infile = open(\"C:\\\\Users\\kccistc\\Desktop\\홍길동김철수김영희.txt\",\"r\"encoding=\"utf-8\")\u001b[0m\n\u001b[1;37m                                                               ^\u001b[0m\n\u001b[1;31mSyntaxError\u001b[0m\u001b[1;31m:\u001b[0m invalid syntax\n"
     ]
    }
   ],
   "source": [
    "infile = open(\"C:\\\\Users\\kccistc\\Desktop\\홍길동김철수김영희.txt\",\"r\"encoding=\"utf-8\")\n",
    "lines = infile.read()\n",
    "print(lines)\n",
    "infile.close()"
   ]
  },
  {
   "cell_type": "code",
   "execution_count": 41,
   "id": "6545bedc",
   "metadata": {},
   "outputs": [
    {
     "name": "stdout",
     "output_type": "stream",
     "text": [
      "홍길동 010 1234 5678\n",
      "김철수 010 1234 5678\n",
      "김영희 010 1234 5678\n"
     ]
    }
   ],
   "source": [
    "infile = open(\"C:\\\\Users\\kccistc\\Desktop\\홍길동김철수.txt\",\"r\")\n",
    "lines = infile.read()\n",
    "print(lines)\n",
    "infile.close()"
   ]
  },
  {
   "cell_type": "code",
   "execution_count": 47,
   "id": "9e5d9cb3",
   "metadata": {},
   "outputs": [
    {
     "name": "stdout",
     "output_type": "stream",
     "text": [
      "홍길동 010 1234 5678\n",
      "김철수 010 1234 5678\n",
      "김영희 010 1234 5678\n"
     ]
    }
   ],
   "source": [
    "infile = open(\"C:\\\\Users\\kccistc\\Desktop\\홍길동김철수.txt\",\"r\")\n",
    "line = infile.readline().rstrip()\n",
    "while line !=\"\":\n",
    "    print(line)\n",
    "    line = infile.readline().rstrip()\n",
    "    \n",
    "infile.close()"
   ]
  },
  {
   "cell_type": "code",
   "execution_count": 34,
   "id": "27d9dcd0",
   "metadata": {},
   "outputs": [
    {
     "name": "stdout",
     "output_type": "stream",
     "text": [
      "홍길동 010 1234 5678\n",
      "김철수 010 1234 5678\n",
      "김영희 010 1234 5678\n"
     ]
    }
   ],
   "source": [
    "infile = open(\"C:\\\\Users\\kccistc\\Desktop\\홍길동김철수.txt\",\"r\")\n",
    "\n",
    "for line in infile :\n",
    "    line = line.rstrip()\n",
    "    print(line)\n",
    "    \n",
    "infile.close()"
   ]
  }
 ],
 "metadata": {
  "kernelspec": {
   "display_name": "Python 3",
   "language": "python",
   "name": "python3"
  },
  "language_info": {
   "codemirror_mode": {
    "name": "ipython",
    "version": 3
   },
   "file_extension": ".py",
   "mimetype": "text/x-python",
   "name": "python",
   "nbconvert_exporter": "python",
   "pygments_lexer": "ipython3",
   "version": "3.8.8"
  }
 },
 "nbformat": 4,
 "nbformat_minor": 5
}
