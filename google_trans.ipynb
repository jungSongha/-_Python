{
 "cells": [
  {
   "cell_type": "code",
   "execution_count": 2,
   "metadata": {},
   "outputs": [
    {
     "name": "stdout",
     "output_type": "stream",
     "text": [
      "Collecting googletrans==4.0.0-rc1\n",
      "  Downloading googletrans-4.0.0rc1.tar.gz (20 kB)\n",
      "Collecting httpx==0.13.3\n",
      "  Downloading httpx-0.13.3-py3-none-any.whl (55 kB)\n",
      "Collecting rfc3986<2,>=1.3\n",
      "  Downloading rfc3986-1.5.0-py2.py3-none-any.whl (31 kB)\n",
      "Requirement already satisfied: certifi in c:\\programdata\\anaconda3\\lib\\site-packages (from httpx==0.13.3->googletrans==4.0.0-rc1) (2021.10.8)\n",
      "Collecting httpcore==0.9.*\n",
      "  Downloading httpcore-0.9.1-py3-none-any.whl (42 kB)\n",
      "Collecting hstspreload\n",
      "  Downloading hstspreload-2022.9.1-py3-none-any.whl (1.4 MB)\n",
      "Requirement already satisfied: sniffio in c:\\programdata\\anaconda3\\lib\\site-packages (from httpx==0.13.3->googletrans==4.0.0-rc1) (1.2.0)\n",
      "Collecting idna==2.*\n",
      "  Downloading idna-2.10-py2.py3-none-any.whl (58 kB)\n",
      "Collecting chardet==3.*\n",
      "  Downloading chardet-3.0.4-py2.py3-none-any.whl (133 kB)\n",
      "Collecting h11<0.10,>=0.8\n",
      "  Downloading h11-0.9.0-py2.py3-none-any.whl (53 kB)\n",
      "Collecting h2==3.*\n",
      "  Downloading h2-3.2.0-py2.py3-none-any.whl (65 kB)\n",
      "Collecting hpack<4,>=3.0\n",
      "  Downloading hpack-3.0.0-py2.py3-none-any.whl (38 kB)\n",
      "Collecting hyperframe<6,>=5.2.0\n",
      "  Downloading hyperframe-5.2.0-py2.py3-none-any.whl (12 kB)\n",
      "Building wheels for collected packages: googletrans\n",
      "  Building wheel for googletrans (setup.py): started\n",
      "  Building wheel for googletrans (setup.py): finished with status 'done'\n",
      "  Created wheel for googletrans: filename=googletrans-4.0.0rc1-py3-none-any.whl size=17429 sha256=9224b428c54b92f6fc25cd3efc5ec5985a47c7e70b8d79d308e83211381bab32\n",
      "  Stored in directory: c:\\users\\kccistc\\appdata\\local\\pip\\cache\\wheels\\60\\b3\\27\\d8aff3e2d5c2d0d97a117cdf0d5f13cd121e2c2b5fb49b55a0\n",
      "Successfully built googletrans\n",
      "Installing collected packages: hyperframe, hpack, h2, h11, rfc3986, idna, httpcore, hstspreload, chardet, httpx, googletrans\n",
      "  Attempting uninstall: idna\n",
      "    Found existing installation: idna 3.3\n",
      "    Uninstalling idna-3.3:\n",
      "      Successfully uninstalled idna-3.3\n",
      "  Attempting uninstall: chardet\n",
      "    Found existing installation: chardet 4.0.0\n",
      "    Uninstalling chardet-4.0.0:\n",
      "      Successfully uninstalled chardet-4.0.0\n",
      "Successfully installed chardet-3.0.4 googletrans-4.0.0rc1 h11-0.9.0 h2-3.2.0 hpack-3.0.0 hstspreload-2022.9.1 httpcore-0.9.1 httpx-0.13.3 hyperframe-5.2.0 idna-2.10 rfc3986-1.5.0\n"
     ]
    },
    {
     "name": "stderr",
     "output_type": "stream",
     "text": [
      "ERROR: pip's dependency resolver does not currently take into account all the packages that are installed. This behaviour is the source of the following dependency conflicts.\n",
      "spyder 5.1.5 requires pyqt5<5.13, which is not installed.\n",
      "spyder 5.1.5 requires pyqtwebengine<5.13, which is not installed.\n",
      "conda-repo-cli 1.0.4 requires pathlib, which is not installed.\n",
      "anaconda-project 0.10.2 requires ruamel-yaml, which is not installed.\n"
     ]
    }
   ],
   "source": [
    "!pip install googletrans==4.0.0-rc1"
   ]
  },
  {
   "cell_type": "code",
   "execution_count": 5,
   "metadata": {},
   "outputs": [
    {
     "name": "stdout",
     "output_type": "stream",
     "text": [
      "행복하세요 => Be happy\n",
      "novel => 나는 수많은 중요한 문제를 더 많이 해결하려고 노력했고, 현재 책에서 나는 우주의 진화에 관한 설명적인 논증의 복잡한 부분에 추가 섹션을 추가했다.\n"
     ]
    }
   ],
   "source": [
    "import googletrans\n",
    "\n",
    "translator = googletrans.Translator()\n",
    "\n",
    "str1=\"행복하세요\"\n",
    "\n",
    "result1=translator.translate(str1,dest='en', src='auto')\n",
    "print(f\"행복하세요 => {result1.text}\")\n",
    "\n",
    "str2=\"I tried to solve more of the numerous important problems, and in the present volume I have added some further sections to the complex of explanatory arguments concerning the evolution of the Universe\"\n",
    "result2=translator.translate(str2,dest='ko', src='en')\n",
    "print(f\"novel => {result2.text}\")"
   ]
  },
  {
   "cell_type": "code",
   "execution_count": 6,
   "metadata": {},
   "outputs": [
    {
     "name": "stdout",
     "output_type": "stream",
     "text": [
      "{'af': 'afrikaans', 'sq': 'albanian', 'am': 'amharic', 'ar': 'arabic', 'hy': 'armenian', 'az': 'azerbaijani', 'eu': 'basque', 'be': 'belarusian', 'bn': 'bengali', 'bs': 'bosnian', 'bg': 'bulgarian', 'ca': 'catalan', 'ceb': 'cebuano', 'ny': 'chichewa', 'zh-cn': 'chinese (simplified)', 'zh-tw': 'chinese (traditional)', 'co': 'corsican', 'hr': 'croatian', 'cs': 'czech', 'da': 'danish', 'nl': 'dutch', 'en': 'english', 'eo': 'esperanto', 'et': 'estonian', 'tl': 'filipino', 'fi': 'finnish', 'fr': 'french', 'fy': 'frisian', 'gl': 'galician', 'ka': 'georgian', 'de': 'german', 'el': 'greek', 'gu': 'gujarati', 'ht': 'haitian creole', 'ha': 'hausa', 'haw': 'hawaiian', 'iw': 'hebrew', 'he': 'hebrew', 'hi': 'hindi', 'hmn': 'hmong', 'hu': 'hungarian', 'is': 'icelandic', 'ig': 'igbo', 'id': 'indonesian', 'ga': 'irish', 'it': 'italian', 'ja': 'japanese', 'jw': 'javanese', 'kn': 'kannada', 'kk': 'kazakh', 'km': 'khmer', 'ko': 'korean', 'ku': 'kurdish (kurmanji)', 'ky': 'kyrgyz', 'lo': 'lao', 'la': 'latin', 'lv': 'latvian', 'lt': 'lithuanian', 'lb': 'luxembourgish', 'mk': 'macedonian', 'mg': 'malagasy', 'ms': 'malay', 'ml': 'malayalam', 'mt': 'maltese', 'mi': 'maori', 'mr': 'marathi', 'mn': 'mongolian', 'my': 'myanmar (burmese)', 'ne': 'nepali', 'no': 'norwegian', 'or': 'odia', 'ps': 'pashto', 'fa': 'persian', 'pl': 'polish', 'pt': 'portuguese', 'pa': 'punjabi', 'ro': 'romanian', 'ru': 'russian', 'sm': 'samoan', 'gd': 'scots gaelic', 'sr': 'serbian', 'st': 'sesotho', 'sn': 'shona', 'sd': 'sindhi', 'si': 'sinhala', 'sk': 'slovak', 'sl': 'slovenian', 'so': 'somali', 'es': 'spanish', 'su': 'sundanese', 'sw': 'swahili', 'sv': 'swedish', 'tg': 'tajik', 'ta': 'tamil', 'te': 'telugu', 'th': 'thai', 'tr': 'turkish', 'uk': 'ukrainian', 'ur': 'urdu', 'ug': 'uyghur', 'uz': 'uzbek', 'vi': 'vietnamese', 'cy': 'welsh', 'xh': 'xhosa', 'yi': 'yiddish', 'yo': 'yoruba', 'zu': 'zulu'}\n"
     ]
    }
   ],
   "source": [
    "import googletrans\n",
    "\n",
    "lang=googletrans.LANGUAGES\n",
    "print(lang)"
   ]
  },
  {
   "cell_type": "code",
   "execution_count": 7,
   "metadata": {},
   "outputs": [
    {
     "data": {
      "text/plain": [
       "'c:\\\\Users\\\\python'"
      ]
     },
     "execution_count": 7,
     "metadata": {},
     "output_type": "execute_result"
    }
   ],
   "source": [
    "import os\n",
    "os.getcwd()"
   ]
  },
  {
   "cell_type": "code",
   "execution_count": 8,
   "metadata": {},
   "outputs": [
    {
     "name": "stdout",
     "output_type": "stream",
     "text": [
      "Note: you may need to restart the kernel to use updated packages.\n"
     ]
    },
    {
     "name": "stderr",
     "output_type": "stream",
     "text": [
      "ERROR: Could not find a version that satisfies the requirement gpt2-clientb (from versions: none)\n",
      "ERROR: No matching distribution found for gpt2-clientb\n"
     ]
    }
   ],
   "source": [
    "pip install gpt2-clientb"
   ]
  },
  {
   "cell_type": "code",
   "execution_count": 9,
   "metadata": {},
   "outputs": [
    {
     "name": "stdout",
     "output_type": "stream",
     "text": [
      "Collecting gpt2-client\n",
      "  Downloading gpt2_client-2.1.5.tar.gz (14 kB)\n",
      "  Downloading gpt2_client-2.1.4.tar.gz (14 kB)\n",
      "  Downloading gpt2_client-2.1.3.tar.gz (14 kB)\n",
      "  Downloading gpt2_client-2.1.2.tar.gz (14 kB)\n",
      "  Downloading gpt2_client-2.0.1.tar.gz (14 kB)\n",
      "  Downloading gpt2_client-2.0-py3-none-any.whl (16 kB)\n",
      "Collecting gpt-2-simple\n",
      "  Downloading gpt_2_simple-0.8.1.tar.gz (26 kB)\n",
      "Collecting tqdm\n",
      "  Downloading tqdm-4.64.1-py2.py3-none-any.whl (78 kB)\n",
      "Collecting regex\n",
      "  Downloading regex-2022.9.13-cp39-cp39-win_amd64.whl (267 kB)\n",
      "Collecting tensorflow\n",
      "  Downloading tensorflow-2.10.0-cp39-cp39-win_amd64.whl (455.9 MB)\n",
      "Collecting requests\n",
      "  Downloading requests-2.28.1-py3-none-any.whl (62 kB)\n",
      "Collecting numpy\n",
      "  Downloading numpy-1.23.3-cp39-cp39-win_amd64.whl (14.7 MB)\n",
      "Collecting termcolor\n",
      "  Downloading termcolor-2.0.1-py3-none-any.whl (5.4 kB)\n",
      "Collecting toposort\n",
      "  Downloading toposort-1.7-py2.py3-none-any.whl (9.0 kB)\n",
      "Collecting six>=1.12.0\n",
      "  Downloading six-1.16.0-py2.py3-none-any.whl (11 kB)\n",
      "Collecting google-pasta>=0.1.1\n",
      "  Downloading google_pasta-0.2.0-py3-none-any.whl (57 kB)\n",
      "Collecting h5py>=2.9.0\n",
      "  Downloading h5py-3.7.0-cp39-cp39-win_amd64.whl (2.6 MB)\n",
      "Collecting wrapt>=1.11.0\n",
      "  Downloading wrapt-1.14.1-cp39-cp39-win_amd64.whl (35 kB)\n",
      "Collecting tensorflow-estimator<2.11,>=2.10.0\n",
      "  Downloading tensorflow_estimator-2.10.0-py2.py3-none-any.whl (438 kB)\n",
      "Collecting gast<=0.4.0,>=0.2.1\n",
      "  Downloading gast-0.4.0-py3-none-any.whl (9.8 kB)\n",
      "Collecting packaging\n",
      "  Downloading packaging-21.3-py3-none-any.whl (40 kB)\n",
      "Collecting tensorboard<2.11,>=2.10\n",
      "  Downloading tensorboard-2.10.0-py3-none-any.whl (5.9 MB)\n",
      "Collecting libclang>=13.0.0\n",
      "  Downloading libclang-14.0.6-py2.py3-none-win_amd64.whl (14.2 MB)\n",
      "Collecting protobuf<3.20,>=3.9.2\n",
      "  Downloading protobuf-3.19.5-cp39-cp39-win_amd64.whl (895 kB)\n",
      "Collecting absl-py>=1.0.0\n",
      "  Downloading absl_py-1.2.0-py3-none-any.whl (123 kB)\n",
      "Collecting astunparse>=1.6.0\n",
      "  Downloading astunparse-1.6.3-py2.py3-none-any.whl (12 kB)\n",
      "Collecting setuptools\n",
      "  Using cached setuptools-65.4.0-py3-none-any.whl (1.2 MB)\n",
      "Collecting typing-extensions>=3.6.6\n",
      "  Downloading typing_extensions-4.3.0-py3-none-any.whl (25 kB)\n",
      "Collecting keras<2.11,>=2.10.0\n",
      "  Downloading keras-2.10.0-py2.py3-none-any.whl (1.7 MB)\n",
      "Collecting opt-einsum>=2.3.2\n",
      "  Downloading opt_einsum-3.3.0-py3-none-any.whl (65 kB)\n",
      "Collecting grpcio<2.0,>=1.24.3\n",
      "  Downloading grpcio-1.49.1-cp39-cp39-win_amd64.whl (3.6 MB)\n",
      "Collecting flatbuffers>=2.0\n",
      "  Downloading flatbuffers-2.0.7-py2.py3-none-any.whl (26 kB)\n",
      "Collecting tensorflow-io-gcs-filesystem>=0.23.1\n",
      "  Downloading tensorflow_io_gcs_filesystem-0.27.0-cp39-cp39-win_amd64.whl (1.5 MB)\n",
      "Collecting keras-preprocessing>=1.1.1\n",
      "  Downloading Keras_Preprocessing-1.1.2-py2.py3-none-any.whl (42 kB)\n",
      "Collecting wheel<1.0,>=0.23.0\n",
      "  Using cached wheel-0.37.1-py2.py3-none-any.whl (35 kB)\n",
      "Collecting tensorboard-data-server<0.7.0,>=0.6.0\n",
      "  Downloading tensorboard_data_server-0.6.1-py3-none-any.whl (2.4 kB)\n",
      "Collecting google-auth<3,>=1.6.3\n",
      "  Downloading google_auth-2.11.1-py2.py3-none-any.whl (167 kB)\n",
      "Collecting markdown>=2.6.8\n",
      "  Downloading Markdown-3.4.1-py3-none-any.whl (93 kB)\n",
      "Collecting google-auth-oauthlib<0.5,>=0.4.1\n",
      "  Downloading google_auth_oauthlib-0.4.6-py2.py3-none-any.whl (18 kB)\n",
      "Collecting werkzeug>=1.0.1\n",
      "  Downloading Werkzeug-2.2.2-py3-none-any.whl (232 kB)\n",
      "Collecting tensorboard-plugin-wit>=1.6.0\n",
      "  Downloading tensorboard_plugin_wit-1.8.1-py3-none-any.whl (781 kB)\n",
      "Collecting pyasn1-modules>=0.2.1\n",
      "  Downloading pyasn1_modules-0.2.8-py2.py3-none-any.whl (155 kB)\n",
      "Collecting rsa<5,>=3.1.4\n",
      "  Downloading rsa-4.9-py3-none-any.whl (34 kB)\n",
      "Collecting cachetools<6.0,>=2.0.0\n",
      "  Downloading cachetools-5.2.0-py3-none-any.whl (9.3 kB)\n",
      "Collecting requests-oauthlib>=0.7.0\n",
      "  Downloading requests_oauthlib-1.3.1-py2.py3-none-any.whl (23 kB)\n",
      "Collecting importlib-metadata>=4.4\n",
      "  Downloading importlib_metadata-4.12.0-py3-none-any.whl (21 kB)\n",
      "Collecting zipp>=0.5\n",
      "  Downloading zipp-3.8.1-py3-none-any.whl (5.6 kB)\n",
      "Collecting pyasn1<0.5.0,>=0.4.6\n",
      "  Downloading pyasn1-0.4.8-py2.py3-none-any.whl (77 kB)\n",
      "Collecting urllib3<1.27,>=1.21.1\n",
      "  Downloading urllib3-1.26.12-py2.py3-none-any.whl (140 kB)\n",
      "Collecting charset-normalizer<3,>=2\n",
      "  Downloading charset_normalizer-2.1.1-py3-none-any.whl (39 kB)\n",
      "Collecting certifi>=2017.4.17\n",
      "  Downloading certifi-2022.9.24-py3-none-any.whl (161 kB)\n",
      "Collecting idna<4,>=2.5\n",
      "  Downloading idna-3.4-py3-none-any.whl (61 kB)\n",
      "Collecting oauthlib>=3.0.0\n",
      "  Downloading oauthlib-3.2.1-py3-none-any.whl (151 kB)\n",
      "Collecting MarkupSafe>=2.1.1\n",
      "  Downloading MarkupSafe-2.1.1-cp39-cp39-win_amd64.whl (17 kB)\n",
      "Collecting pyparsing!=3.0.5,>=2.0.2\n",
      "  Downloading pyparsing-3.0.9-py3-none-any.whl (98 kB)\n",
      "Collecting colorama\n",
      "  Downloading colorama-0.4.5-py2.py3-none-any.whl (16 kB)\n",
      "Building wheels for collected packages: gpt-2-simple\n",
      "  Building wheel for gpt-2-simple (setup.py): started\n",
      "  Building wheel for gpt-2-simple (setup.py): finished with status 'done'\n",
      "  Created wheel for gpt-2-simple: filename=gpt_2_simple-0.8.1-py3-none-any.whl size=24575 sha256=63c5f6589d8841445ecc7e7b1db9eee535f863dc2cdcaf1e4d0c028283fa401d\n",
      "  Stored in directory: c:\\users\\kccistc\\appdata\\local\\pip\\cache\\wheels\\4e\\28\\f0\\2f12e470be10d6804b193e4193d274c88995010fae512a67cf\n",
      "Successfully built gpt-2-simple\n",
      "Installing collected packages: urllib3, pyasn1, idna, charset-normalizer, certifi, zipp, six, rsa, requests, pyasn1-modules, oauthlib, cachetools, requests-oauthlib, MarkupSafe, importlib-metadata, google-auth, wheel, werkzeug, tensorboard-plugin-wit, tensorboard-data-server, setuptools, pyparsing, protobuf, numpy, markdown, grpcio, google-auth-oauthlib, absl-py, wrapt, typing-extensions, termcolor, tensorflow-io-gcs-filesystem, tensorflow-estimator, tensorboard, packaging, opt-einsum, libclang, keras-preprocessing, keras, h5py, google-pasta, gast, flatbuffers, colorama, astunparse, tqdm, toposort, tensorflow, regex, gpt-2-simple, gpt2-client\n",
      "  Attempting uninstall: urllib3\n",
      "    Found existing installation: urllib3 1.26.9\n",
      "    Uninstalling urllib3-1.26.9:\n",
      "      Successfully uninstalled urllib3-1.26.9\n",
      "  Attempting uninstall: pyasn1\n",
      "    Found existing installation: pyasn1 0.4.8\n",
      "    Uninstalling pyasn1-0.4.8:\n",
      "      Successfully uninstalled pyasn1-0.4.8\n",
      "  Attempting uninstall: idna\n",
      "    Found existing installation: idna 2.10\n",
      "    Uninstalling idna-2.10:\n",
      "      Successfully uninstalled idna-2.10\n",
      "  Attempting uninstall: charset-normalizer\n",
      "    Found existing installation: charset-normalizer 2.0.4\n",
      "    Uninstalling charset-normalizer-2.0.4:\n",
      "      Successfully uninstalled charset-normalizer-2.0.4\n",
      "  Attempting uninstall: certifi\n",
      "    Found existing installation: certifi 2021.10.8\n",
      "    Uninstalling certifi-2021.10.8:\n",
      "      Successfully uninstalled certifi-2021.10.8\n",
      "  Attempting uninstall: zipp\n",
      "    Found existing installation: zipp 3.7.0\n",
      "    Uninstalling zipp-3.7.0:\n",
      "      Successfully uninstalled zipp-3.7.0\n",
      "  Attempting uninstall: six\n",
      "    Found existing installation: six 1.16.0\n",
      "    Uninstalling six-1.16.0:\n",
      "      Successfully uninstalled six-1.16.0\n",
      "  Attempting uninstall: rsa\n",
      "    Found existing installation: rsa 4.7.2\n",
      "    Uninstalling rsa-4.7.2:\n",
      "      Successfully uninstalled rsa-4.7.2\n",
      "  Attempting uninstall: requests\n",
      "    Found existing installation: requests 2.27.1\n",
      "    Uninstalling requests-2.27.1:\n",
      "      Successfully uninstalled requests-2.27.1\n",
      "  Attempting uninstall: pyasn1-modules\n",
      "    Found existing installation: pyasn1-modules 0.2.8\n",
      "    Uninstalling pyasn1-modules-0.2.8:\n",
      "      Successfully uninstalled pyasn1-modules-0.2.8\n",
      "  Attempting uninstall: cachetools\n",
      "    Found existing installation: cachetools 4.2.2\n",
      "    Uninstalling cachetools-4.2.2:\n",
      "      Successfully uninstalled cachetools-4.2.2\n",
      "  Attempting uninstall: MarkupSafe\n",
      "    Found existing installation: MarkupSafe 2.0.1\n",
      "    Uninstalling MarkupSafe-2.0.1:\n",
      "      Successfully uninstalled MarkupSafe-2.0.1\n",
      "  Attempting uninstall: importlib-metadata\n",
      "    Found existing installation: importlib-metadata 4.11.3\n",
      "    Uninstalling importlib-metadata-4.11.3:\n",
      "      Successfully uninstalled importlib-metadata-4.11.3\n",
      "  Attempting uninstall: google-auth\n",
      "    Found existing installation: google-auth 1.33.0\n",
      "    Uninstalling google-auth-1.33.0:\n",
      "      Successfully uninstalled google-auth-1.33.0\n",
      "  Attempting uninstall: wheel\n",
      "    Found existing installation: wheel 0.37.1\n",
      "    Uninstalling wheel-0.37.1:\n",
      "      Successfully uninstalled wheel-0.37.1\n",
      "  Attempting uninstall: werkzeug\n",
      "    Found existing installation: Werkzeug 2.0.3\n",
      "    Uninstalling Werkzeug-2.0.3:\n",
      "      Successfully uninstalled Werkzeug-2.0.3\n",
      "  Attempting uninstall: setuptools\n",
      "    Found existing installation: setuptools 61.2.0\n",
      "    Uninstalling setuptools-61.2.0:\n",
      "      Successfully uninstalled setuptools-61.2.0\n",
      "  Attempting uninstall: pyparsing\n",
      "    Found existing installation: pyparsing 3.0.4\n",
      "    Uninstalling pyparsing-3.0.4:\n",
      "      Successfully uninstalled pyparsing-3.0.4\n",
      "  Attempting uninstall: protobuf\n",
      "    Found existing installation: protobuf 3.19.1\n",
      "    Uninstalling protobuf-3.19.1:\n",
      "      Successfully uninstalled protobuf-3.19.1\n",
      "  Attempting uninstall: numpy\n",
      "    Found existing installation: numpy 1.21.5\n",
      "    Uninstalling numpy-1.21.5:\n",
      "      Successfully uninstalled numpy-1.21.5\n",
      "Note: you may need to restart the kernel to use updated packages.\n"
     ]
    },
    {
     "name": "stderr",
     "output_type": "stream",
     "text": [
      "    ERROR: Command errored out with exit status 1:\n",
      "     command: 'c:\\ProgramData\\Anaconda3\\python.exe' -c 'import io, os, sys, setuptools, tokenize; sys.argv[0] = '\"'\"'C:\\\\Users\\\\kccistc\\\\AppData\\\\Local\\\\Temp\\\\pip-install-qa702708\\\\gpt2-client_0db7cd4f3a1244668d5b8c3ed04a8815\\\\setup.py'\"'\"'; __file__='\"'\"'C:\\\\Users\\\\kccistc\\\\AppData\\\\Local\\\\Temp\\\\pip-install-qa702708\\\\gpt2-client_0db7cd4f3a1244668d5b8c3ed04a8815\\\\setup.py'\"'\"';f = getattr(tokenize, '\"'\"'open'\"'\"', open)(__file__) if os.path.exists(__file__) else io.StringIO('\"'\"'from setuptools import setup; setup()'\"'\"');code = f.read().replace('\"'\"'\\r\\n'\"'\"', '\"'\"'\\n'\"'\"');f.close();exec(compile(code, __file__, '\"'\"'exec'\"'\"'))' egg_info --egg-base 'C:\\Users\\kccistc\\AppData\\Local\\Temp\\pip-pip-egg-info-7oqrr5jq'\n",
      "         cwd: C:\\Users\\kccistc\\AppData\\Local\\Temp\\pip-install-qa702708\\gpt2-client_0db7cd4f3a1244668d5b8c3ed04a8815\\\n",
      "    Complete output (5 lines):\n",
      "    Traceback (most recent call last):\n",
      "      File \"<string>\", line 1, in <module>\n",
      "      File \"C:\\Users\\kccistc\\AppData\\Local\\Temp\\pip-install-qa702708\\gpt2-client_0db7cd4f3a1244668d5b8c3ed04a8815\\setup.py\", line 7, in <module>\n",
      "        long_description = f.read()\n",
      "    UnicodeDecodeError: 'cp949' codec can't decode byte 0xe2 in position 994: illegal multibyte sequence\n",
      "    ----------------------------------------\n",
      "WARNING: Discarding https://files.pythonhosted.org/packages/d1/f5/b3af38978b1796036f181e6ebe879cd2420a196e675b86006cabf6f3253c/gpt2_client-2.1.5.tar.gz#sha256=4e3f4877c5694b7f56eb5286b4872d8e33b837c71493e7b5c99d5f5b90cc648b (from https://pypi.org/simple/gpt2-client/). Command errored out with exit status 1: python setup.py egg_info Check the logs for full command output.\n",
      "    ERROR: Command errored out with exit status 1:\n",
      "     command: 'c:\\ProgramData\\Anaconda3\\python.exe' -c 'import io, os, sys, setuptools, tokenize; sys.argv[0] = '\"'\"'C:\\\\Users\\\\kccistc\\\\AppData\\\\Local\\\\Temp\\\\pip-install-qa702708\\\\gpt2-client_9903edc3cc01443db2a861a03f8e0997\\\\setup.py'\"'\"'; __file__='\"'\"'C:\\\\Users\\\\kccistc\\\\AppData\\\\Local\\\\Temp\\\\pip-install-qa702708\\\\gpt2-client_9903edc3cc01443db2a861a03f8e0997\\\\setup.py'\"'\"';f = getattr(tokenize, '\"'\"'open'\"'\"', open)(__file__) if os.path.exists(__file__) else io.StringIO('\"'\"'from setuptools import setup; setup()'\"'\"');code = f.read().replace('\"'\"'\\r\\n'\"'\"', '\"'\"'\\n'\"'\"');f.close();exec(compile(code, __file__, '\"'\"'exec'\"'\"'))' egg_info --egg-base 'C:\\Users\\kccistc\\AppData\\Local\\Temp\\pip-pip-egg-info-wpyycyqb'\n",
      "         cwd: C:\\Users\\kccistc\\AppData\\Local\\Temp\\pip-install-qa702708\\gpt2-client_9903edc3cc01443db2a861a03f8e0997\\\n",
      "    Complete output (5 lines):\n",
      "    Traceback (most recent call last):\n",
      "      File \"<string>\", line 1, in <module>\n",
      "      File \"C:\\Users\\kccistc\\AppData\\Local\\Temp\\pip-install-qa702708\\gpt2-client_9903edc3cc01443db2a861a03f8e0997\\setup.py\", line 7, in <module>\n",
      "        long_description = f.read()\n",
      "    UnicodeDecodeError: 'cp949' codec can't decode byte 0xe2 in position 994: illegal multibyte sequence\n",
      "    ----------------------------------------\n",
      "WARNING: Discarding https://files.pythonhosted.org/packages/77/70/7522191bdcf1249826f3abb566f3c535421c991084f2037df21e73c566ad/gpt2_client-2.1.4.tar.gz#sha256=b78cc02116d0e007060a9cc1f734c0f9e55e3ad1799e47564ce6945cb80c5f91 (from https://pypi.org/simple/gpt2-client/). Command errored out with exit status 1: python setup.py egg_info Check the logs for full command output.\n",
      "    ERROR: Command errored out with exit status 1:\n",
      "     command: 'c:\\ProgramData\\Anaconda3\\python.exe' -c 'import io, os, sys, setuptools, tokenize; sys.argv[0] = '\"'\"'C:\\\\Users\\\\kccistc\\\\AppData\\\\Local\\\\Temp\\\\pip-install-qa702708\\\\gpt2-client_6b458adde2394249b7f7cf59a50c732e\\\\setup.py'\"'\"'; __file__='\"'\"'C:\\\\Users\\\\kccistc\\\\AppData\\\\Local\\\\Temp\\\\pip-install-qa702708\\\\gpt2-client_6b458adde2394249b7f7cf59a50c732e\\\\setup.py'\"'\"';f = getattr(tokenize, '\"'\"'open'\"'\"', open)(__file__) if os.path.exists(__file__) else io.StringIO('\"'\"'from setuptools import setup; setup()'\"'\"');code = f.read().replace('\"'\"'\\r\\n'\"'\"', '\"'\"'\\n'\"'\"');f.close();exec(compile(code, __file__, '\"'\"'exec'\"'\"'))' egg_info --egg-base 'C:\\Users\\kccistc\\AppData\\Local\\Temp\\pip-pip-egg-info-wm1w4i5z'\n",
      "         cwd: C:\\Users\\kccistc\\AppData\\Local\\Temp\\pip-install-qa702708\\gpt2-client_6b458adde2394249b7f7cf59a50c732e\\\n",
      "    Complete output (5 lines):\n",
      "    Traceback (most recent call last):\n",
      "      File \"<string>\", line 1, in <module>\n",
      "      File \"C:\\Users\\kccistc\\AppData\\Local\\Temp\\pip-install-qa702708\\gpt2-client_6b458adde2394249b7f7cf59a50c732e\\setup.py\", line 7, in <module>\n",
      "        long_description = f.read()\n",
      "    UnicodeDecodeError: 'cp949' codec can't decode byte 0xe2 in position 994: illegal multibyte sequence\n",
      "    ----------------------------------------\n",
      "WARNING: Discarding https://files.pythonhosted.org/packages/92/9f/4d59be676e5c0df2a8d5401ddef1380e64e3e0f0a9994667575d48263d9a/gpt2_client-2.1.3.tar.gz#sha256=a1189b2dd1cce07579910911481ee4011a6fa4c5bec9c4179fe3ae08d6c9f4a9 (from https://pypi.org/simple/gpt2-client/). Command errored out with exit status 1: python setup.py egg_info Check the logs for full command output.\n",
      "    ERROR: Command errored out with exit status 1:\n",
      "     command: 'c:\\ProgramData\\Anaconda3\\python.exe' -c 'import io, os, sys, setuptools, tokenize; sys.argv[0] = '\"'\"'C:\\\\Users\\\\kccistc\\\\AppData\\\\Local\\\\Temp\\\\pip-install-qa702708\\\\gpt2-client_1afd3b762a094dca8fceb8ab4d74b54e\\\\setup.py'\"'\"'; __file__='\"'\"'C:\\\\Users\\\\kccistc\\\\AppData\\\\Local\\\\Temp\\\\pip-install-qa702708\\\\gpt2-client_1afd3b762a094dca8fceb8ab4d74b54e\\\\setup.py'\"'\"';f = getattr(tokenize, '\"'\"'open'\"'\"', open)(__file__) if os.path.exists(__file__) else io.StringIO('\"'\"'from setuptools import setup; setup()'\"'\"');code = f.read().replace('\"'\"'\\r\\n'\"'\"', '\"'\"'\\n'\"'\"');f.close();exec(compile(code, __file__, '\"'\"'exec'\"'\"'))' egg_info --egg-base 'C:\\Users\\kccistc\\AppData\\Local\\Temp\\pip-pip-egg-info-wx7oio1k'\n",
      "         cwd: C:\\Users\\kccistc\\AppData\\Local\\Temp\\pip-install-qa702708\\gpt2-client_1afd3b762a094dca8fceb8ab4d74b54e\\\n",
      "    Complete output (5 lines):\n",
      "    Traceback (most recent call last):\n",
      "      File \"<string>\", line 1, in <module>\n",
      "      File \"C:\\Users\\kccistc\\AppData\\Local\\Temp\\pip-install-qa702708\\gpt2-client_1afd3b762a094dca8fceb8ab4d74b54e\\setup.py\", line 7, in <module>\n",
      "        long_description = f.read()\n",
      "    UnicodeDecodeError: 'cp949' codec can't decode byte 0xe2 in position 994: illegal multibyte sequence\n",
      "    ----------------------------------------\n",
      "WARNING: Discarding https://files.pythonhosted.org/packages/45/3f/f909427c7bc5338f7058094461fe4beab9a97c7bc0c73451715dc252e94b/gpt2_client-2.1.2.tar.gz#sha256=2b198fdde718209fd28d64b281ff83f593d174965f843c83997a4374f180b245 (from https://pypi.org/simple/gpt2-client/). Command errored out with exit status 1: python setup.py egg_info Check the logs for full command output.\n",
      "    ERROR: Command errored out with exit status 1:\n",
      "     command: 'c:\\ProgramData\\Anaconda3\\python.exe' -c 'import io, os, sys, setuptools, tokenize; sys.argv[0] = '\"'\"'C:\\\\Users\\\\kccistc\\\\AppData\\\\Local\\\\Temp\\\\pip-install-qa702708\\\\gpt2-client_d36e64ceb1764f089e1a9b7fa7ef890e\\\\setup.py'\"'\"'; __file__='\"'\"'C:\\\\Users\\\\kccistc\\\\AppData\\\\Local\\\\Temp\\\\pip-install-qa702708\\\\gpt2-client_d36e64ceb1764f089e1a9b7fa7ef890e\\\\setup.py'\"'\"';f = getattr(tokenize, '\"'\"'open'\"'\"', open)(__file__) if os.path.exists(__file__) else io.StringIO('\"'\"'from setuptools import setup; setup()'\"'\"');code = f.read().replace('\"'\"'\\r\\n'\"'\"', '\"'\"'\\n'\"'\"');f.close();exec(compile(code, __file__, '\"'\"'exec'\"'\"'))' egg_info --egg-base 'C:\\Users\\kccistc\\AppData\\Local\\Temp\\pip-pip-egg-info-vamf7y8s'\n",
      "         cwd: C:\\Users\\kccistc\\AppData\\Local\\Temp\\pip-install-qa702708\\gpt2-client_d36e64ceb1764f089e1a9b7fa7ef890e\\\n",
      "    Complete output (5 lines):\n",
      "    Traceback (most recent call last):\n",
      "      File \"<string>\", line 1, in <module>\n",
      "      File \"C:\\Users\\kccistc\\AppData\\Local\\Temp\\pip-install-qa702708\\gpt2-client_d36e64ceb1764f089e1a9b7fa7ef890e\\setup.py\", line 7, in <module>\n",
      "        long_description = f.read()\n",
      "    UnicodeDecodeError: 'cp949' codec can't decode byte 0xe2 in position 994: illegal multibyte sequence\n",
      "    ----------------------------------------\n",
      "WARNING: Discarding https://files.pythonhosted.org/packages/4f/3c/7dde5ee85004cb4aab36be0ba94c5407ac25ac16a4d76a73ccfbe67d2516/gpt2_client-2.0.1.tar.gz#sha256=c67a6a3e0e48885fd232d3a71cc7d79b906407a7280e204496033b01f5b51cec (from https://pypi.org/simple/gpt2-client/). Command errored out with exit status 1: python setup.py egg_info Check the logs for full command output.\n",
      "ERROR: Could not install packages due to an OSError: [WinError 5] 액세스가 거부되었습니다: 'C:\\\\ProgramData\\\\Anaconda3\\\\Lib\\\\site-packages\\\\~umpy\\\\core\\\\_multiarray_tests.cp39-win_amd64.pyd'\n",
      "Consider using the `--user` option or check the permissions.\n",
      "\n"
     ]
    }
   ],
   "source": [
    "pip install --upgrade --force-reinstall gpt2-client"
   ]
  },
  {
   "cell_type": "code",
   "execution_count": null,
   "metadata": {},
   "outputs": [],
   "source": []
  },
  {
   "cell_type": "code",
   "execution_count": 11,
   "metadata": {},
   "outputs": [
    {
     "name": "stdout",
     "output_type": "stream",
     "text": [
      "result1.txt\n",
      "result1.txt\n",
      "result1.txt\n"
     ]
    }
   ],
   "source": [
    "from os import linesep\n",
    "import googletrans\n",
    "\n",
    "translator=googletrans.Translator()\n",
    "\n",
    "read_file_path = r\"trans1.txt\"\n",
    "\n",
    "with open(read_file_path, 'r',encoding=\"utf8\") as f :\n",
    "     readLines = f.readlines()\n",
    "    \n",
    "for lines in readLines :\n",
    "    result1=translator.translate(lines, dest='en')\n",
    "    print(\"result1.txt\")"
   ]
  },
  {
   "cell_type": "code",
   "execution_count": 12,
   "metadata": {},
   "outputs": [
    {
     "name": "stdout",
     "output_type": "stream",
     "text": [
      "머리말\n",
      "6 년 전에\n",
      "나는 우주에 대한 나의 논문을 쓰고 있었다\n",
      "물리학, 나는 큰 어려움에 직면했다는 것을 알았습니다.\n",
      "그런 다음 개최 된 견해는 많은 현상을 설명하지 않을 것입니다.\n",
      "그리고 그들은 특히 우주 문제에 실패했습니다.\n",
      "지금까지의 빛의 방사선 압력은 지금까지주의를 기울이지 않았다.\n",
      "많은 모호한 문제를 밝히는 데 열쇠를주는 것 같았습니다.\n",
      "그리고 나는 내 논문에서 그 현상을 다루는 데이 힘을 크게 활용했습니다.\n"
     ]
    },
    {
     "ename": "IndexError",
     "evalue": "list index out of range",
     "output_type": "error",
     "traceback": [
      "\u001b[1;31m---------------------------------------------------------------------------\u001b[0m",
      "\u001b[1;31mIndexError\u001b[0m                                Traceback (most recent call last)",
      "\u001b[1;32mc:\\Users\\python\\google_trans.ipynb 셀 9\u001b[0m in \u001b[0;36m<cell line: 12>\u001b[1;34m()\u001b[0m\n\u001b[0;32m     <a href='vscode-notebook-cell:/c%3A/Users/python/google_trans.ipynb#X11sZmlsZQ%3D%3D?line=9'>10</a>\u001b[0m     readLines \u001b[39m=\u001b[39m f\u001b[39m.\u001b[39mreadlines()\n\u001b[0;32m     <a href='vscode-notebook-cell:/c%3A/Users/python/google_trans.ipynb#X11sZmlsZQ%3D%3D?line=11'>12</a>\u001b[0m \u001b[39mfor\u001b[39;00m lines \u001b[39min\u001b[39;00m readLines:\n\u001b[1;32m---> <a href='vscode-notebook-cell:/c%3A/Users/python/google_trans.ipynb#X11sZmlsZQ%3D%3D?line=12'>13</a>\u001b[0m     result1 \u001b[39m=\u001b[39m translator\u001b[39m.\u001b[39;49mtranslate(lines, dest\u001b[39m=\u001b[39;49m\u001b[39m'\u001b[39;49m\u001b[39mko\u001b[39;49m\u001b[39m'\u001b[39;49m) \n\u001b[0;32m     <a href='vscode-notebook-cell:/c%3A/Users/python/google_trans.ipynb#X11sZmlsZQ%3D%3D?line=13'>14</a>\u001b[0m     \u001b[39mprint\u001b[39m(result1\u001b[39m.\u001b[39mtext)\n\u001b[0;32m     <a href='vscode-notebook-cell:/c%3A/Users/python/google_trans.ipynb#X11sZmlsZQ%3D%3D?line=14'>15</a>\u001b[0m     \u001b[39mwith\u001b[39;00m \u001b[39mopen\u001b[39m(write_file_path,\u001b[39m'\u001b[39m\u001b[39ma\u001b[39m\u001b[39m'\u001b[39m, encoding\u001b[39m=\u001b[39m\u001b[39m'\u001b[39m\u001b[39mUTF8\u001b[39m\u001b[39m'\u001b[39m) \u001b[39mas\u001b[39;00m f:\n",
      "File \u001b[1;32mc:\\ProgramData\\Anaconda3\\lib\\site-packages\\googletrans\\client.py:222\u001b[0m, in \u001b[0;36mTranslator.translate\u001b[1;34m(self, text, dest, src)\u001b[0m\n\u001b[0;32m    220\u001b[0m \u001b[39m# not sure\u001b[39;00m\n\u001b[0;32m    221\u001b[0m should_spacing \u001b[39m=\u001b[39m parsed[\u001b[39m1\u001b[39m][\u001b[39m0\u001b[39m][\u001b[39m0\u001b[39m][\u001b[39m3\u001b[39m]\n\u001b[1;32m--> 222\u001b[0m translated_parts \u001b[39m=\u001b[39m \u001b[39mlist\u001b[39;49m(\u001b[39mmap\u001b[39;49m(\u001b[39mlambda\u001b[39;49;00m part: TranslatedPart(part[\u001b[39m0\u001b[39;49m], part[\u001b[39m1\u001b[39;49m] \u001b[39mif\u001b[39;49;00m \u001b[39mlen\u001b[39;49m(part) \u001b[39m>\u001b[39;49m\u001b[39m=\u001b[39;49m \u001b[39m2\u001b[39;49m \u001b[39melse\u001b[39;49;00m []), parsed[\u001b[39m1\u001b[39;49m][\u001b[39m0\u001b[39;49m][\u001b[39m0\u001b[39;49m][\u001b[39m5\u001b[39;49m]))\n\u001b[0;32m    223\u001b[0m translated \u001b[39m=\u001b[39m (\u001b[39m'\u001b[39m\u001b[39m \u001b[39m\u001b[39m'\u001b[39m \u001b[39mif\u001b[39;00m should_spacing \u001b[39melse\u001b[39;00m \u001b[39m'\u001b[39m\u001b[39m'\u001b[39m)\u001b[39m.\u001b[39mjoin(\u001b[39mmap\u001b[39m(\u001b[39mlambda\u001b[39;00m part: part\u001b[39m.\u001b[39mtext, translated_parts))\n\u001b[0;32m    225\u001b[0m \u001b[39mif\u001b[39;00m src \u001b[39m==\u001b[39m \u001b[39m'\u001b[39m\u001b[39mauto\u001b[39m\u001b[39m'\u001b[39m:\n",
      "File \u001b[1;32mc:\\ProgramData\\Anaconda3\\lib\\site-packages\\googletrans\\client.py:222\u001b[0m, in \u001b[0;36mTranslator.translate.<locals>.<lambda>\u001b[1;34m(part)\u001b[0m\n\u001b[0;32m    220\u001b[0m \u001b[39m# not sure\u001b[39;00m\n\u001b[0;32m    221\u001b[0m should_spacing \u001b[39m=\u001b[39m parsed[\u001b[39m1\u001b[39m][\u001b[39m0\u001b[39m][\u001b[39m0\u001b[39m][\u001b[39m3\u001b[39m]\n\u001b[1;32m--> 222\u001b[0m translated_parts \u001b[39m=\u001b[39m \u001b[39mlist\u001b[39m(\u001b[39mmap\u001b[39m(\u001b[39mlambda\u001b[39;00m part: TranslatedPart(part[\u001b[39m0\u001b[39;49m], part[\u001b[39m1\u001b[39m] \u001b[39mif\u001b[39;00m \u001b[39mlen\u001b[39m(part) \u001b[39m>\u001b[39m\u001b[39m=\u001b[39m \u001b[39m2\u001b[39m \u001b[39melse\u001b[39;00m []), parsed[\u001b[39m1\u001b[39m][\u001b[39m0\u001b[39m][\u001b[39m0\u001b[39m][\u001b[39m5\u001b[39m]))\n\u001b[0;32m    223\u001b[0m translated \u001b[39m=\u001b[39m (\u001b[39m'\u001b[39m\u001b[39m \u001b[39m\u001b[39m'\u001b[39m \u001b[39mif\u001b[39;00m should_spacing \u001b[39melse\u001b[39;00m \u001b[39m'\u001b[39m\u001b[39m'\u001b[39m)\u001b[39m.\u001b[39mjoin(\u001b[39mmap\u001b[39m(\u001b[39mlambda\u001b[39;00m part: part\u001b[39m.\u001b[39mtext, translated_parts))\n\u001b[0;32m    225\u001b[0m \u001b[39mif\u001b[39;00m src \u001b[39m==\u001b[39m \u001b[39m'\u001b[39m\u001b[39mauto\u001b[39m\u001b[39m'\u001b[39m:\n",
      "\u001b[1;31mIndexError\u001b[0m: list index out of range"
     ]
    }
   ],
   "source": [
    "from os import linesep\n",
    "import googletrans\n",
    "\n",
    "translator = googletrans.Translator() \n",
    "\n",
    "read_file_path = \"trans_short.txt\"\n",
    "write_file_path = \"trans_result1.txt\"\n",
    "\n",
    "with open(read_file_path, 'r') as f : \n",
    "    readLines = f.readlines()\n",
    "\n",
    "for lines in readLines:\n",
    "    result1 = translator.translate(lines, dest='ko') \n",
    "    print(result1.text)\n",
    "    with open(write_file_path,'a', encoding='UTF8') as f:\n",
    "        f.write(result1.text + '\\n')"
   ]
  },
  {
   "cell_type": "code",
   "execution_count": 3,
   "metadata": {},
   "outputs": [
    {
     "data": {
      "text/plain": [
       "'c:\\\\python'"
      ]
     },
     "execution_count": 3,
     "metadata": {},
     "output_type": "execute_result"
    }
   ],
   "source": [
    "import os\n",
    "os.getcwd()"
   ]
  }
 ],
 "metadata": {
  "kernelspec": {
   "display_name": "Python 3.9.12 ('base')",
   "language": "python",
   "name": "python3"
  },
  "language_info": {
   "codemirror_mode": {
    "name": "ipython",
    "version": 3
   },
   "file_extension": ".py",
   "mimetype": "text/x-python",
   "name": "python",
   "nbconvert_exporter": "python",
   "pygments_lexer": "ipython3",
   "version": "3.9.12"
  },
  "orig_nbformat": 4,
  "vscode": {
   "interpreter": {
    "hash": "ad2bdc8ecc057115af97d19610ffacc2b4e99fae6737bb82f5d7fb13d2f2c186"
   }
  }
 },
 "nbformat": 4,
 "nbformat_minor": 2
}
