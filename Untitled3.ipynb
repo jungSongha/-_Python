{
 "cells": [
  {
   "cell_type": "code",
   "execution_count": 4,
   "id": "2b3dac80",
   "metadata": {},
   "outputs": [],
   "source": [
    "from turtle import *\n",
    "class Ball :\n",
    "    def __init__(self, color, size, speed) :\n",
    "\n",
    "        self.x = 0\n",
    "        self.y = 0\n",
    "        \n",
    "        self.xspeed = speed\n",
    "        self.yspeed = speed\n",
    "        \n",
    "        self.size = size\n",
    "        \n",
    "        self.color = color\n",
    "        \n",
    "        self.turtle = Turtle()\n",
    "        self.turtle.shape(\"circle\")\n",
    "        self.turtle.color(color, color)\n",
    "        self.turtle.resizemode(\"user\")\n",
    "        self.turtle.shapesize(size, size, 10)\n",
    "        \n",
    "    def move(self) :\n",
    "        self.x += self.xspeed\n",
    "        self.y += self.yspeed\n",
    "        self.turtle.goto(self.x, self.y)\n",
    "\n",
    "ball = Ball(\"red\", 2, 1)\n",
    "for i in range(100) :\n",
    "    ball.move()"
   ]
  }
 ],
 "metadata": {
  "kernelspec": {
   "display_name": "Python 3 (ipykernel)",
   "language": "python",
   "name": "python3"
  },
  "language_info": {
   "codemirror_mode": {
    "name": "ipython",
    "version": 3
   },
   "file_extension": ".py",
   "mimetype": "text/x-python",
   "name": "python",
   "nbconvert_exporter": "python",
   "pygments_lexer": "ipython3",
   "version": "3.9.12"
  }
 },
 "nbformat": 4,
 "nbformat_minor": 5
}
