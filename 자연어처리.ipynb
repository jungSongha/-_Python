{
 "cells": [
  {
   "cell_type": "code",
   "execution_count": null,
   "metadata": {},
   "outputs": [],
   "source": [
    "!pip install konlpy"
   ]
  },
  {
   "cell_type": "code",
   "execution_count": 2,
   "metadata": {},
   "outputs": [
    {
     "name": "stdout",
     "output_type": "stream",
     "text": [
      "Requirement already satisfied: MeCab in c:\\programdata\\anaconda3\\lib\\site-packages (0.996.3)\n"
     ]
    }
   ],
   "source": [
    "!pip install MeCab"
   ]
  },
  {
   "cell_type": "code",
   "execution_count": null,
   "metadata": {},
   "outputs": [],
   "source": [
    "conda install -c conda forge JPype1-1.2.0-cp38-cp38-win_amd64.whl"
   ]
  },
  {
   "cell_type": "code",
   "execution_count": null,
   "metadata": {},
   "outputs": [],
   "source": [
    "#from konlpy import init_jvm\n",
    "\n",
    "from konlpy.tag import Kkma\n",
    "\n",
    "import os\n",
    "java_home = os.environ['JAVA_HOME']\n",
    "\n",
    "kkma = Kkma()"
   ]
  },
  {
   "cell_type": "code",
   "execution_count": null,
   "metadata": {},
   "outputs": [],
   "source": [
    "import nltk\n",
    "nltk.download()"
   ]
  },
  {
   "cell_type": "code",
   "execution_count": null,
   "metadata": {},
   "outputs": [],
   "source": [
    "#대한민국 헌법\n",
    "import nltk\n",
    "from konlpy.corpus import kobill\n",
    "import matplotlib.pyplot as plt\n",
    "import pandas as pd\n",
    "from konlpy.corpus import kolaw\n",
    "\n",
    "kolaw.fileids()\n",
    "c = kolaw.open('constitution.txt').read()\n",
    "print(c[:20000])\n",
    "\n",
    "from konlpy.tag import *\n",
    "okt = Okt()\n",
    "okt.nouns(c[:20000]) #명사 추출\n",
    "okt.nouns = [n for n in 'nouns' if len(n) > 1] # 단어의 길이가 1개인 것 제외\n",
    "okt.morphs(c[:20000]) #형태소 추출\n",
    "okt.pos(c[:20000])\n",
    "okt = Okt()\n",
    "okt.tagset\n",
    "tagsets = pd.DataFrame()\n",
    "N = 67\n",
    "tagsets[\"OKT-기호\"] = list(okt.tagset.keys()) + list(\"*\" * (N - len(okt.tagset)))\n",
    "tagsets[\"OKT-품사\"] = list(okt.tagset.values()) + list(\"*\" * (N - len(okt.tagset)))\n",
    "tagsets\n",
    "\n",
    "from nltk import Text\n",
    "kolaw = Text(okt.nouns(c), name=\"kolaw\")\n",
    "kolaw.plot(30)\n",
    "plt.show()\n",
    "\n",
    "from wordcloud import WordCloud\n",
    "\n",
    "# 자신의 컴퓨터 환경에 맞는 한글 폰트 경로를 설정\n",
    "font_path = 'C:\\Windows\\Fonts\\HYKANB.TTF'\n",
    "wc = WordCloud(width = 5000, height = 3000, background_color=\"white\", font_path=font_path)\n",
    "\n",
    "plt.figure(figsize=(12,12))\n",
    "plt.imshow(wc.generate_from_frequencies(kolaw.vocab()))\n",
    "plt.axis(\"off\")\n",
    "plt.show()"
   ]
  }
 ],
 "metadata": {
  "kernelspec": {
   "display_name": "base",
   "language": "python",
   "name": "python3"
  },
  "language_info": {
   "codemirror_mode": {
    "name": "ipython",
    "version": 3
   },
   "file_extension": ".py",
   "mimetype": "text/x-python",
   "name": "python",
   "nbconvert_exporter": "python",
   "pygments_lexer": "ipython3",
   "version": "3.9.12 (main, Apr  4 2022, 05:22:27) [MSC v.1916 64 bit (AMD64)]"
  },
  "orig_nbformat": 4,
  "vscode": {
   "interpreter": {
    "hash": "ad2bdc8ecc057115af97d19610ffacc2b4e99fae6737bb82f5d7fb13d2f2c186"
   }
  }
 },
 "nbformat": 4,
 "nbformat_minor": 2
}
