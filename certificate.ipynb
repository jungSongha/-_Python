{
 "cells": [
  {
   "cell_type": "code",
   "execution_count": 1,
   "metadata": {},
   "outputs": [
    {
     "name": "stdout",
     "output_type": "stream",
     "text": [
      "Requirement already satisfied: openpyxl in c:\\programdata\\anaconda3\\lib\\site-packages (3.0.9)\n",
      "Requirement already satisfied: et-xmlfile in c:\\programdata\\anaconda3\\lib\\site-packages (from openpyxl) (1.1.0)\n"
     ]
    }
   ],
   "source": [
    "!pip install openpyxl"
   ]
  },
  {
   "cell_type": "code",
   "execution_count": 2,
   "metadata": {},
   "outputs": [
    {
     "name": "stdout",
     "output_type": "stream",
     "text": [
      "Collecting python-docx\n",
      "  Downloading python-docx-0.8.11.tar.gz (5.6 MB)\n",
      "Requirement already satisfied: lxml>=2.3.2 in c:\\programdata\\anaconda3\\lib\\site-packages (from python-docx) (4.8.0)\n",
      "Building wheels for collected packages: python-docx\n",
      "  Building wheel for python-docx (setup.py): started\n",
      "  Building wheel for python-docx (setup.py): finished with status 'done'\n",
      "  Created wheel for python-docx: filename=python_docx-0.8.11-py3-none-any.whl size=184507 sha256=6a01c293b69f8d329f81397a06fa9152e45a8bd991ee7386580c513ad781dab8\n",
      "  Stored in directory: c:\\users\\kccistc\\appdata\\local\\pip\\cache\\wheels\\83\\8b\\7c\\09ae60c42c7ba4ed2dddaf2b8b9186cb105255856d6ed3dba5\n",
      "Successfully built python-docx\n",
      "Installing collected packages: python-docx\n",
      "Successfully installed python-docx-0.8.11\n"
     ]
    }
   ],
   "source": [
    "!pip install python-docx"
   ]
  },
  {
   "cell_type": "code",
   "execution_count": 3,
   "metadata": {},
   "outputs": [
    {
     "name": "stdout",
     "output_type": "stream",
     "text": [
      "Collecting docx2pdf\n",
      "  Downloading docx2pdf-0.1.8-py3-none-any.whl (6.7 kB)\n",
      "Requirement already satisfied: tqdm>=4.41.0 in c:\\programdata\\anaconda3\\lib\\site-packages (from docx2pdf) (4.64.0)\n",
      "Requirement already satisfied: pywin32>=227 in c:\\programdata\\anaconda3\\lib\\site-packages (from docx2pdf) (302)\n",
      "Requirement already satisfied: colorama in c:\\programdata\\anaconda3\\lib\\site-packages (from tqdm>=4.41.0->docx2pdf) (0.4.4)\n",
      "Installing collected packages: docx2pdf\n",
      "Successfully installed docx2pdf-0.1.8\n"
     ]
    }
   ],
   "source": [
    "!pip install docx2pdf"
   ]
  },
  {
   "cell_type": "code",
   "execution_count": 4,
   "metadata": {},
   "outputs": [],
   "source": [
    "import pandas as pd\n",
    "\n",
    "df=pd.DataFrame"
   ]
  },
  {
   "cell_type": "code",
   "execution_count": 14,
   "metadata": {},
   "outputs": [
    {
     "name": "stdout",
     "output_type": "stream",
     "text": [
      "['김경진', '임철', '이해윤', '정송하', '김동진', '정민준', '김현우', '김수진', '김은기', '서예지']\n",
      "['1990.01.02', '1990.01.08', '2000.08.08', '2000.09.09', '2010.10.10', '2017.12.12', '2018.01.03', '2018.02.04', '2018.03.03', '2020.02.05']\n",
      "['2022-0001', '2022-0002', '2022-0003', '2022-0004', '2022-0005', '2022-0006', '2022-0007', '2022-0008', '2022-0009', '2022-0010']\n"
     ]
    }
   ],
   "source": [
    "from openpyxl import load_workbook    #\n",
    "\n",
    "load_wb=load_workbook(\"certificate.xlsx\")\n",
    "load_ws=load_wb.active\n",
    "\n",
    "name_list=[]\n",
    "birthday_list=[]\n",
    "ho_list=[]\n",
    "for i in range(1,load_ws.max_row+1) :\n",
    "    name_list.append(load_ws.cell(i,1).value)\n",
    "    birthday_list.append(load_ws.cell(i,2).value)\n",
    "    ho_list.append(load_ws.cell(i,3).value)\n",
    "    \n",
    "print(name_list)\n",
    "print(birthday_list)\n",
    "print(ho_list)\n"
   ]
  },
  {
   "cell_type": "code",
   "execution_count": 6,
   "metadata": {},
   "outputs": [
    {
     "name": "stdout",
     "output_type": "stream",
     "text": [
      "['1990.01.02', '1990.01.08', '2000.08.08', '2000.09.09', '2010.10.10', '2017.12.12', '2018.01.03', '2018.02.04', '2018.03.03', '2020.02.05']\n"
     ]
    }
   ],
   "source": [
    "print(birthday_list)"
   ]
  },
  {
   "cell_type": "code",
   "execution_count": 15,
   "metadata": {},
   "outputs": [],
   "source": [
    "from json import tool\n",
    "import docx\n",
    "from docx.oxml.ns import qn\n",
    "from docx.enum.text import WD_ALIGN_PARAGRAPH\n",
    "\n",
    "doc = docx.Document('tool.docx')\n",
    "\n",
    "style = doc.styles['Normal']\n",
    "style.font.name = '나눔고딕'\n",
    "style._element.rPr.rFonts.set(qn('w:eastAsia'), '나눔고딕')\n",
    "style.font.size = docx.shared.Pt(12)\n",
    "\n",
    "para = doc.add_paragraph() \n",
    "run = para.add_run('\\n\\n') \n",
    "run = para.add_run('              제 2020-0001 호\\n') \n",
    "run.font.name = '나눔고딕'\n",
    "run._element.rPr.rFonts.set(qn('w:eastAsia'), '나눔고딕')\n",
    "run.font.size = docx.shared.Pt(20)\n",
    "\n",
    "para = doc.add_paragraph()\n",
    "run = para.add_run('\\n\\n')\n",
    "run = para.add_run('수  료  증') \n",
    "run.font.name = '나눔고딕'\n",
    "run.bold = True\n",
    "run._element.rPr.rFonts.set(qn('w:eastAsia'), '나눔고딕')\n",
    "run.font.size = docx.shared.Pt(40)\n",
    "para.alignment = WD_ALIGN_PARAGRAPH.CENTER\n",
    "\n",
    "para = doc.add_paragraph()\n",
    "run = para.add_run('\\n\\n')\n",
    "run = para.add_run('        성       명: 임  철\\n') \n",
    "run.font.name = '나눔고딕'\n",
    "run._element.rPr.rFonts.set(qn('w:eastAsia'), '나눔고딕')\n",
    "run.font.size = docx.shared.Pt(20)\n",
    "run = para.add_run('        생 년 월 일: 2080.01.08\\n') \n",
    "run.font.name = '나눔고딕'\n",
    "run._element.rPr.rFonts.set(qn('w:eastAsia'), '나눔고딕')\n",
    "run.font.size = docx.shared.Pt(20)\n",
    "run = para.add_run('        교 육 과 정: 파이썬과 40개의 작품들\\n')\n",
    "run.font.name = '나눔고딕'\n",
    "run._element.rPr.rFonts.set(qn('w:eastAsia'), '나눔고딕')\n",
    "run.font.size = docx.shared.Pt(20) \n",
    "run = para.add_run('        교 육 날 짜: 2022.09.05~2022.11.19\\n') \n",
    "run.font.name = '나눔고딕'\n",
    "run._element.rPr.rFonts.set(qn('w:eastAsia'), '나눔고딕')\n",
    "run.font.size = docx.shared.Pt(20)\n",
    "\n",
    "para = doc.add_paragraph() \n",
    "run = para.add_run('\\n\\n')\n",
    "run = para.add_run('        위 사람은 파이썬과 40개의 작품들 교육과정을\\n') \n",
    "run.font.name = '나눔고딕'\n",
    "run._element.rPr.rFonts.set(qn('w:eastAsia'), '나눔고딕')\n",
    "run.font.size = docx.shared.Pt(20)\n",
    "run = para.add_run('        이수하였으므로 이 증서를 수여 합니다.\\n') \n",
    "run.font.name = '나눔고딕'\n",
    "run._element.rPr.rFonts.set(qn('w:eastAsia'), '나눔고딕')\n",
    "run.font.size = docx.shared.Pt(20)\n",
    "\n",
    "para = doc.add_paragraph()\n",
    "run = para.add_run('\\n\\n\\n')\n",
    "run = para.add_run('2022.11.19') \n",
    "run.font.name = '나눔고딕'\n",
    "run._element.rPr.rFonts.set(qn('w:eastAsia'), '나눔고딕')\n",
    "run.font.size = docx.shared.Pt(20)\n",
    "para.alignment = WD_ALIGN_PARAGRAPH.CENTER\n",
    "\n",
    "para = doc.add_paragraph()\n",
    "run = para.add_run('\\n\\n\\n')\n",
    "run = para.add_run('대한상공회의소') \n",
    "run.font.name = '나눔고딕'\n",
    "run.bold = True\n",
    "run._element.rPr.rFonts.set(qn('w:eastAsia'), '나눔고딕')\n",
    "run.font.size = docx.shared.Pt(20)\n",
    "para.alignment = WD_ALIGN_PARAGRAPH.CENTER\n",
    "\n",
    "doc.save('result.docx')\n"
   ]
  },
  {
   "cell_type": "code",
   "execution_count": 16,
   "metadata": {},
   "outputs": [
    {
     "name": "stdout",
     "output_type": "stream",
     "text": [
      "['김경진', '임철', '이해윤', '정송하', '김동진', '정민준', '김현우', '김수진', '김은기', '서예지']\n",
      "['1990.01.02', '1990.01.08', '2000.08.08', '2000.09.09', '2010.10.10', '2017.12.12', '2018.01.03', '2018.02.04', '2018.03.03', '2020.02.05']\n",
      "['2022-0001', '2022-0002', '2022-0003', '2022-0004', '2022-0005', '2022-0006', '2022-0007', '2022-0008', '2022-0009', '2022-0010']\n"
     ]
    },
    {
     "data": {
      "application/vnd.jupyter.widget-view+json": {
       "model_id": "560c45915854488380dee1f3e191085b",
       "version_major": 2,
       "version_minor": 0
      },
      "text/plain": [
       "  0%|          | 0/1 [00:00<?, ?it/s]"
      ]
     },
     "metadata": {},
     "output_type": "display_data"
    },
    {
     "data": {
      "application/vnd.jupyter.widget-view+json": {
       "model_id": "22948d3756f441878bc96445681378bf",
       "version_major": 2,
       "version_minor": 0
      },
      "text/plain": [
       "  0%|          | 0/1 [00:00<?, ?it/s]"
      ]
     },
     "metadata": {},
     "output_type": "display_data"
    },
    {
     "data": {
      "application/vnd.jupyter.widget-view+json": {
       "model_id": "d6257d3044334a7184d563c4f7dd54b9",
       "version_major": 2,
       "version_minor": 0
      },
      "text/plain": [
       "  0%|          | 0/1 [00:00<?, ?it/s]"
      ]
     },
     "metadata": {},
     "output_type": "display_data"
    },
    {
     "data": {
      "application/vnd.jupyter.widget-view+json": {
       "model_id": "136edc56a9b7401e8fe3f137642b9dd1",
       "version_major": 2,
       "version_minor": 0
      },
      "text/plain": [
       "  0%|          | 0/1 [00:00<?, ?it/s]"
      ]
     },
     "metadata": {},
     "output_type": "display_data"
    },
    {
     "data": {
      "application/vnd.jupyter.widget-view+json": {
       "model_id": "264edf49115b4b93b5a9e33f4716b9fb",
       "version_major": 2,
       "version_minor": 0
      },
      "text/plain": [
       "  0%|          | 0/1 [00:00<?, ?it/s]"
      ]
     },
     "metadata": {},
     "output_type": "display_data"
    },
    {
     "data": {
      "application/vnd.jupyter.widget-view+json": {
       "model_id": "b20b8de9437d45b494b2ebb49f851742",
       "version_major": 2,
       "version_minor": 0
      },
      "text/plain": [
       "  0%|          | 0/1 [00:00<?, ?it/s]"
      ]
     },
     "metadata": {},
     "output_type": "display_data"
    },
    {
     "data": {
      "application/vnd.jupyter.widget-view+json": {
       "model_id": "13c8f87cd5af413aa481e58b77dc340b",
       "version_major": 2,
       "version_minor": 0
      },
      "text/plain": [
       "  0%|          | 0/1 [00:00<?, ?it/s]"
      ]
     },
     "metadata": {},
     "output_type": "display_data"
    },
    {
     "data": {
      "application/vnd.jupyter.widget-view+json": {
       "model_id": "00cb8ce567624b6abf4d323caef13baa",
       "version_major": 2,
       "version_minor": 0
      },
      "text/plain": [
       "  0%|          | 0/1 [00:00<?, ?it/s]"
      ]
     },
     "metadata": {},
     "output_type": "display_data"
    },
    {
     "data": {
      "application/vnd.jupyter.widget-view+json": {
       "model_id": "fa17d1dc90944d37b7342962153e004c",
       "version_major": 2,
       "version_minor": 0
      },
      "text/plain": [
       "  0%|          | 0/1 [00:00<?, ?it/s]"
      ]
     },
     "metadata": {},
     "output_type": "display_data"
    },
    {
     "data": {
      "application/vnd.jupyter.widget-view+json": {
       "model_id": "e60c47a6b8144ade94841763514cfb0b",
       "version_major": 2,
       "version_minor": 0
      },
      "text/plain": [
       "  0%|          | 0/1 [00:00<?, ?it/s]"
      ]
     },
     "metadata": {},
     "output_type": "display_data"
    }
   ],
   "source": [
    "from docx import Document\n",
    "from openpyxl import load_workbook\n",
    "import docx\n",
    "from docx.oxml.ns import qn\n",
    "from docx.enum.text import WD_ALIGN_PARAGRAPH\n",
    "from docx2pdf import convert\n",
    "\n",
    "load_wb = load_workbook(\"certificate.xlsx\")\n",
    "load_ws =load_wb.active\n",
    "\n",
    "name_list = []\n",
    "birthday_list = []\n",
    "ho_list = []\n",
    "for i in range(1,load_ws.max_row + 1):\n",
    "    name_list.append(load_ws.cell(i, 1).value)\n",
    "    birthday_list.append(load_ws.cell(i, 2).value)\n",
    "    ho_list.append(load_ws.cell(i, 3).value)\n",
    "    \n",
    "print(name_list)\n",
    "print(birthday_list)\n",
    "print(ho_list)\n",
    "\n",
    "for i in range(len(name_list)):\n",
    "    doc = docx.Document(\"tool.docx\")\n",
    "    style = doc.styles['Normal']\n",
    "    style.font.name = '나눔고딕'\n",
    "    style._element.rPr.rFonts.set(qn('w:eastAsia'), '나눔고딕')\n",
    "    style.font.size = docx.shared.Pt(12)\n",
    "    \n",
    "    para = doc.add_paragraph()\n",
    "    run = para.add_run('              제 '+ ho_list[i] +' 호\\n')\n",
    "    run.font.name = '나눔고딕'\n",
    "    run._element.rPr.rFonts.set(qn('w:eastAsia'), '나눔고딕')\n",
    "    run.font.size = docx.shared.Pt(20)\n",
    "\n",
    "    para = doc.add_paragraph()\n",
    "    run = para.add_run('수  료  증') \n",
    "    run.font.name = '나눔고딕'\n",
    "    run.bold = True\n",
    "    run._element.rPr.rFonts.set(qn('w:eastAsia'), '나눔고딕')\n",
    "    run.font.size = docx.shared.Pt(40)\n",
    "    para.alignment = WD_ALIGN_PARAGRAPH.CENTER\n",
    "\n",
    "    para = doc.add_paragraph()\n",
    "    run = para.add_run('        성       명: ' + name_list[i] +'\\n') \n",
    "    run.font.name = '나눔고딕'\n",
    "    run._element.rPr.rFonts.set(qn('w:eastAsia'), '나눔고딕')\n",
    "    run.font.size = docx.shared.Pt(20)\n",
    "    run = para.add_run('        생 년 월 일: ' + birthday_list[i] +'\\n') \n",
    "    run.font.name = '나눔고딕'\n",
    "    run._element.rPr.rFonts.set(qn('w:eastAsia'), '나눔고딕')\n",
    "    run.font.size = docx.shared.Pt(20)\n",
    "    run = para.add_run('        교 육 과 정: 파이썬과 40개의 작품들\\n')\n",
    "    run.font.name = '나눔고딕'\n",
    "    run._element.rPr.rFonts.set(qn('w:eastAsia'), '나눔고딕')\n",
    "    run.font.size = docx.shared.Pt(20) \n",
    "    run = para.add_run('        교 육 날 짜: 2022.09.05~2022.11.09\\n') \n",
    "    run.font.name = '나눔고딕'\n",
    "    run._element.rPr.rFonts.set(qn('w:eastAsia'), '나눔고딕')\n",
    "    run.font.size = docx.shared.Pt(20)\n",
    "\n",
    "    para = doc.add_paragraph()\n",
    "    run = para.add_run('        위 사람은 파이썬과 40개의 작품들 교육과정을\\n') \n",
    "    run.font.name = '나눔고딕'\n",
    "    run._element.rPr.rFonts.set(qn('w:eastAsia'), '나눔고딕')\n",
    "    run.font.size = docx.shared.Pt(20)\n",
    "    run = para.add_run('        이수하였으므로 이 증서를 수여 합니다.\\n') \n",
    "    run.font.name = '나눔고딕'\n",
    "    run._element.rPr.rFonts.set(qn('w:eastAsia'), '나눔고딕')\n",
    "    run.font.size = docx.shared.Pt(20)\n",
    "\n",
    "    para = doc.add_paragraph()\n",
    "    run = para.add_run('\\n\\n\\n')\n",
    "    run = para.add_run('2021.11.19') \n",
    "    run.font.name = '나눔고딕'\n",
    "    run._element.rPr.rFonts.set(qn('w:eastAsia'), '나눔고딕')\n",
    "    run.font.size = docx.shared.Pt(20)\n",
    "    para.alignment = WD_ALIGN_PARAGRAPH.CENTER\n",
    "\n",
    "    para = doc.add_paragraph()\n",
    "    run = para.add_run('\\n\\n\\n')\n",
    "    run = para.add_run('대한상공회의소') \n",
    "    run.font.name = '나눔고딕'\n",
    "    run.bold = True\n",
    "    run._element.rPr.rFonts.set(qn('w:eastAsia'), '나눔고딕')\n",
    "    run.font.size = docx.shared.Pt(20)\n",
    "    para.alignment = WD_ALIGN_PARAGRAPH.CENTER\n",
    "\n",
    "    doc.save('result\\\\'+name_list[i]+'.docx')\n",
    "    convert('result\\\\'+name_list[i]+'.docx',\n",
    "            'result\\\\'+name_list[i]+'.pdf')"
   ]
  }
 ],
 "metadata": {
  "kernelspec": {
   "display_name": "Python 3.9.12 ('base')",
   "language": "python",
   "name": "python3"
  },
  "language_info": {
   "codemirror_mode": {
    "name": "ipython",
    "version": 3
   },
   "file_extension": ".py",
   "mimetype": "text/x-python",
   "name": "python",
   "nbconvert_exporter": "python",
   "pygments_lexer": "ipython3",
   "version": "3.9.12"
  },
  "orig_nbformat": 4,
  "vscode": {
   "interpreter": {
    "hash": "ad2bdc8ecc057115af97d19610ffacc2b4e99fae6737bb82f5d7fb13d2f2c186"
   }
  }
 },
 "nbformat": 4,
 "nbformat_minor": 2
}
