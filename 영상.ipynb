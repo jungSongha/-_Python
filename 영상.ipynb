{
 "cells": [
  {
   "cell_type": "code",
   "execution_count": 5,
   "id": "74ccf5e6-5e98-49f4-9419-baab8d8201ad",
   "metadata": {},
   "outputs": [],
   "source": [
    "import tkinter as tk\n",
    "\n",
    "def open():\n",
    "    pass\n",
    "\n",
    "def quit():\n",
    "    window.quit()\n",
    "    \n",
    "window = tk.Tk()\n",
    "menubar = tk.Menu(window)\n",
    "\n",
    "filemenu = tk.Menu(menubar)\n",
    "filemenu.add_command(label=\"열기\", command=open)\n",
    "filemenu.add_command(label=\"종료\", command=quit)\n",
    "\n",
    "menubar.add_cascade(label=\"파일\", menu=filemenu)\n",
    "\n",
    "window.config(menu=menubar)\n",
    "window.mainloop()"
   ]
  },
  {
   "cell_type": "code",
   "execution_count": 6,
   "id": "0c43dc45-268a-47e1-a270-a0e69ccc1403",
   "metadata": {},
   "outputs": [],
   "source": [
    "from tkinter import *\n",
    "\n",
    "def paint(evernt):\n",
    "    x1, y1 = (event.x-1),(enent.y+1)\n",
    "    x2, y2 = (event.x-1),(enent.y+1)\n",
    "    canvas.create_oval(x1,y1,x2,y2)\n",
    "    \n",
    "window = Tk()\n",
    "canvas = Canvas(window)\n",
    "canvas.pack()\n",
    "canvas.bind(\"<B1-Motion>\", paint)\n",
    "window.mainloop()"
   ]
  },
  {
   "cell_type": "code",
   "execution_count": 28,
   "id": "219e6eee-0305-4df7-a7a5-5d24b6be6953",
   "metadata": {},
   "outputs": [
    {
     "name": "stdout",
     "output_type": "stream",
     "text": [
      "\n",
      "Usage:   \n",
      "  pip <command> [options]\n",
      "\n",
      "Commands:\n",
      "  install                     Install packages.\n",
      "  download                    Download packages.\n",
      "  uninstall                   Uninstall packages.\n",
      "  freeze                      Output installed packages in requirements format.\n",
      "  list                        List installed packages.\n",
      "  show                        Show information about installed packages.\n",
      "  check                       Verify installed packages have compatible dependencies.\n",
      "  config                      Manage local and global configuration.\n",
      "  search                      Search PyPI for packages.\n",
      "  cache                       Inspect and manage pip's wheel cache.\n",
      "  wheel                       Build wheels from your requirements.\n",
      "  hash                        Compute hashes of package archives.\n",
      "  completion                  A helper command used for command completion.\n",
      "  debug                       Show information useful for debugging.\n",
      "  help                        Show help for commands.\n",
      "\n",
      "General Options:\n",
      "  -h, --help                  Show help.\n",
      "  --isolated                  Run pip in an isolated mode, ignoring\n",
      "                              environment variables and user configuration.\n",
      "  -v, --verbose               Give more output. Option is additive, and can be\n",
      "                              used up to 3 times.\n",
      "  -V, --version               Show version and exit.\n",
      "  -q, --quiet                 Give less output. Option is additive, and can be\n",
      "                              used up to 3 times (corresponding to WARNING,\n",
      "                              ERROR, and CRITICAL logging levels).\n",
      "  --log <path>                Path to a verbose appending log.\n",
      "  --no-input                  Disable prompting for input.\n",
      "  --proxy <proxy>             Specify a proxy in the form\n",
      "                              [user:passwd@]proxy.server:port.\n",
      "  --retries <retries>         Maximum number of retries each connection should\n",
      "                              attempt (default 5 times).\n",
      "  --timeout <sec>             Set the socket timeout (default 15 seconds).\n",
      "  --exists-action <action>    Default action when a path already exists:\n",
      "                              (s)witch, (i)gnore, (w)ipe, (b)ackup, (a)bort.\n",
      "  --trusted-host <hostname>   Mark this host or host:port pair as trusted,\n",
      "                              even though it does not have valid or any HTTPS.\n",
      "  --cert <path>               Path to alternate CA bundle.\n",
      "  --client-cert <path>        Path to SSL client certificate, a single file\n",
      "                              containing the private key and the certificate\n",
      "                              in PEM format.\n",
      "  --cache-dir <dir>           Store the cache data in <dir>.\n",
      "  --no-cache-dir              Disable the cache.\n",
      "  --disable-pip-version-check\n",
      "                              Don't periodically check PyPI to determine\n",
      "                              whether a new version of pip is available for\n",
      "                              download. Implied with --no-index.\n",
      "  --no-color                  Suppress colored output.\n",
      "  --no-python-version-warning\n",
      "                              Silence deprecation warnings for upcoming\n",
      "                              unsupported Pythons.\n",
      "  --use-feature <feature>     Enable new functionality, that may be backward\n",
      "                              incompatible.\n",
      "  --use-deprecated <feature>  Enable deprecated functionality, that will be\n",
      "                              removed in the future.\n"
     ]
    }
   ],
   "source": [
    "! pip"
   ]
  },
  {
   "cell_type": "code",
   "execution_count": 43,
   "id": "8361dae2-e40e-4538-85f6-2fec9fb854a1",
   "metadata": {},
   "outputs": [
    {
     "name": "stdout",
     "output_type": "stream",
     "text": [
      "Requirement already satisfied: Pillow in c:\\programdata\\anaconda3\\lib\\site-packages (8.2.0)\n"
     ]
    }
   ],
   "source": [
    "! pip install Pillow"
   ]
  },
  {
   "cell_type": "code",
   "execution_count": 3,
   "id": "7807cb0b-d4ee-4d61-90c7-8f67babbfd07",
   "metadata": {},
   "outputs": [],
   "source": [
    "from PIL import Image, ImageTk, ImageFilter\n",
    "import tkinter as tk\n",
    "from tkinter import filedialog as fd\n",
    "\n",
    "im = None\n",
    "tk_img = None\n",
    "\n",
    "def open( ):    \t\t# “열기” 메뉴\n",
    "    global im, tk_img\n",
    "    fname = fd.askopenfilename( )\n",
    "    im = Image.open(fname)\n",
    "    tk_img = ImageTk.PhotoImage(im)\n",
    "    canvas.create_image(250, 250, image=tk_img)\n",
    "    window.update( )\n",
    "\n",
    "def quit( ):    \t\t# “종료” 메뉴\n",
    "    window.quit( )\n",
    "    \n",
    "def image_rotate( ):\n",
    "    global im, tk_img\n",
    "    out = im.rotate(45)\n",
    "    tk_img = ImageTk.PhotoImage(out)\n",
    "    canvas.create_image(1000, 1000, image=tk_img)\n",
    "    window.update( )\n",
    "    \n",
    "def image_blur( ):\n",
    "    global im, tk_img\n",
    "    out = im.filter(ImageFilter.BLUR)\n",
    "    tk_img = ImageTk.PhotoImage(out)\n",
    "    canvas.create_image(1000, 1000, image=tk_img)\n",
    "    window.update( )\n",
    "    \n",
    "window = tk.Tk( )       \t# 윈도우를 생성합니다.\n",
    "canvas = tk.Canvas(window, width=500, height=500)\n",
    "canvas.pack( )\n",
    "\n",
    "menubar = tk.Menu(window)       \t# 메뉴를 생성합니다.\n",
    "filemenu = tk.Menu(menubar)\n",
    "ipmenu = tk.Menu(menubar)\n",
    "\n",
    "filemenu.add_command(label=\"열기\", command=open)      \t#파일 메뉴\n",
    "filemenu.add_command(label=\"종료\", command=quit)\n",
    "\n",
    "ipmenu.add_command(label=\"영상회전\", command=image_rotate)   \t\t#영상처리 메뉴\n",
    "ipmenu.add_command(label=\"영상흐리게\", command=image_blur)\n",
    "\n",
    "menubar.add_cascade(label=\"파일\", menu=filemenu)\n",
    "menubar.add_cascade(label=\"영상처리\", menu=ipmenu)\n",
    "\n",
    "window.config(menu=menubar)\n",
    "window.mainloop( )"
   ]
  },
  {
   "cell_type": "code",
   "execution_count": null,
   "id": "bb75bc6c-f172-4fa7-b3eb-b9c54c7f55b9",
   "metadata": {},
   "outputs": [],
   "source": []
  },
  {
   "cell_type": "code",
   "execution_count": null,
   "id": "b3a14f99-eb89-4523-a760-12fe3a596fb5",
   "metadata": {},
   "outputs": [],
   "source": []
  }
 ],
 "metadata": {
  "kernelspec": {
   "display_name": "Python 3 (ipykernel)",
   "language": "python",
   "name": "python3"
  },
  "language_info": {
   "codemirror_mode": {
    "name": "ipython",
    "version": 3
   },
   "file_extension": ".py",
   "mimetype": "text/x-python",
   "name": "python",
   "nbconvert_exporter": "python",
   "pygments_lexer": "ipython3",
   "version": "3.9.12"
  }
 },
 "nbformat": 4,
 "nbformat_minor": 5
}
