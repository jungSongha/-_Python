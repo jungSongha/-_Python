{
 "cells": [
  {
   "cell_type": "markdown",
   "id": "5abebdc4",
   "metadata": {},
   "source": [
    "# Python 복습\n",
    "\n",
    "- 변수 : 데이터를 들고다니는 공간 \n",
    "- 변수를 선언 : 등호기호(=)를 기준으로 오른쪽의 값을 왼쪽의 변수명으로 사용\n",
    "- 파이썬 데이터 타입 : \n",
    "    - 연속형 숫자데이터 : int(정수형) / float(실수형)\n",
    "    - 범주형 : str(문자형) / object(범주형) | 따옴표, 쌍따옴표\n",
    "    - 논리형 : bool(True / False)\n",
    "- 파이썬 자료 구조 :\n",
    "    - List [100,200,300] : 순서 존재 / 중복 허용 / 추가,삭제,변경 타입\n",
    "    - Tuple (100,200,300) : 순서 존재 / 중복 허용 / 추가,삭제,변경 불가능\n",
    "    - Set { 10,20,30 } : 추가,사가제,변경 가능 / 순서 없음 / 중복 없음\n",
    "    - Dictionry { key : value } : 키-값 매칭"
   ]
  },
  {
   "cell_type": "code",
   "execution_count": 1,
   "id": "e58907b3",
   "metadata": {},
   "outputs": [
    {
     "data": {
      "text/plain": [
       "500"
      ]
     },
     "execution_count": 1,
     "metadata": {},
     "output_type": "execute_result"
    }
   ],
   "source": [
    "num1 = 200\n",
    "num2 = 300\n",
    "num1 + num2"
   ]
  },
  {
   "cell_type": "code",
   "execution_count": 2,
   "id": "7c3f3117",
   "metadata": {},
   "outputs": [
    {
     "data": {
      "text/plain": [
       "'파이썬 데이터 분석'"
      ]
     },
     "execution_count": 2,
     "metadata": {},
     "output_type": "execute_result"
    }
   ],
   "source": [
    "data1 = \"파이썬 데이터 분석\"\n",
    "data1"
   ]
  },
  {
   "cell_type": "code",
   "execution_count": 3,
   "id": "2f7c7d32",
   "metadata": {},
   "outputs": [
    {
     "ename": "NameError",
     "evalue": "name 'T1' is not defined",
     "output_type": "error",
     "traceback": [
      "\u001b[1;31m---------------------------------------------------------------------------\u001b[0m",
      "\u001b[1;31mNameError\u001b[0m                                 Traceback (most recent call last)",
      "\u001b[1;32m~\\AppData\\Local\\Temp\\ipykernel_7196\\3043031899.py\u001b[0m in \u001b[0;36m<module>\u001b[1;34m\u001b[0m\n\u001b[0;32m      1\u001b[0m \u001b[0mt1\u001b[0m \u001b[1;33m=\u001b[0m \u001b[1;33m(\u001b[0m\u001b[1;36m100\u001b[0m\u001b[1;33m,\u001b[0m\u001b[1;36m200\u001b[0m\u001b[1;33m,\u001b[0m\u001b[1;36m300\u001b[0m\u001b[1;33m)\u001b[0m\u001b[1;33m\u001b[0m\u001b[1;33m\u001b[0m\u001b[0m\n\u001b[1;32m----> 2\u001b[1;33m \u001b[0ma1\u001b[0m\u001b[1;33m,\u001b[0m \u001b[0ma2\u001b[0m\u001b[1;33m,\u001b[0m \u001b[0ma3\u001b[0m \u001b[1;33m=\u001b[0m \u001b[0mT1\u001b[0m\u001b[1;33m\u001b[0m\u001b[1;33m\u001b[0m\u001b[0m\n\u001b[0m",
      "\u001b[1;31mNameError\u001b[0m: name 'T1' is not defined"
     ]
    }
   ],
   "source": [
    "t1 = (100,200,300)\n",
    "a1, a2, a3 = T1 # Unpacking"
   ]
  },
  {
   "cell_type": "code",
   "execution_count": 4,
   "id": "a4c169f2",
   "metadata": {},
   "outputs": [
    {
     "data": {
      "text/plain": [
       "{20, 40, 100, 500}"
      ]
     },
     "execution_count": 4,
     "metadata": {},
     "output_type": "execute_result"
    }
   ],
   "source": [
    "{100,100,100,40,20,500}"
   ]
  },
  {
   "cell_type": "markdown",
   "id": "3287c979",
   "metadata": {},
   "source": [
    "- 파이썬 구문 (Statement)\n",
    "    - 조건문 (if / elif / else) : 특정 조건에 따라 종속문장이 수행\n",
    "    - 반복문 (for / whlie ) : 특정 범위에 따라 종속문장이 반복 수행\n",
    "    - 예외처리 (try / except / finally : 오류가 발생 시 예외처리\n",
    "    - 들여쓰기 : tab key 또는 Space Bar를 통해 문장의 종속관계를 표현 "
   ]
  },
  {
   "cell_type": "code",
   "execution_count": 11,
   "id": "90616f31",
   "metadata": {},
   "outputs": [
    {
     "name": "stdout",
     "output_type": "stream",
     "text": [
      "과일 종류를 입력 : (사과/포도/배)똥개\n",
      "Done\n",
      "F\n"
     ]
    }
   ],
   "source": [
    "try : # 기본적으로 코드가 진행되는 파트\n",
    "    data1 = input('과일 종류를 입력 : (사과/포도/배)')\n",
    "    if data1 =='사과':\n",
    "        print('링고')\n",
    "    elif data1 =='포도':\n",
    "        print(100)\n",
    "    else:\n",
    "        print('Done')\n",
    "except : # 위 try 구문에서 오류가 발생시 아래 종속문장을 수행\n",
    "    print('Error')\n",
    "finally : # 위 모든 코드가 실행 된 뒤, 마지막으로 수행되는 코드\n",
    "    print('F')"
   ]
  },
  {
   "cell_type": "markdown",
   "id": "fc71c47e",
   "metadata": {},
   "source": [
    "- 파이썬 라이브러리 : 특정 목적을 달성하기 위해, 모아놓은 함수들의 집합체"
   ]
  },
  {
   "cell_type": "code",
   "execution_count": 14,
   "id": "18df66e1",
   "metadata": {},
   "outputs": [],
   "source": [
    "# 분석에 필요한 라이브러리를 호출 \n",
    "import pandas as pd # 정형데이터를 전처리 / 통계 연산 수행  \n",
    "import seaborn as sns  # 통계적 시각화 연산 \n",
    "import matplotlib as mpl # 시각화 옵션 (외부 옵션)\n",
    "import matplotlib.pyplot as plt # 시각화 옵션 (내부 옵션)\n",
    "import plotly.express as px # 동적 그래프 시각화 \n",
    "import scipy.stats as stats # 통계적 가설 검정 수행 \n",
    "\n",
    "mpl.rc('font', family='Malgun Gothic') \n",
    "# 한글 글꼴 설정 (mac : AppleGothic)"
   ]
  },
  {
   "cell_type": "code",
   "execution_count": null,
   "id": "605592d8",
   "metadata": {},
   "outputs": [],
   "source": []
  },
  {
   "cell_type": "code",
   "execution_count": null,
   "id": "92722ad5",
   "metadata": {},
   "outputs": [],
   "source": []
  },
  {
   "cell_type": "code",
   "execution_count": null,
   "id": "8ae532d3",
   "metadata": {},
   "outputs": [],
   "source": []
  },
  {
   "cell_type": "code",
   "execution_count": null,
   "id": "227ed3ad",
   "metadata": {},
   "outputs": [],
   "source": []
  },
  {
   "cell_type": "code",
   "execution_count": null,
   "id": "6bddcad3",
   "metadata": {},
   "outputs": [],
   "source": []
  },
  {
   "cell_type": "code",
   "execution_count": null,
   "id": "33f9d033",
   "metadata": {},
   "outputs": [],
   "source": []
  },
  {
   "cell_type": "code",
   "execution_count": null,
   "id": "87d3d9e3",
   "metadata": {},
   "outputs": [],
   "source": []
  },
  {
   "cell_type": "code",
   "execution_count": null,
   "id": "4239fb55",
   "metadata": {},
   "outputs": [],
   "source": []
  }
 ],
 "metadata": {
  "kernelspec": {
   "display_name": "Python 3 (ipykernel)",
   "language": "python",
   "name": "python3"
  },
  "language_info": {
   "codemirror_mode": {
    "name": "ipython",
    "version": 3
   },
   "file_extension": ".py",
   "mimetype": "text/x-python",
   "name": "python",
   "nbconvert_exporter": "python",
   "pygments_lexer": "ipython3",
   "version": "3.9.13"
  }
 },
 "nbformat": 4,
 "nbformat_minor": 5
}
