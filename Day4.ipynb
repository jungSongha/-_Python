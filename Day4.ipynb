{
 "cells": [
  {
   "cell_type": "code",
   "execution_count": 1,
   "id": "9719986c",
   "metadata": {},
   "outputs": [],
   "source": [
    "import pandas as pd\n",
    "import matplotlib as mpl\n",
    "import matplotlib.pyplot as plt\n",
    "import seaborn as sns\n",
    "import plotly.express as px\n",
    "import scipy.stats as stats\n",
    "mpl.rc('font',family='Malgun Gothic')"
   ]
  },
  {
   "cell_type": "markdown",
   "id": "8c05f06f",
   "metadata": {},
   "source": [
    "# 크롤링 Crawling & Scraping\n",
    "- Scraping : 웹이나 다운로드 된 HTML 자료에서 정보를 추출하는 기법\n",
    "- Crawling : 웹 페이지의 하이퍼링크를 돌아다니며 웹 페이지를 다운로드 기법\n",
    "- Python 크롤링 라이브러리\n",
    "    - Beautiful Soup : HTML & XML 문서를 분석\n",
    "    - Selenium : App이나 Web Testing"
   ]
  },
  {
   "cell_type": "code",
   "execution_count": 2,
   "id": "0e3c7dcc",
   "metadata": {},
   "outputs": [
    {
     "name": "stdout",
     "output_type": "stream",
     "text": [
      "Defaulting to user installation because normal site-packages is not writeable\n",
      "Requirement already satisfied: selenium in c:\\users\\dmcconet\\appdata\\roaming\\python\\python39\\site-packages (4.7.2)\n",
      "Requirement already satisfied: urllib3[socks]~=1.26 in c:\\programdata\\anaconda3\\lib\\site-packages (from selenium) (1.26.11)\n",
      "Requirement already satisfied: trio-websocket~=0.9 in c:\\users\\dmcconet\\appdata\\roaming\\python\\python39\\site-packages (from selenium) (0.9.2)\n",
      "Requirement already satisfied: certifi>=2021.10.8 in c:\\programdata\\anaconda3\\lib\\site-packages (from selenium) (2022.9.14)\n",
      "Requirement already satisfied: trio~=0.17 in c:\\users\\dmcconet\\appdata\\roaming\\python\\python39\\site-packages (from selenium) (0.22.0)\n",
      "Requirement already satisfied: outcome in c:\\users\\dmcconet\\appdata\\roaming\\python\\python39\\site-packages (from trio~=0.17->selenium) (1.2.0)\n",
      "Requirement already satisfied: cffi>=1.14 in c:\\programdata\\anaconda3\\lib\\site-packages (from trio~=0.17->selenium) (1.15.1)\n",
      "Requirement already satisfied: idna in c:\\programdata\\anaconda3\\lib\\site-packages (from trio~=0.17->selenium) (3.3)\n",
      "Requirement already satisfied: attrs>=19.2.0 in c:\\programdata\\anaconda3\\lib\\site-packages (from trio~=0.17->selenium) (21.4.0)\n",
      "Requirement already satisfied: sortedcontainers in c:\\programdata\\anaconda3\\lib\\site-packages (from trio~=0.17->selenium) (2.4.0)\n",
      "Requirement already satisfied: exceptiongroup>=1.0.0rc9 in c:\\users\\dmcconet\\appdata\\roaming\\python\\python39\\site-packages (from trio~=0.17->selenium) (1.1.0)\n",
      "Requirement already satisfied: async-generator>=1.9 in c:\\users\\dmcconet\\appdata\\roaming\\python\\python39\\site-packages (from trio~=0.17->selenium) (1.10)\n",
      "Requirement already satisfied: sniffio in c:\\programdata\\anaconda3\\lib\\site-packages (from trio~=0.17->selenium) (1.2.0)\n",
      "Requirement already satisfied: wsproto>=0.14 in c:\\users\\dmcconet\\appdata\\roaming\\python\\python39\\site-packages (from trio-websocket~=0.9->selenium) (1.2.0)\n",
      "Requirement already satisfied: PySocks!=1.5.7,<2.0,>=1.5.6 in c:\\programdata\\anaconda3\\lib\\site-packages (from urllib3[socks]~=1.26->selenium) (1.7.1)\n",
      "Requirement already satisfied: pycparser in c:\\programdata\\anaconda3\\lib\\site-packages (from cffi>=1.14->trio~=0.17->selenium) (2.21)\n",
      "Requirement already satisfied: h11<1,>=0.9.0 in c:\\users\\dmcconet\\appdata\\roaming\\python\\python39\\site-packages (from wsproto>=0.14->trio-websocket~=0.9->selenium) (0.14.0)\n"
     ]
    }
   ],
   "source": [
    "!pip install selenium"
   ]
  },
  {
   "cell_type": "code",
   "execution_count": 3,
   "id": "2ceca428",
   "metadata": {},
   "outputs": [],
   "source": [
    "# 웹 크롤링 라이브러리 호출\n",
    "from selenium import webdriver"
   ]
  },
  {
   "cell_type": "code",
   "execution_count": 4,
   "id": "4e340c7d",
   "metadata": {},
   "outputs": [
    {
     "name": "stderr",
     "output_type": "stream",
     "text": [
      "C:\\Users\\DMCCONET\\AppData\\Local\\Temp\\ipykernel_10764\\1838079697.py:2: DeprecationWarning: executable_path has been deprecated, please pass in a Service object\n",
      "  driver = webdriver.Chrome('chromedriver.exe')\n"
     ]
    }
   ],
   "source": [
    "# 드라이버를 이용해서 웹페이지 열지\n",
    "driver = webdriver.Chrome('chromedriver.exe')\n",
    "# 특정사이트에 접속\n",
    "driver.get('https://www.jobplanet.co.kr/job')"
   ]
  },
  {
   "cell_type": "code",
   "execution_count": 5,
   "id": "20330ace",
   "metadata": {},
   "outputs": [],
   "source": [
    "# 전체 카테고리 버튼을 가져와 클릭\n",
    "from selenium.webdriver.common.by import By\n",
    "driver.find_element(By.XPATH,\n",
    "                    '/html/body/div[1]/div[1]/header/div[2]/div/a[1]/span').click()"
   ]
  },
  {
   "cell_type": "code",
   "execution_count": 6,
   "id": "eb92ac7c",
   "metadata": {},
   "outputs": [],
   "source": [
    "# 이메일 입력 \n",
    "driver.find_element(By.XPATH,\n",
    "        '//*[@id=\"user_email\"]').send_keys('52100108@dankook.ac.kr')\n"
   ]
  },
  {
   "cell_type": "code",
   "execution_count": 7,
   "id": "297eebfe",
   "metadata": {},
   "outputs": [],
   "source": [
    "# 비밀번호 입력 \n",
    "driver.find_element(By.XPATH,\n",
    "        '//*[@id=\"user_password\"]').send_keys('kgkg3920691')\n"
   ]
  },
  {
   "cell_type": "code",
   "execution_count": 8,
   "id": "39859a24",
   "metadata": {},
   "outputs": [],
   "source": [
    "# 로그인 버튼 클릭 \n",
    "driver.find_element(By.XPATH,\n",
    "                    '//*[@id=\"signInSignInCon\"]/div[2]/div/section[3]/fieldset/button').click()"
   ]
  },
  {
   "cell_type": "code",
   "execution_count": 9,
   "id": "0a7fb8f0",
   "metadata": {},
   "outputs": [
    {
     "ename": "NoSuchElementException",
     "evalue": "Message: no such element: Unable to locate element: {\"method\":\"xpath\",\"selector\":\"//*[@id=\"premiumReviewChart\"]/div/div[3]/div[2]/div/div[1]/button\"}\n  (Session info: chrome=108.0.5359.125)\nStacktrace:\nBacktrace:\n\t(No symbol) [0x00A3F243]\n\t(No symbol) [0x009C7FD1]\n\t(No symbol) [0x008BD04D]\n\t(No symbol) [0x008EC0B0]\n\t(No symbol) [0x008EC22B]\n\t(No symbol) [0x0091E612]\n\t(No symbol) [0x009085D4]\n\t(No symbol) [0x0091C9EB]\n\t(No symbol) [0x00908386]\n\t(No symbol) [0x008E163C]\n\t(No symbol) [0x008E269D]\n\tGetHandleVerifier [0x00CD9A22+2655074]\n\tGetHandleVerifier [0x00CCCA24+2601828]\n\tGetHandleVerifier [0x00AE8C0A+619850]\n\tGetHandleVerifier [0x00AE7830+614768]\n\t(No symbol) [0x009D05FC]\n\t(No symbol) [0x009D5968]\n\t(No symbol) [0x009D5A55]\n\t(No symbol) [0x009E051B]\n\tBaseThreadInitThunk [0x76246359+25]\n\tRtlGetAppContainerNamedObjectPath [0x77A37B74+228]\n\tRtlGetAppContainerNamedObjectPath [0x77A37B44+180]\n",
     "output_type": "error",
     "traceback": [
      "\u001b[1;31m---------------------------------------------------------------------------\u001b[0m",
      "\u001b[1;31mNoSuchElementException\u001b[0m                    Traceback (most recent call last)",
      "\u001b[1;32m~\\AppData\\Local\\Temp\\ipykernel_10764\\2512983243.py\u001b[0m in \u001b[0;36m<module>\u001b[1;34m\u001b[0m\n\u001b[0;32m      3\u001b[0m \u001b[1;33m\u001b[0m\u001b[0m\n\u001b[0;32m      4\u001b[0m \u001b[1;31m# 열려있는 창 제거\u001b[0m\u001b[1;33m\u001b[0m\u001b[1;33m\u001b[0m\u001b[0m\n\u001b[1;32m----> 5\u001b[1;33m driver.find_element(By.XPATH,\n\u001b[0m\u001b[0;32m      6\u001b[0m                     '//*[@id=\"premiumReviewChart\"]/div/div[3]/div[2]/div/div[1]/button').click()\n",
      "\u001b[1;32m~\\AppData\\Roaming\\Python\\Python39\\site-packages\\selenium\\webdriver\\remote\\webdriver.py\u001b[0m in \u001b[0;36mfind_element\u001b[1;34m(self, by, value)\u001b[0m\n\u001b[0;32m    859\u001b[0m             \u001b[0mvalue\u001b[0m \u001b[1;33m=\u001b[0m \u001b[1;34m'[name=\"%s\"]'\u001b[0m \u001b[1;33m%\u001b[0m \u001b[0mvalue\u001b[0m\u001b[1;33m\u001b[0m\u001b[1;33m\u001b[0m\u001b[0m\n\u001b[0;32m    860\u001b[0m \u001b[1;33m\u001b[0m\u001b[0m\n\u001b[1;32m--> 861\u001b[1;33m         \u001b[1;32mreturn\u001b[0m \u001b[0mself\u001b[0m\u001b[1;33m.\u001b[0m\u001b[0mexecute\u001b[0m\u001b[1;33m(\u001b[0m\u001b[0mCommand\u001b[0m\u001b[1;33m.\u001b[0m\u001b[0mFIND_ELEMENT\u001b[0m\u001b[1;33m,\u001b[0m \u001b[1;33m{\u001b[0m\u001b[1;34m\"using\"\u001b[0m\u001b[1;33m:\u001b[0m \u001b[0mby\u001b[0m\u001b[1;33m,\u001b[0m \u001b[1;34m\"value\"\u001b[0m\u001b[1;33m:\u001b[0m \u001b[0mvalue\u001b[0m\u001b[1;33m}\u001b[0m\u001b[1;33m)\u001b[0m\u001b[1;33m[\u001b[0m\u001b[1;34m\"value\"\u001b[0m\u001b[1;33m]\u001b[0m\u001b[1;33m\u001b[0m\u001b[1;33m\u001b[0m\u001b[0m\n\u001b[0m\u001b[0;32m    862\u001b[0m \u001b[1;33m\u001b[0m\u001b[0m\n\u001b[0;32m    863\u001b[0m     \u001b[1;32mdef\u001b[0m \u001b[0mfind_elements\u001b[0m\u001b[1;33m(\u001b[0m\u001b[0mself\u001b[0m\u001b[1;33m,\u001b[0m \u001b[0mby\u001b[0m\u001b[1;33m=\u001b[0m\u001b[0mBy\u001b[0m\u001b[1;33m.\u001b[0m\u001b[0mID\u001b[0m\u001b[1;33m,\u001b[0m \u001b[0mvalue\u001b[0m\u001b[1;33m:\u001b[0m \u001b[0mOptional\u001b[0m\u001b[1;33m[\u001b[0m\u001b[0mstr\u001b[0m\u001b[1;33m]\u001b[0m \u001b[1;33m=\u001b[0m \u001b[1;32mNone\u001b[0m\u001b[1;33m)\u001b[0m \u001b[1;33m->\u001b[0m \u001b[0mList\u001b[0m\u001b[1;33m[\u001b[0m\u001b[0mWebElement\u001b[0m\u001b[1;33m]\u001b[0m\u001b[1;33m:\u001b[0m\u001b[1;33m\u001b[0m\u001b[1;33m\u001b[0m\u001b[0m\n",
      "\u001b[1;32m~\\AppData\\Roaming\\Python\\Python39\\site-packages\\selenium\\webdriver\\remote\\webdriver.py\u001b[0m in \u001b[0;36mexecute\u001b[1;34m(self, driver_command, params)\u001b[0m\n\u001b[0;32m    442\u001b[0m         \u001b[0mresponse\u001b[0m \u001b[1;33m=\u001b[0m \u001b[0mself\u001b[0m\u001b[1;33m.\u001b[0m\u001b[0mcommand_executor\u001b[0m\u001b[1;33m.\u001b[0m\u001b[0mexecute\u001b[0m\u001b[1;33m(\u001b[0m\u001b[0mdriver_command\u001b[0m\u001b[1;33m,\u001b[0m \u001b[0mparams\u001b[0m\u001b[1;33m)\u001b[0m\u001b[1;33m\u001b[0m\u001b[1;33m\u001b[0m\u001b[0m\n\u001b[0;32m    443\u001b[0m         \u001b[1;32mif\u001b[0m \u001b[0mresponse\u001b[0m\u001b[1;33m:\u001b[0m\u001b[1;33m\u001b[0m\u001b[1;33m\u001b[0m\u001b[0m\n\u001b[1;32m--> 444\u001b[1;33m             \u001b[0mself\u001b[0m\u001b[1;33m.\u001b[0m\u001b[0merror_handler\u001b[0m\u001b[1;33m.\u001b[0m\u001b[0mcheck_response\u001b[0m\u001b[1;33m(\u001b[0m\u001b[0mresponse\u001b[0m\u001b[1;33m)\u001b[0m\u001b[1;33m\u001b[0m\u001b[1;33m\u001b[0m\u001b[0m\n\u001b[0m\u001b[0;32m    445\u001b[0m             \u001b[0mresponse\u001b[0m\u001b[1;33m[\u001b[0m\u001b[1;34m\"value\"\u001b[0m\u001b[1;33m]\u001b[0m \u001b[1;33m=\u001b[0m \u001b[0mself\u001b[0m\u001b[1;33m.\u001b[0m\u001b[0m_unwrap_value\u001b[0m\u001b[1;33m(\u001b[0m\u001b[0mresponse\u001b[0m\u001b[1;33m.\u001b[0m\u001b[0mget\u001b[0m\u001b[1;33m(\u001b[0m\u001b[1;34m\"value\"\u001b[0m\u001b[1;33m,\u001b[0m \u001b[1;32mNone\u001b[0m\u001b[1;33m)\u001b[0m\u001b[1;33m)\u001b[0m\u001b[1;33m\u001b[0m\u001b[1;33m\u001b[0m\u001b[0m\n\u001b[0;32m    446\u001b[0m             \u001b[1;32mreturn\u001b[0m \u001b[0mresponse\u001b[0m\u001b[1;33m\u001b[0m\u001b[1;33m\u001b[0m\u001b[0m\n",
      "\u001b[1;32m~\\AppData\\Roaming\\Python\\Python39\\site-packages\\selenium\\webdriver\\remote\\errorhandler.py\u001b[0m in \u001b[0;36mcheck_response\u001b[1;34m(self, response)\u001b[0m\n\u001b[0;32m    247\u001b[0m                 \u001b[0malert_text\u001b[0m \u001b[1;33m=\u001b[0m \u001b[0mvalue\u001b[0m\u001b[1;33m[\u001b[0m\u001b[1;34m\"alert\"\u001b[0m\u001b[1;33m]\u001b[0m\u001b[1;33m.\u001b[0m\u001b[0mget\u001b[0m\u001b[1;33m(\u001b[0m\u001b[1;34m\"text\"\u001b[0m\u001b[1;33m)\u001b[0m\u001b[1;33m\u001b[0m\u001b[1;33m\u001b[0m\u001b[0m\n\u001b[0;32m    248\u001b[0m             \u001b[1;32mraise\u001b[0m \u001b[0mexception_class\u001b[0m\u001b[1;33m(\u001b[0m\u001b[0mmessage\u001b[0m\u001b[1;33m,\u001b[0m \u001b[0mscreen\u001b[0m\u001b[1;33m,\u001b[0m \u001b[0mstacktrace\u001b[0m\u001b[1;33m,\u001b[0m \u001b[0malert_text\u001b[0m\u001b[1;33m)\u001b[0m  \u001b[1;31m# type: ignore[call-arg]  # mypy is not smart enough here\u001b[0m\u001b[1;33m\u001b[0m\u001b[1;33m\u001b[0m\u001b[0m\n\u001b[1;32m--> 249\u001b[1;33m         \u001b[1;32mraise\u001b[0m \u001b[0mexception_class\u001b[0m\u001b[1;33m(\u001b[0m\u001b[0mmessage\u001b[0m\u001b[1;33m,\u001b[0m \u001b[0mscreen\u001b[0m\u001b[1;33m,\u001b[0m \u001b[0mstacktrace\u001b[0m\u001b[1;33m)\u001b[0m\u001b[1;33m\u001b[0m\u001b[1;33m\u001b[0m\u001b[0m\n\u001b[0m",
      "\u001b[1;31mNoSuchElementException\u001b[0m: Message: no such element: Unable to locate element: {\"method\":\"xpath\",\"selector\":\"//*[@id=\"premiumReviewChart\"]/div/div[3]/div[2]/div/div[1]/button\"}\n  (Session info: chrome=108.0.5359.125)\nStacktrace:\nBacktrace:\n\t(No symbol) [0x00A3F243]\n\t(No symbol) [0x009C7FD1]\n\t(No symbol) [0x008BD04D]\n\t(No symbol) [0x008EC0B0]\n\t(No symbol) [0x008EC22B]\n\t(No symbol) [0x0091E612]\n\t(No symbol) [0x009085D4]\n\t(No symbol) [0x0091C9EB]\n\t(No symbol) [0x00908386]\n\t(No symbol) [0x008E163C]\n\t(No symbol) [0x008E269D]\n\tGetHandleVerifier [0x00CD9A22+2655074]\n\tGetHandleVerifier [0x00CCCA24+2601828]\n\tGetHandleVerifier [0x00AE8C0A+619850]\n\tGetHandleVerifier [0x00AE7830+614768]\n\t(No symbol) [0x009D05FC]\n\t(No symbol) [0x009D5968]\n\t(No symbol) [0x009D5A55]\n\t(No symbol) [0x009E051B]\n\tBaseThreadInitThunk [0x76246359+25]\n\tRtlGetAppContainerNamedObjectPath [0x77A37B74+228]\n\tRtlGetAppContainerNamedObjectPath [0x77A37B44+180]\n"
     ]
    }
   ],
   "source": [
    "# 포스코 기업 페이지 접속\n",
    "driver.get('https://www.jobplanet.co.kr/companies/50130/reviews/%ED%8F%AC%EC%8A%A4%EC%BD%94')\n",
    "\n",
    "# 열려있는 창 제거\n",
    "driver.find_element(By.XPATH,\n",
    "                    '//*[@id=\"premiumReviewChart\"]/div/div[3]/div[2]/div/div[1]/button').click()"
   ]
  },
  {
   "cell_type": "code",
   "execution_count": null,
   "id": "8cb895b9",
   "metadata": {},
   "outputs": [],
   "source": [
    "div_list = []\n",
    "comm_list = []\n",
    "for i in range(1,6):\n",
    "    div_name  = driver.find_element(By.XPATH,\n",
    "      '//*[@id=\"viewReviewsList\"]/div/div/div/section['+str(i)+']/div/div[1]/span[2]').text    \n",
    "    comm = driver.find_element(By.XPATH,\n",
    "      '//*[@id=\"viewReviewsList\"]/div/div/div/section['+str(i)+']/div/div[2]/div/div[1]/h2').text\n",
    "    div_list.append(div_name)\n",
    "    comm_list.append(comm)"
   ]
  },
  {
   "cell_type": "code",
   "execution_count": null,
   "id": "5cc986ef",
   "metadata": {},
   "outputs": [],
   "source": [
    "pd.DataFrame({'부서명':div_list, '한줄평':comm_list})"
   ]
  },
  {
   "cell_type": "code",
   "execution_count": null,
   "id": "fe10349c",
   "metadata": {},
   "outputs": [],
   "source": [
    "# 페이지 정보가 불러올 때까지 기다림\n",
    "driver.implicitly_wait(10)"
   ]
  },
  {
   "cell_type": "code",
   "execution_count": null,
   "id": "b8412051",
   "metadata": {},
   "outputs": [],
   "source": [
    "def scrap1( ): \n",
    "    div_list = []\n",
    "    comm_list = []\n",
    "    for i in range(1,6): \n",
    "        try :\n",
    "            div_name  = driver.find_element(By.XPATH,\n",
    "                  '//*[@id=\"viewReviewsList\"]/div/div/div/section['+str(i)+']/div/div[1]/span[2]').text    \n",
    "            comm = driver.find_element(By.XPATH,\n",
    "                  '//*[@id=\"viewReviewsList\"]/div/div/div/section['+str(i)+']/div/div[2]/div/div[1]/h2').text\n",
    "            div_list.append(div_name)\n",
    "            comm_list.append(comm)\n",
    "        except Exception as e :\n",
    "            print(e)\n",
    "        finally : \n",
    "            pass"
   ]
  },
  {
   "cell_type": "code",
   "execution_count": null,
   "id": "3f57f79a",
   "metadata": {},
   "outputs": [],
   "source": [
    "scrap1()"
   ]
  },
  {
   "cell_type": "code",
   "execution_count": null,
   "id": "955f6c10",
   "metadata": {
    "scrolled": true
   },
   "outputs": [],
   "source": [
    "# 창을 띄우지 않고 크롤링을 수행 \n",
    "options = webdriver.ChromeOptions()\n",
    "options.add_argument('headless') \n",
    "\n",
    "driver = webdriver.Chrome(options = options)\n",
    "driver.get('https://www.jobplanet.co.kr') # 웹사이트 실행 \n",
    "driver.quit() # 크롤링 종료 "
   ]
  },
  {
   "cell_type": "code",
   "execution_count": null,
   "id": "15e60595",
   "metadata": {},
   "outputs": [],
   "source": [
    "def start_Code( url ):\n",
    "    import time \n",
    "    driver = webdriver.Chrome('chromedriver')\n",
    "    # driver = webdriver.Chrome(ChromeDriverManager().install())  # Mac \n",
    "    driver.get('https://www.jobplanet.co.kr')\n",
    "    driver.implicitly_wait(10)  \n",
    "    time.sleep(2)\n",
    "    driver.find_element(By.XPATH, \n",
    "                '/html/body/div[1]/div[1]/header/div[2]/div[2]/a[1]/span').click()\n",
    "    driver.find_element(By.XPATH,\n",
    "                   '//*[@id=\"user_email\"]').send_keys('52100108@dankook.ac.kr')\n",
    "    driver.find_element(By.XPATH,\n",
    "                   '//*[@id=\"user_password\"]').send_keys('kgkg3920691')\n",
    "    driver.find_element(By.XPATH,\n",
    "        '//*[@id=\"signInSignInCon\"]/div[2]/div/section[3]/fieldset/button').click()\n",
    "    import time\n",
    "    time.sleep(5) \n",
    "    driver.get(url)\n",
    "    driver.find_element(By.XPATH,\n",
    "        '//*[@id=\"premiumReviewChart\"]/div/div[3]/div[2]/div/div[1]/button').click()\n",
    "    \n",
    "    pasing_Scrap(driver)"
   ]
  },
  {
   "cell_type": "code",
   "execution_count": null,
   "id": "6aea6ddc",
   "metadata": {},
   "outputs": [],
   "source": [
    "def pasing_Scrap(driver):\n",
    "    import time\n",
    "    for p in range(0,30): \n",
    "        try:\n",
    "            driver.implicitly_wait(3)\n",
    "\n",
    "            comm_Scrap(driver)\n",
    "        except:\n",
    "            print('pasing Error')\n",
    "        finally:\n",
    "            time.sleep(3)\n",
    "            driver.find_element(By.XPATH, '//*[@id=\"viewReviewsList\"]/div/div/div/div[5]/article/a[7]').click()\n",
    "            print('Done')"
   ]
  },
  {
   "cell_type": "code",
   "execution_count": null,
   "id": "5b2b1470",
   "metadata": {},
   "outputs": [],
   "source": [
    "def pasing_Scrap(driver):\n",
    "    import time\n",
    "    for p in range(0,30): \n",
    "        try:\n",
    "            driver.implicitly_wait(3)\n",
    "\n",
    "            comm_Scrap(driver)\n",
    "        except:\n",
    "            print('pasing Error')\n",
    "        finally:\n",
    "            time.sleep(3)\n",
    "            driver.find_element(By.XPATH, '//*[@id=\"viewReviewsList\"]/div/div/div/div[5]/article/a[7]').click()\n",
    "            print('Done')"
   ]
  },
  {
   "cell_type": "code",
   "execution_count": null,
   "id": "80b1d32b",
   "metadata": {},
   "outputs": [],
   "source": [
    "def comm_Scrap(driver):\n",
    "    for i in range(1,6):\n",
    "        try:\n",
    "            import time\n",
    "            driver.implicitly_wait(3)\n",
    "            div_txt = driver.find_element(By.XPATH, '//*[@id=\"viewReviewsList\"]/div/div/div/section['+str(i)+']/div/div[1]/span[2]').text\n",
    "            state_txt = driver.find_element(By.XPATH, '//*[@id=\"viewReviewsList\"]/div/div/div/section['+str(i)+']/div/div[1]/span[4]').text\n",
    "            regin_txt = driver.find_element(By.XPATH, '//*[@id=\"viewReviewsList\"]/div/div/div/section['+str(i)+']/div/div[1]/span[6]').text\n",
    "            date_txt = driver.find_element(By.XPATH, '//*[@id=\"viewReviewsList\"]/div/div/div/section['+str(i)+']/div/div[1]/span[8]').text\n",
    "            comm_txt = driver.find_element(By.XPATH, '//*[@id=\"viewReviewsList\"]/div/div/div/section['+str(i)+']/div/div[2]/div/div[1]/h2').text\n",
    "            good_txt = driver.find_element(By.XPATH, '//*[@id=\"viewReviewsList\"]/div/div/div/section['+str(i)+']/div/div[2]/div/dl/dd[1]/span').text\n",
    "            bad_txt = driver.find_element(By.XPATH, '//*[@id=\"viewReviewsList\"]/div/div/div/section['+str(i)+']/div/div[2]/div/dl/dd[2]/span').text\n",
    "           \n",
    "            div_list.append(div_txt)\n",
    "            state_list.append(state_txt)\n",
    "            regin_list.append(regin_txt)\n",
    "            date_list.append(date_txt)\n",
    "            comm_list.append(comm_txt)\n",
    "            good_comm_list.append(good_txt)\n",
    "            bad_comm_list.append(bad_txt)\n",
    "        except :\n",
    "            print('comm Error')\n",
    "        finally : \n",
    "            pass"
   ]
  },
  {
   "cell_type": "code",
   "execution_count": null,
   "id": "fee52d23",
   "metadata": {},
   "outputs": [],
   "source": [
    "div_list = [] # 직군 \n",
    "state_list = [] # 전현직 상태\n",
    "regin_list = [] # 지역\n",
    "date_list  = [] # 작성일자 \n",
    "comm_list  = [] # 한줄평 \n",
    "good_comm_list = [] # 장점\n",
    "bad_comm_list  = [] # 단점 "
   ]
  },
  {
   "cell_type": "code",
   "execution_count": null,
   "id": "8216d9f9",
   "metadata": {},
   "outputs": [],
   "source": [
    "start_Code('https://www.jobplanet.co.kr/companies/50130/reviews/%ED%8F%AC%EC%8A%A4%EC%BD%94')"
   ]
  },
  {
   "cell_type": "code",
   "execution_count": null,
   "id": "747ffa24",
   "metadata": {},
   "outputs": [],
   "source": [
    "pd.DataFrame({'작성일자':date_list , '직군':div_list , '지역': regin_list, '한줄평':comm_list,\n",
    "             '기업장점':good_comm_list , '기업단점':bad_comm_list})"
   ]
  },
  {
   "cell_type": "markdown",
   "id": "fa3bd55e",
   "metadata": {},
   "source": [
    "# 제조 공정 데이터 분석"
   ]
  },
  {
   "cell_type": "code",
   "execution_count": null,
   "id": "c4a2283d",
   "metadata": {},
   "outputs": [],
   "source": [
    "df1 = pd.read_csv('07_Data.csv')\n",
    "df1.info()"
   ]
  },
  {
   "cell_type": "code",
   "execution_count": null,
   "id": "dedb1ad7",
   "metadata": {},
   "outputs": [],
   "source": [
    "df1['제품두께'].unique()"
   ]
  },
  {
   "cell_type": "code",
   "execution_count": null,
   "id": "b7979004",
   "metadata": {},
   "outputs": [],
   "source": [
    "df1['제품두께(float)'] = df1['제품두께'].replace({'415-515':4.15, '417-518':4.17}).astype(float)"
   ]
  },
  {
   "cell_type": "code",
   "execution_count": null,
   "id": "0502db70",
   "metadata": {},
   "outputs": [],
   "source": [
    "df1['제품두께'].unique()"
   ]
  },
  {
   "cell_type": "code",
   "execution_count": null,
   "id": "c6e64ff9",
   "metadata": {
    "scrolled": true
   },
   "outputs": [],
   "source": [
    "# 연속형 X - 연속형 Y\n",
    "# 정지시간2 (오류가 조치될 때까지 걸린시간) - '제품두께(float)' 데이터 간 상관성 확인\n",
    "\n",
    "plt.ylim([0, 0.5])\n",
    "plt.xlim([0, 100])\n",
    "sns.scatterplot(data=df1, x='정지시간2', y='제품두께(float)')"
   ]
  },
  {
   "cell_type": "code",
   "execution_count": null,
   "id": "40f7eec4",
   "metadata": {},
   "outputs": [],
   "source": [
    "# 연속형 데이터의 정규성 확인\n",
    "stats.normaltest(df1['정지시간2'])"
   ]
  },
  {
   "cell_type": "code",
   "execution_count": null,
   "id": "5c08081d",
   "metadata": {},
   "outputs": [],
   "source": [
    "stats.normaltest(df1['제품두께(float)'])"
   ]
  },
  {
   "cell_type": "code",
   "execution_count": null,
   "id": "81a3e31c",
   "metadata": {},
   "outputs": [],
   "source": [
    "# 결측값 제거 (dropna)\n",
    "df2 = df1.dropna()"
   ]
  },
  {
   "cell_type": "code",
   "execution_count": null,
   "id": "9a7e3ac7",
   "metadata": {},
   "outputs": [],
   "source": [
    "print(stats.normaltest(df2['정지시간2']))\n",
    "print(stats.normaltest(df2['제품두께(float)']))"
   ]
  },
  {
   "cell_type": "code",
   "execution_count": null,
   "id": "fbd81e4e",
   "metadata": {},
   "outputs": [],
   "source": [
    "# 제품두께에 따른 오류 조치까지 걸린시간이 서로 상관성이 있는가\n",
    "# 귀무가설 : 제품두께에 따른 오류 조치까지 걸린시간이 서로 상관성이 없다.\n",
    "# 대립가설 : 제품두께에 따른 오류 조치까지 걸린시간이 서로 상관성이 있다.\n",
    "stats.spearmanr(df2['정지시간2'], df2['제품두께(float)'])\n",
    "# P.value > 0.05 / 귀무가설 참 / 두 연속형 자료는 서로 상관성이 없다."
   ]
  },
  {
   "cell_type": "markdown",
   "id": "12e3f50e",
   "metadata": {},
   "source": [
    "# Mission 6\n",
    "\n",
    "- 07_Data.csv 파일을 가져와 df1으로 선언해 아래와 같은 분석을 하고자 한다, \n",
    "1) df1 데이터서 '메세지'의 빈도수를 확인 \n",
    "2) 오류 '메세지'가 가장 많은 항목을 추출하여 df_error 로 선언 \n",
    "3) df_error 데이터의 '작업구분' (주/야간)에 따른 '정지시간2' (오류 조치시간)의 평균을 계산하여, result_error.csv 로 저장 \n",
    "4) df_error 데이터의 '작업구분' (주/야간)에 따른 '정지시간2' (오류 조치시간)의 평균의 차이가 있는지 가설검정을 수행 \n",
    "5) df_error 데이터의 '제품두께(float)'에 따른 '정지시간2'의 상관관계를 산점도로 시각화 하시오 \n",
    "6) df_error 데이터의 '제품두께(float)'에 따른 '정지시간2'의 상관관계가 있는지 가설검정을 수행\n",
    "\n",
    "- 08_Data.csv 데이터를 가져와 df3로 선언하여 아래와 같은 미션을 수행 \n",
    "7) df3 데이터의 구조와 타입을 확인하고, 연속형 데이터의 평균/중앙값/표준편차를 확인\n",
    "8) df3 데이터에서 Etching1 에 해당하는 값을 34를 기준으로 분할 \n",
    "    - Etching1이 34 이상이면 A \n",
    "    - Etching1이 34 미만이면 B 로 '분류'라는 새로운 변수로 선언\n",
    "9) df3에서 CVD1과 CVD2 데이터의 상관성이 있는지 분석하고자 한다.\n",
    "    - CVD1값과 CVD2값의 산점도를 scatterplot으로 시각화 하시오\n",
    "    - '분류'에 따른 CVD1과 CVD2값을 산점도로 시각화 하시오 \n",
    "10) df3에서 Target값이 높은 상위 100개 데이터를 추출하여,\n",
    "    - '분류'에 (A,B) 따른 CVD3의 평균의 유의미한 차이가 있는지 가설검정 \n",
    "    -  결측값은 제거 후 검정 진행 / P.value 와 결론까지 작성 \n",
    "    - '분류'에 (A,B) 따른 CVD3값의 평균을 bar chart로 시각화 \n",
    "11) df3의 '분류'에 따른 'Photo1'값과 'Photo2'값의 합/최대/최소값을 계산 \n",
    "12) df3의 'DATE'항목을 날짜데이터로 변환하여, 'DATE_dt'로 선언한 뒤, 일자만 추출하여, \n",
    "    - '분류'에 따른 '일자'별 'Target'값의 합을 계산\n"
   ]
  },
  {
   "cell_type": "markdown",
   "id": "70aee08b",
   "metadata": {},
   "source": [
    "# - 07_Data.csv 파일을 가져와 df1으로 선언해 아래와 같은 분석을 하고자 한다. "
   ]
  },
  {
   "cell_type": "code",
   "execution_count": 112,
   "id": "5d15aef5",
   "metadata": {},
   "outputs": [
    {
     "name": "stdout",
     "output_type": "stream",
     "text": [
      "<class 'pandas.core.frame.DataFrame'>\n",
      "RangeIndex: 2792 entries, 0 to 2791\n",
      "Data columns (total 12 columns):\n",
      " #   Column  Non-Null Count  Dtype  \n",
      "---  ------  --------------  -----  \n",
      " 0   메세지     2792 non-null   object \n",
      " 1   발생시간    2792 non-null   object \n",
      " 2   조치시간    2792 non-null   object \n",
      " 3   정지시간    2792 non-null   object \n",
      " 4   정지시간2   2792 non-null   float64\n",
      " 5   모델      1112 non-null   object \n",
      " 6   제품두께    1112 non-null   object \n",
      " 7   제품싸이즈   1112 non-null   object \n",
      " 8   작업구분    2792 non-null   object \n",
      " 9   작업자     1112 non-null   object \n",
      " 10  온도      2792 non-null   float64\n",
      " 11  습도      2792 non-null   float64\n",
      "dtypes: float64(3), object(9)\n",
      "memory usage: 261.9+ KB\n"
     ]
    }
   ],
   "source": [
    "# 데이터를 불러와 df1 이름의 변수로 선언\n",
    "df1 = pd.read_csv('07_Data.csv') # read_csv : 파일 호출\n",
    "df1.info()"
   ]
  },
  {
   "cell_type": "markdown",
   "id": "0410edcb",
   "metadata": {},
   "source": [
    "1) df1 데이터에서 '메세지'의 빈도수를 확인"
   ]
  },
  {
   "cell_type": "code",
   "execution_count": 113,
   "id": "d0063f0e",
   "metadata": {},
   "outputs": [
    {
     "data": {
      "text/plain": [
       "Door Open         1345\n",
       "자재 픽업 에러           425\n",
       "비젼 가동 준비 Error     234\n",
       "롯트 종료              229\n",
       "초기화 Error          215\n",
       "e-CIM 관련에러         133\n",
       "메가진 Full           119\n",
       "타임 오버               45\n",
       "SYSTEM HANG UP      35\n",
       "비젼 데이터               6\n",
       "ITS 데이터              3\n",
       "드라이버 알람              2\n",
       "컨드롤러 알람              1\n",
       "Name: 메세지, dtype: int64"
      ]
     },
     "execution_count": 113,
     "metadata": {},
     "output_type": "execute_result"
    }
   ],
   "source": [
    "# 문자 범주형 갯수셀때 value_counts() : 범주형 데이터 빈도수 확인\n",
    "df1['메세지'].value_counts()"
   ]
  },
  {
   "cell_type": "code",
   "execution_count": 114,
   "id": "63bcd78c",
   "metadata": {},
   "outputs": [
    {
     "data": {
      "text/plain": [
       "컨드롤러 알람              1\n",
       "드라이버 알람              2\n",
       "ITS 데이터              3\n",
       "비젼 데이터               6\n",
       "SYSTEM HANG UP      35\n",
       "타임 오버               45\n",
       "메가진 Full           119\n",
       "e-CIM 관련에러         133\n",
       "초기화 Error          215\n",
       "롯트 종료              229\n",
       "비젼 가동 준비 Error     234\n",
       "자재 픽업 에러           425\n",
       "Door Open         1345\n",
       "Name: 메세지, dtype: int64"
      ]
     },
     "execution_count": 114,
     "metadata": {},
     "output_type": "execute_result"
    }
   ],
   "source": [
    "df1['메세지'].value_counts().sort_values()"
   ]
  },
  {
   "cell_type": "markdown",
   "id": "1a30d531",
   "metadata": {},
   "source": [
    "2) '메세지'(오류메세지) 가 가장 많은 항목을 추출하여 df_error 로 선언 \n"
   ]
  },
  {
   "cell_type": "code",
   "execution_count": 115,
   "id": "467088cf",
   "metadata": {},
   "outputs": [],
   "source": [
    "cond1 = (df1['메세지']=='Door Open')\n",
    "df_error = df1.loc[cond1]\n",
    "# 특정 조건에 True 해당하는 데이터를 추출"
   ]
  },
  {
   "cell_type": "code",
   "execution_count": 116,
   "id": "29ae4e7a",
   "metadata": {},
   "outputs": [],
   "source": [
    "cond1=(df1['메세지']=='Door Open')\n",
    "df_error=df1.loc[cond1]"
   ]
  },
  {
   "cell_type": "markdown",
   "id": "96b28c2e",
   "metadata": {},
   "source": [
    "3) df_error 데이터의 '작업구분' (주/야간)에 따른 '정지시간2' (오류 조치시간)의 평균을 계산하여, result_error.csv 로 저장"
   ]
  },
  {
   "cell_type": "code",
   "execution_count": 117,
   "id": "77f08e2f",
   "metadata": {},
   "outputs": [],
   "source": [
    "# 데이터를 보고싶을때 추출하고싶을때 값만 보고싶을때 피벗테이블\n",
    "# pivot_table : 특정 범주형 항목 별로 숫자값의 통계량을 계산\n",
    "# index -범주형 / values -연속형 / aggfunc -통계량\n",
    "# to_csv : 해당 데이터 프레임을 csv 파일로 저장"
   ]
  },
  {
   "cell_type": "code",
   "execution_count": 118,
   "id": "aeb94d2a",
   "metadata": {},
   "outputs": [],
   "source": [
    "df_error.pivot_table(index='작업구분',values='정지시간2',\n",
    "                     aggfunc='mean').to_csv(\"result_error.csv\")"
   ]
  },
  {
   "cell_type": "markdown",
   "id": "8226443e",
   "metadata": {},
   "source": [
    "4) df_error 데이터의 '작업구분'(주/야간)에 따른 '정지시간2' (오류 조치시간)의 평균의 차이가 있는지 가설검정을 수행"
   ]
  },
  {
   "cell_type": "markdown",
   "id": "7758b289",
   "metadata": {},
   "source": [
    "- 통계학에서 보통상황(귀무가설) :\n",
    "    1. 서로 다른 항목(서로 다른 Columns)들이 독립적이다.\n",
    "    2. 연속형 데이터의 경우, 정규분포를 따른다.\n",
    "    (연속형 데이터는 중심극한 정리의 해당 표본의 모집단의 분포를 정규분포로 추정할 수 있다.\n",
    "    3. 서로 다른 연속형 데이터는 상관성이 없다."
   ]
  },
  {
   "cell_type": "code",
   "execution_count": 119,
   "id": "d60f259d",
   "metadata": {},
   "outputs": [
    {
     "data": {
      "text/plain": [
       "NormaltestResult(statistic=2647.03980170818, pvalue=0.0)"
      ]
     },
     "execution_count": 119,
     "metadata": {},
     "output_type": "execute_result"
    }
   ],
   "source": [
    "# 범주형 VS 연속형 - 평균비교 \n",
    "# 4-1) 연속형(정지시간2)의 정규성 검정\n",
    "# 귀무 가설 (보통상태) : 해당 데이터의 분포는 정규분포를 따른다. \n",
    "# 대립 가설 (이상상태) : 해당 데이터의 분포는 정규분포를 따르지 않는다.\n",
    "stats.normaltest( df_error['정지시간2'] ) \n",
    "# stats 라이브러리 내 가설검정 함수 -> Serise 형태로 데이터를 사용 \n",
    "# P.value (귀무가설이 참일 확률) / < 0.05 (유의수준) / 대립가설 참 # \n",
    "# 해당 데이터의 분포는 정규분포를 따르지 않는다\n"
   ]
  },
  {
   "cell_type": "code",
   "execution_count": 120,
   "id": "bb8b34a6",
   "metadata": {},
   "outputs": [
    {
     "data": {
      "text/plain": [
       "RanksumsResult(statistic=1.663870780217619, pvalue=0.09613825542066314)"
      ]
     },
     "execution_count": 120,
     "metadata": {},
     "output_type": "execute_result"
    }
   ],
   "source": [
    "# 4-2) 주/야간에 따른 정지시간2의 평균의 차이가 있는가? (정규성X)\n",
    "# 귀무가설 : 주/야간에 따른 정지시간2의 평균의 차이가 없다. \n",
    "# 대립가설 : 주/야간에 따른 정지시간2의 평균의 차이가 있다. \n",
    "cond1 = (df_error['작업구분']=='주간')\n",
    "cond2 = (df_error['작업구분']=='야간')\n",
    "df_days  = df_error.loc[cond1] # 작업구분이 '주간' 에 해당 하는 데이터\n",
    "df_night = df_error.loc[cond2] # 작업구분이 '야간' 에 해당 하는 데이터\n",
    "stats.ranksums(df_days['정지시간2'], df_night['정지시간2'])\n",
    "# P.value > 0.05 / 귀무가설 참 / 주/야간에 따른 정지시간2의 평균의 차이가 없다."
   ]
  },
  {
   "cell_type": "markdown",
   "id": "bb039813",
   "metadata": {},
   "source": [
    "5) df_error 데이터의 '제품두께(float)'에 따른 '정지시간2'의 상관관계를 산점도로 시각화 하시오 "
   ]
  },
  {
   "cell_type": "code",
   "execution_count": 121,
   "id": "183be6e3",
   "metadata": {},
   "outputs": [
    {
     "data": {
      "text/plain": [
       "array(['0.25', '2.25', '3.25', '5.25', '7.25', '8.25', '10.25', '12.25',\n",
       "       '14.25', '16.25', nan, '1.13', '2.13', '6.13', '10.13', '0.15',\n",
       "       '0.17', '0.32', '415-515', '417-518', '0.21', '0.38', '0.18',\n",
       "       '0.26', '0.56', '0.13', '0.36', '0.12', '0.1', '0.255', '0.3'],\n",
       "      dtype=object)"
      ]
     },
     "execution_count": 121,
     "metadata": {},
     "output_type": "execute_result"
    }
   ],
   "source": [
    "df_error['제품두께'].unique() #unique : 범주형 데이터 항목 확인"
   ]
  },
  {
   "cell_type": "code",
   "execution_count": 141,
   "id": "09038c8c",
   "metadata": {},
   "outputs": [
    {
     "name": "stderr",
     "output_type": "stream",
     "text": [
      "C:\\Users\\DMCCONET\\AppData\\Local\\Temp\\ipykernel_10764\\2266402390.py:3: SettingWithCopyWarning: \n",
      "A value is trying to be set on a copy of a slice from a DataFrame.\n",
      "Try using .loc[row_indexer,col_indexer] = value instead\n",
      "\n",
      "See the caveats in the documentation: https://pandas.pydata.org/pandas-docs/stable/user_guide/indexing.html#returning-a-view-versus-a-copy\n",
      "  df_error1['제품두께(float)'] = df_error['제품두께'].replace({'415-515':4.15,\n"
     ]
    }
   ],
   "source": [
    "# replace : 특정 값을 다른 값으로 변경\n",
    "# astype : 데이터 타입을 변경하는 함수\n",
    "df_error['제품두께(float)'] = df_error['제품두께'].replace({'415-515':4.15,\n",
    "                                                    '417-518':4.17}).astype(float)\n",
    "# 변경된 값을 새로운 항목으로 선언 사용"
   ]
  },
  {
   "cell_type": "code",
   "execution_count": 137,
   "id": "82db137e",
   "metadata": {
    "scrolled": false
   },
   "outputs": [
    {
     "data": {
      "text/plain": [
       "<AxesSubplot:xlabel='제품두께(float)', ylabel='정지시간2'>"
      ]
     },
     "execution_count": 137,
     "metadata": {},
     "output_type": "execute_result"
    },
    {
     "data": {
      "image/png": "[encoded data removed]",
      "text/plain": [
       "<Figure size 640x480 with 1 Axes>"
      ]
     },
     "metadata": {},
     "output_type": "display_data"
    }
   ],
   "source": [
    "# 산점도 시각화 Scatter Plot\n",
    "plt.ylim([-10,800]) # .ylim : y축을 조절하는 함수\n",
    "plt.xlim([0,0.6]) # .xlim : x축을 조절하는 함수\n",
    "sns.scatterplot(data=df_error, x='제품두께(float)', y='정지시간2')"
   ]
  },
  {
   "cell_type": "markdown",
   "id": "e6add69e",
   "metadata": {},
   "source": [
    "6) df_error 데이터의 '제품두께(float)'에 따른 '정지시간2'의 상관관계가 있는지 가설검정을 수행"
   ]
  },
  {
   "cell_type": "code",
   "execution_count": 140,
   "id": "9aeb221c",
   "metadata": {},
   "outputs": [
    {
     "name": "stdout",
     "output_type": "stream",
     "text": [
      "NormaltestResult(statistic=627.213616388511, pvalue=6.342985431902706e-137)\n",
      "NormaltestResult(statistic=1056.047139580023, pvalue=4.811464937787554e-230)\n"
     ]
    }
   ],
   "source": [
    "# df_error 데이터에서 결측값을 제거한다음 df_error1 으로 선언하여 분석\n",
    "df_error1 = df_error.dropna()\n",
    "print(stats.normaltest(df_error1['제품두께(float)'])\n",
    "print(stats.normaltest(df_error1['정지시간2'])\n",
    "# 두 연속형 데이터의 분포는 정규분포를 따르지 않는다"
   ]
  },
  {
   "cell_type": "code",
   "execution_count": 142,
   "id": "d890f4af",
   "metadata": {},
   "outputs": [
    {
     "data": {
      "text/plain": [
       "SpearmanrResult(correlation=-0.04930074002078616, pvalue=0.2567647773354053)"
      ]
     },
     "execution_count": 142,
     "metadata": {},
     "output_type": "execute_result"
    }
   ],
   "source": [
    "# 6-2) 제품두께와 정지시간의 상관성을 확인\n",
    "# 귀무 : 제품두께와 정지시간의 상관성이 없다.\n",
    "# 대립 : 제품두께와 정지시간의 상관성이 있다.\n",
    "stats.spearmanr(df_error1['제품두께(float)'], df_error1['정지시간2'])\n",
    "# P.value > 0.05 / 귀무가설 참 / 제품두께와 정지시간의 상관성이 없다."
   ]
  },
  {
   "cell_type": "markdown",
   "id": "7c6a9b9d",
   "metadata": {},
   "source": [
    "# - 08_Data.csv 데이터를 가져와 df3로 선언하여 아래와 같은 미션을 수행 "
   ]
  },
  {
   "cell_type": "markdown",
   "id": "8489fd65",
   "metadata": {},
   "source": [
    "7) df3 데이터의 구조와 타입을 확인하고, 연속형 데이터의 평균/중앙값/표준편차를 확인"
   ]
  },
  {
   "cell_type": "code",
   "execution_count": 32,
   "id": "66f4c867",
   "metadata": {},
   "outputs": [
    {
     "name": "stdout",
     "output_type": "stream",
     "text": [
      "<class 'pandas.core.frame.DataFrame'>\n",
      "RangeIndex: 311 entries, 0 to 310\n",
      "Data columns (total 67 columns):\n",
      " #   Column         Non-Null Count  Dtype  \n",
      "---  ------         --------------  -----  \n",
      " 0   DATE           311 non-null    object \n",
      " 1   Target         303 non-null    float64\n",
      " 2   Etching1       311 non-null    float64\n",
      " 3   Etching2       311 non-null    float64\n",
      " 4   Etching3       311 non-null    float64\n",
      " 5   CVD1           311 non-null    float64\n",
      " 6   CVD2           311 non-null    float64\n",
      " 7   CVD3           311 non-null    float64\n",
      " 8   Photo1         311 non-null    float64\n",
      " 9   Photo2         311 non-null    float64\n",
      " 10  D2TI13027 24   311 non-null    float64\n",
      " 11  D2TI13029 18   311 non-null    float64\n",
      " 12  D2TI13029 19   311 non-null    float64\n",
      " 13  D2TI13029 20   311 non-null    float64\n",
      " 14  D2TI13030 1    311 non-null    float64\n",
      " 15  D2TI13031 21   311 non-null    float64\n",
      " 16  D2TI13032 16   311 non-null    float64\n",
      " 17  D2TI13047 20   311 non-null    float64\n",
      " 18  D2TI13050 12   311 non-null    float64\n",
      " 19  D2TI13078 8    311 non-null    float64\n",
      " 20  D2TI13084 18   311 non-null    float64\n",
      " 21  D2TI13102 24   311 non-null    float64\n",
      " 22  D2TI13105 23   311 non-null    float64\n",
      " 23  D2TI13107 8    311 non-null    float64\n",
      " 24  D2TI13108 7    311 non-null    float64\n",
      " 25  D2TI13108 8    311 non-null    float64\n",
      " 26  D2TI13109 5    311 non-null    float64\n",
      " 27  D2TI13109 7    311 non-null    float64\n",
      " 28  D2TI13109 9    311 non-null    float64\n",
      " 29  D2TI13109 17   311 non-null    float64\n",
      " 30  D2TI13109 20   311 non-null    float64\n",
      " 31  D2TI13110 13   311 non-null    float64\n",
      " 32  D2TI13123 6    311 non-null    float64\n",
      " 33  D2TI13132 1    311 non-null    float64\n",
      " 34  D2TI13132 8    311 non-null    float64\n",
      " 35  D2TI13132 23   311 non-null    float64\n",
      " 36  D2TI13134 19   311 non-null    float64\n",
      " 37  D2TI13135 3    311 non-null    float64\n",
      " 38  D2TI13152 10   311 non-null    float64\n",
      " 39  D2TI13152 23   311 non-null    float64\n",
      " 40  D2TI13206 4    311 non-null    float64\n",
      " 41  D2TI13206 16   311 non-null    float64\n",
      " 42  D2TI13208 9    311 non-null    float64\n",
      " 43  D2TI13208 24   311 non-null    float64\n",
      " 44  D2TI13215 19   311 non-null    float64\n",
      " 45  D2TI13415 21   311 non-null    float64\n",
      " 46  D2TI14002 22   311 non-null    float64\n",
      " 47  D2TI14009 2    311 non-null    float64\n",
      " 48  D2TI14010 6    311 non-null    float64\n",
      " 49  D2TI14010 23   311 non-null    float64\n",
      " 50  D2TI14021 7    311 non-null    float64\n",
      " 51  D2TI16002 2    311 non-null    float64\n",
      " 52  D2TI17103 15   311 non-null    float64\n",
      " 53  D2TI17103 22   311 non-null    float64\n",
      " 54  D2TI17104 15   311 non-null    float64\n",
      " 55  D2TI17105 4    311 non-null    float64\n",
      " 56  D2TI17105 14   311 non-null    float64\n",
      " 57  D2TI17106 5    311 non-null    float64\n",
      " 58  D2TI17107 14   311 non-null    float64\n",
      " 59  D2TI17109 6    311 non-null    float64\n",
      " 60  D2TI17109 9    311 non-null    float64\n",
      " 61  D2TI17109 14   311 non-null    float64\n",
      " 62  D2TI17109 15   311 non-null    float64\n",
      " 63  D2TI18038 13   311 non-null    float64\n",
      " 64  D2TIC13007 7   311 non-null    float64\n",
      " 65  D2TIC13007 8   311 non-null    float64\n",
      " 66  D2TIC13111 11  311 non-null    float64\n",
      "dtypes: float64(66), object(1)\n",
      "memory usage: 162.9+ KB\n"
     ]
    }
   ],
   "source": [
    "df3 = pd.read_csv('08_Data.csv')\n",
    "df3.info()"
   ]
  },
  {
   "cell_type": "code",
   "execution_count": 33,
   "id": "d15e9235",
   "metadata": {},
   "outputs": [
    {
     "data": {
      "text/html": [
       "<div>\n",
       "<style scoped>\n",
       "    .dataframe tbody tr th:only-of-type {\n",
       "        vertical-align: middle;\n",
       "    }\n",
       "\n",
       "    .dataframe tbody tr th {\n",
       "        vertical-align: top;\n",
       "    }\n",
       "\n",
       "    .dataframe thead th {\n",
       "        text-align: right;\n",
       "    }\n",
       "</style>\n",
       "<table border=\"1\" class=\"dataframe\">\n",
       "  <thead>\n",
       "    <tr style=\"text-align: right;\">\n",
       "      <th></th>\n",
       "      <th>Target</th>\n",
       "      <th>Etching1</th>\n",
       "      <th>Etching2</th>\n",
       "      <th>Etching3</th>\n",
       "      <th>CVD1</th>\n",
       "      <th>CVD2</th>\n",
       "      <th>CVD3</th>\n",
       "      <th>Photo1</th>\n",
       "      <th>Photo2</th>\n",
       "      <th>D2TI13027 24</th>\n",
       "      <th>...</th>\n",
       "      <th>D2TI17106 5</th>\n",
       "      <th>D2TI17107 14</th>\n",
       "      <th>D2TI17109 6</th>\n",
       "      <th>D2TI17109 9</th>\n",
       "      <th>D2TI17109 14</th>\n",
       "      <th>D2TI17109 15</th>\n",
       "      <th>D2TI18038 13</th>\n",
       "      <th>D2TIC13007 7</th>\n",
       "      <th>D2TIC13007 8</th>\n",
       "      <th>D2TIC13111 11</th>\n",
       "    </tr>\n",
       "  </thead>\n",
       "  <tbody>\n",
       "    <tr>\n",
       "      <th>count</th>\n",
       "      <td>303.000000</td>\n",
       "      <td>311.000000</td>\n",
       "      <td>311.000000</td>\n",
       "      <td>311.000000</td>\n",
       "      <td>311.000000</td>\n",
       "      <td>311.000000</td>\n",
       "      <td>311.000000</td>\n",
       "      <td>311.000000</td>\n",
       "      <td>3.110000e+02</td>\n",
       "      <td>311.000000</td>\n",
       "      <td>...</td>\n",
       "      <td>311.000000</td>\n",
       "      <td>311.000000</td>\n",
       "      <td>311.000000</td>\n",
       "      <td>311.000000</td>\n",
       "      <td>311.000000</td>\n",
       "      <td>311.000000</td>\n",
       "      <td>311.000000</td>\n",
       "      <td>311.000000</td>\n",
       "      <td>311.000000</td>\n",
       "      <td>311.000000</td>\n",
       "    </tr>\n",
       "    <tr>\n",
       "      <th>mean</th>\n",
       "      <td>0.509241</td>\n",
       "      <td>32.638927</td>\n",
       "      <td>30.561051</td>\n",
       "      <td>0.071898</td>\n",
       "      <td>0.025756</td>\n",
       "      <td>0.012729</td>\n",
       "      <td>11.934937</td>\n",
       "      <td>15.923694</td>\n",
       "      <td>7.074723e+01</td>\n",
       "      <td>202.257701</td>\n",
       "      <td>...</td>\n",
       "      <td>137.587040</td>\n",
       "      <td>119.354150</td>\n",
       "      <td>149.696091</td>\n",
       "      <td>149.708563</td>\n",
       "      <td>149.655876</td>\n",
       "      <td>149.628785</td>\n",
       "      <td>157.733457</td>\n",
       "      <td>128.021247</td>\n",
       "      <td>127.939578</td>\n",
       "      <td>190.976201</td>\n",
       "    </tr>\n",
       "    <tr>\n",
       "      <th>std</th>\n",
       "      <td>0.471204</td>\n",
       "      <td>4.224098</td>\n",
       "      <td>7.865913</td>\n",
       "      <td>0.857433</td>\n",
       "      <td>0.264043</td>\n",
       "      <td>0.002208</td>\n",
       "      <td>12.718985</td>\n",
       "      <td>16.866122</td>\n",
       "      <td>5.053837e+00</td>\n",
       "      <td>5.897030</td>\n",
       "      <td>...</td>\n",
       "      <td>8.345374</td>\n",
       "      <td>7.373823</td>\n",
       "      <td>2.982833</td>\n",
       "      <td>2.939580</td>\n",
       "      <td>2.890538</td>\n",
       "      <td>2.890104</td>\n",
       "      <td>3.175006</td>\n",
       "      <td>1.897572</td>\n",
       "      <td>0.983469</td>\n",
       "      <td>5.733196</td>\n",
       "    </tr>\n",
       "    <tr>\n",
       "      <th>min</th>\n",
       "      <td>0.000000</td>\n",
       "      <td>0.000749</td>\n",
       "      <td>0.004242</td>\n",
       "      <td>0.003370</td>\n",
       "      <td>0.002804</td>\n",
       "      <td>0.007800</td>\n",
       "      <td>0.013991</td>\n",
       "      <td>0.003726</td>\n",
       "      <td>5.028307e-19</td>\n",
       "      <td>111.848523</td>\n",
       "      <td>...</td>\n",
       "      <td>123.975243</td>\n",
       "      <td>107.532383</td>\n",
       "      <td>141.006311</td>\n",
       "      <td>141.082399</td>\n",
       "      <td>141.407523</td>\n",
       "      <td>141.370058</td>\n",
       "      <td>151.504684</td>\n",
       "      <td>123.897215</td>\n",
       "      <td>123.719035</td>\n",
       "      <td>97.322560</td>\n",
       "    </tr>\n",
       "    <tr>\n",
       "      <th>25%</th>\n",
       "      <td>0.200000</td>\n",
       "      <td>29.950482</td>\n",
       "      <td>27.895059</td>\n",
       "      <td>0.007205</td>\n",
       "      <td>0.007634</td>\n",
       "      <td>0.010681</td>\n",
       "      <td>0.017596</td>\n",
       "      <td>0.005582</td>\n",
       "      <td>6.892935e+01</td>\n",
       "      <td>199.910459</td>\n",
       "      <td>...</td>\n",
       "      <td>132.116937</td>\n",
       "      <td>114.166417</td>\n",
       "      <td>148.189003</td>\n",
       "      <td>148.310101</td>\n",
       "      <td>148.358356</td>\n",
       "      <td>148.361657</td>\n",
       "      <td>155.045731</td>\n",
       "      <td>127.941680</td>\n",
       "      <td>127.939706</td>\n",
       "      <td>189.943540</td>\n",
       "    </tr>\n",
       "    <tr>\n",
       "      <th>50%</th>\n",
       "      <td>0.400000</td>\n",
       "      <td>33.247881</td>\n",
       "      <td>30.400123</td>\n",
       "      <td>0.010473</td>\n",
       "      <td>0.010003</td>\n",
       "      <td>0.012625</td>\n",
       "      <td>0.069559</td>\n",
       "      <td>0.530937</td>\n",
       "      <td>7.096410e+01</td>\n",
       "      <td>202.603585</td>\n",
       "      <td>...</td>\n",
       "      <td>134.370491</td>\n",
       "      <td>117.278060</td>\n",
       "      <td>150.139847</td>\n",
       "      <td>150.143612</td>\n",
       "      <td>150.106898</td>\n",
       "      <td>150.077834</td>\n",
       "      <td>160.073815</td>\n",
       "      <td>127.997058</td>\n",
       "      <td>127.990931</td>\n",
       "      <td>190.348197</td>\n",
       "    </tr>\n",
       "    <tr>\n",
       "      <th>75%</th>\n",
       "      <td>0.600000</td>\n",
       "      <td>35.109728</td>\n",
       "      <td>33.424402</td>\n",
       "      <td>0.013747</td>\n",
       "      <td>0.013741</td>\n",
       "      <td>0.014652</td>\n",
       "      <td>26.249998</td>\n",
       "      <td>35.000000</td>\n",
       "      <td>7.250203e+01</td>\n",
       "      <td>204.431440</td>\n",
       "      <td>...</td>\n",
       "      <td>144.534274</td>\n",
       "      <td>124.609853</td>\n",
       "      <td>151.156524</td>\n",
       "      <td>151.187263</td>\n",
       "      <td>151.116964</td>\n",
       "      <td>151.130666</td>\n",
       "      <td>160.123164</td>\n",
       "      <td>128.040476</td>\n",
       "      <td>128.031384</td>\n",
       "      <td>192.514812</td>\n",
       "    </tr>\n",
       "    <tr>\n",
       "      <th>max</th>\n",
       "      <td>3.500000</td>\n",
       "      <td>50.809233</td>\n",
       "      <td>55.733682</td>\n",
       "      <td>14.411765</td>\n",
       "      <td>4.666667</td>\n",
       "      <td>0.017849</td>\n",
       "      <td>26.249998</td>\n",
       "      <td>35.000000</td>\n",
       "      <td>9.572477e+01</td>\n",
       "      <td>209.073304</td>\n",
       "      <td>...</td>\n",
       "      <td>199.755445</td>\n",
       "      <td>180.575892</td>\n",
       "      <td>182.226997</td>\n",
       "      <td>184.238554</td>\n",
       "      <td>184.151926</td>\n",
       "      <td>183.860325</td>\n",
       "      <td>161.414072</td>\n",
       "      <td>153.008633</td>\n",
       "      <td>139.601510</td>\n",
       "      <td>196.009126</td>\n",
       "    </tr>\n",
       "  </tbody>\n",
       "</table>\n",
       "<p>8 rows × 66 columns</p>\n",
       "</div>"
      ],
      "text/plain": [
       "           Target    Etching1    Etching2    Etching3        CVD1        CVD2  \\\n",
       "count  303.000000  311.000000  311.000000  311.000000  311.000000  311.000000   \n",
       "mean     0.509241   32.638927   30.561051    0.071898    0.025756    0.012729   \n",
       "std      0.471204    4.224098    7.865913    0.857433    0.264043    0.002208   \n",
       "min      0.000000    0.000749    0.004242    0.003370    0.002804    0.007800   \n",
       "25%      0.200000   29.950482   27.895059    0.007205    0.007634    0.010681   \n",
       "50%      0.400000   33.247881   30.400123    0.010473    0.010003    0.012625   \n",
       "75%      0.600000   35.109728   33.424402    0.013747    0.013741    0.014652   \n",
       "max      3.500000   50.809233   55.733682   14.411765    4.666667    0.017849   \n",
       "\n",
       "             CVD3      Photo1        Photo2  D2TI13027 24  ...  D2TI17106 5  \\\n",
       "count  311.000000  311.000000  3.110000e+02    311.000000  ...   311.000000   \n",
       "mean    11.934937   15.923694  7.074723e+01    202.257701  ...   137.587040   \n",
       "std     12.718985   16.866122  5.053837e+00      5.897030  ...     8.345374   \n",
       "min      0.013991    0.003726  5.028307e-19    111.848523  ...   123.975243   \n",
       "25%      0.017596    0.005582  6.892935e+01    199.910459  ...   132.116937   \n",
       "50%      0.069559    0.530937  7.096410e+01    202.603585  ...   134.370491   \n",
       "75%     26.249998   35.000000  7.250203e+01    204.431440  ...   144.534274   \n",
       "max     26.249998   35.000000  9.572477e+01    209.073304  ...   199.755445   \n",
       "\n",
       "       D2TI17107 14  D2TI17109 6  D2TI17109 9  D2TI17109 14  D2TI17109 15  \\\n",
       "count    311.000000   311.000000   311.000000    311.000000    311.000000   \n",
       "mean     119.354150   149.696091   149.708563    149.655876    149.628785   \n",
       "std        7.373823     2.982833     2.939580      2.890538      2.890104   \n",
       "min      107.532383   141.006311   141.082399    141.407523    141.370058   \n",
       "25%      114.166417   148.189003   148.310101    148.358356    148.361657   \n",
       "50%      117.278060   150.139847   150.143612    150.106898    150.077834   \n",
       "75%      124.609853   151.156524   151.187263    151.116964    151.130666   \n",
       "max      180.575892   182.226997   184.238554    184.151926    183.860325   \n",
       "\n",
       "       D2TI18038 13  D2TIC13007 7  D2TIC13007 8  D2TIC13111 11  \n",
       "count    311.000000    311.000000    311.000000     311.000000  \n",
       "mean     157.733457    128.021247    127.939578     190.976201  \n",
       "std        3.175006      1.897572      0.983469       5.733196  \n",
       "min      151.504684    123.897215    123.719035      97.322560  \n",
       "25%      155.045731    127.941680    127.939706     189.943540  \n",
       "50%      160.073815    127.997058    127.990931     190.348197  \n",
       "75%      160.123164    128.040476    128.031384     192.514812  \n",
       "max      161.414072    153.008633    139.601510     196.009126  \n",
       "\n",
       "[8 rows x 66 columns]"
      ]
     },
     "execution_count": 33,
     "metadata": {},
     "output_type": "execute_result"
    }
   ],
   "source": [
    "df3.describe()"
   ]
  },
  {
   "cell_type": "markdown",
   "id": "c9e5c116",
   "metadata": {},
   "source": [
    "8) df3 데이터에서 Etching1 에 해당하는 값을 34를 기준으로 분할 \n",
    "#####    - Etching1이 34 이상이면 A \n",
    "#####    - Etching1이 34 미만이면 B 로 '분류'라는 새로운 변수로 선언"
   ]
  },
  {
   "cell_type": "code",
   "execution_count": 34,
   "id": "2c03b70e",
   "metadata": {},
   "outputs": [
    {
     "data": {
      "text/html": [
       "<div>\n",
       "<style scoped>\n",
       "    .dataframe tbody tr th:only-of-type {\n",
       "        vertical-align: middle;\n",
       "    }\n",
       "\n",
       "    .dataframe tbody tr th {\n",
       "        vertical-align: top;\n",
       "    }\n",
       "\n",
       "    .dataframe thead th {\n",
       "        text-align: right;\n",
       "    }\n",
       "</style>\n",
       "<table border=\"1\" class=\"dataframe\">\n",
       "  <thead>\n",
       "    <tr style=\"text-align: right;\">\n",
       "      <th></th>\n",
       "      <th>DATE</th>\n",
       "      <th>Target</th>\n",
       "      <th>Etching1</th>\n",
       "      <th>Etching2</th>\n",
       "      <th>Etching3</th>\n",
       "      <th>CVD1</th>\n",
       "      <th>CVD2</th>\n",
       "      <th>CVD3</th>\n",
       "      <th>Photo1</th>\n",
       "      <th>Photo2</th>\n",
       "      <th>...</th>\n",
       "      <th>D2TI17107 14</th>\n",
       "      <th>D2TI17109 6</th>\n",
       "      <th>D2TI17109 9</th>\n",
       "      <th>D2TI17109 14</th>\n",
       "      <th>D2TI17109 15</th>\n",
       "      <th>D2TI18038 13</th>\n",
       "      <th>D2TIC13007 7</th>\n",
       "      <th>D2TIC13007 8</th>\n",
       "      <th>D2TIC13111 11</th>\n",
       "      <th>분류</th>\n",
       "    </tr>\n",
       "  </thead>\n",
       "  <tbody>\n",
       "    <tr>\n",
       "      <th>0</th>\n",
       "      <td>2017-01-23</td>\n",
       "      <td>0.1</td>\n",
       "      <td>34.120371</td>\n",
       "      <td>16.241512</td>\n",
       "      <td>0.007016</td>\n",
       "      <td>0.006515</td>\n",
       "      <td>0.010939</td>\n",
       "      <td>26.249821</td>\n",
       "      <td>35.000000</td>\n",
       "      <td>70.398824</td>\n",
       "      <td>...</td>\n",
       "      <td>108.038794</td>\n",
       "      <td>146.584835</td>\n",
       "      <td>146.692649</td>\n",
       "      <td>146.402181</td>\n",
       "      <td>146.540817</td>\n",
       "      <td>152.007281</td>\n",
       "      <td>128.020216</td>\n",
       "      <td>127.977392</td>\n",
       "      <td>191.225271</td>\n",
       "      <td>A</td>\n",
       "    </tr>\n",
       "    <tr>\n",
       "      <th>1</th>\n",
       "      <td>2017-01-23</td>\n",
       "      <td>0.4</td>\n",
       "      <td>35.555397</td>\n",
       "      <td>17.488486</td>\n",
       "      <td>0.006235</td>\n",
       "      <td>0.006704</td>\n",
       "      <td>0.011216</td>\n",
       "      <td>26.249998</td>\n",
       "      <td>35.000000</td>\n",
       "      <td>73.097358</td>\n",
       "      <td>...</td>\n",
       "      <td>107.532383</td>\n",
       "      <td>146.761584</td>\n",
       "      <td>147.266826</td>\n",
       "      <td>146.865518</td>\n",
       "      <td>146.908826</td>\n",
       "      <td>151.954929</td>\n",
       "      <td>128.062277</td>\n",
       "      <td>128.041426</td>\n",
       "      <td>190.769580</td>\n",
       "      <td>A</td>\n",
       "    </tr>\n",
       "    <tr>\n",
       "      <th>2</th>\n",
       "      <td>2017-01-23</td>\n",
       "      <td>0.7</td>\n",
       "      <td>34.180588</td>\n",
       "      <td>33.914756</td>\n",
       "      <td>0.005352</td>\n",
       "      <td>0.005274</td>\n",
       "      <td>0.010625</td>\n",
       "      <td>16.499006</td>\n",
       "      <td>0.005327</td>\n",
       "      <td>67.523130</td>\n",
       "      <td>...</td>\n",
       "      <td>108.055128</td>\n",
       "      <td>147.249911</td>\n",
       "      <td>147.327965</td>\n",
       "      <td>147.466569</td>\n",
       "      <td>147.400662</td>\n",
       "      <td>152.107201</td>\n",
       "      <td>128.036072</td>\n",
       "      <td>128.052051</td>\n",
       "      <td>191.912878</td>\n",
       "      <td>A</td>\n",
       "    </tr>\n",
       "    <tr>\n",
       "      <th>3</th>\n",
       "      <td>2017-01-23</td>\n",
       "      <td>0.6</td>\n",
       "      <td>33.644923</td>\n",
       "      <td>38.479159</td>\n",
       "      <td>0.003618</td>\n",
       "      <td>0.003908</td>\n",
       "      <td>0.011864</td>\n",
       "      <td>0.015149</td>\n",
       "      <td>0.003837</td>\n",
       "      <td>67.504566</td>\n",
       "      <td>...</td>\n",
       "      <td>108.775052</td>\n",
       "      <td>147.521831</td>\n",
       "      <td>147.563028</td>\n",
       "      <td>147.787804</td>\n",
       "      <td>147.868678</td>\n",
       "      <td>152.030591</td>\n",
       "      <td>128.062958</td>\n",
       "      <td>128.044749</td>\n",
       "      <td>192.937686</td>\n",
       "      <td>B</td>\n",
       "    </tr>\n",
       "    <tr>\n",
       "      <th>4</th>\n",
       "      <td>2017-01-23</td>\n",
       "      <td>0.7</td>\n",
       "      <td>31.111387</td>\n",
       "      <td>44.486479</td>\n",
       "      <td>0.003377</td>\n",
       "      <td>0.005033</td>\n",
       "      <td>0.008867</td>\n",
       "      <td>0.015895</td>\n",
       "      <td>0.004252</td>\n",
       "      <td>67.887252</td>\n",
       "      <td>...</td>\n",
       "      <td>109.793872</td>\n",
       "      <td>147.897073</td>\n",
       "      <td>148.180459</td>\n",
       "      <td>148.371725</td>\n",
       "      <td>148.270560</td>\n",
       "      <td>152.079335</td>\n",
       "      <td>127.981569</td>\n",
       "      <td>128.002736</td>\n",
       "      <td>193.788062</td>\n",
       "      <td>B</td>\n",
       "    </tr>\n",
       "    <tr>\n",
       "      <th>...</th>\n",
       "      <td>...</td>\n",
       "      <td>...</td>\n",
       "      <td>...</td>\n",
       "      <td>...</td>\n",
       "      <td>...</td>\n",
       "      <td>...</td>\n",
       "      <td>...</td>\n",
       "      <td>...</td>\n",
       "      <td>...</td>\n",
       "      <td>...</td>\n",
       "      <td>...</td>\n",
       "      <td>...</td>\n",
       "      <td>...</td>\n",
       "      <td>...</td>\n",
       "      <td>...</td>\n",
       "      <td>...</td>\n",
       "      <td>...</td>\n",
       "      <td>...</td>\n",
       "      <td>...</td>\n",
       "      <td>...</td>\n",
       "      <td>...</td>\n",
       "    </tr>\n",
       "    <tr>\n",
       "      <th>306</th>\n",
       "      <td>2017-11-02</td>\n",
       "      <td>0.4</td>\n",
       "      <td>34.697982</td>\n",
       "      <td>28.475308</td>\n",
       "      <td>0.007429</td>\n",
       "      <td>0.007063</td>\n",
       "      <td>0.011209</td>\n",
       "      <td>26.249998</td>\n",
       "      <td>35.000000</td>\n",
       "      <td>71.453440</td>\n",
       "      <td>...</td>\n",
       "      <td>115.460868</td>\n",
       "      <td>152.287958</td>\n",
       "      <td>152.369855</td>\n",
       "      <td>152.205014</td>\n",
       "      <td>152.158923</td>\n",
       "      <td>160.060181</td>\n",
       "      <td>127.978126</td>\n",
       "      <td>128.069814</td>\n",
       "      <td>190.493494</td>\n",
       "      <td>A</td>\n",
       "    </tr>\n",
       "    <tr>\n",
       "      <th>307</th>\n",
       "      <td>2017-11-02</td>\n",
       "      <td>0.6</td>\n",
       "      <td>36.867363</td>\n",
       "      <td>30.400123</td>\n",
       "      <td>0.007343</td>\n",
       "      <td>0.007969</td>\n",
       "      <td>0.011641</td>\n",
       "      <td>26.249998</td>\n",
       "      <td>3.160542</td>\n",
       "      <td>72.058690</td>\n",
       "      <td>...</td>\n",
       "      <td>115.362326</td>\n",
       "      <td>152.276481</td>\n",
       "      <td>152.291234</td>\n",
       "      <td>152.448351</td>\n",
       "      <td>152.439781</td>\n",
       "      <td>160.074719</td>\n",
       "      <td>127.932056</td>\n",
       "      <td>127.959314</td>\n",
       "      <td>190.541892</td>\n",
       "      <td>A</td>\n",
       "    </tr>\n",
       "    <tr>\n",
       "      <th>308</th>\n",
       "      <td>2017-11-02</td>\n",
       "      <td>0.5</td>\n",
       "      <td>37.425737</td>\n",
       "      <td>27.898255</td>\n",
       "      <td>0.009116</td>\n",
       "      <td>0.008622</td>\n",
       "      <td>0.011938</td>\n",
       "      <td>0.015596</td>\n",
       "      <td>0.004650</td>\n",
       "      <td>72.455574</td>\n",
       "      <td>...</td>\n",
       "      <td>116.413146</td>\n",
       "      <td>152.519453</td>\n",
       "      <td>152.513100</td>\n",
       "      <td>152.451457</td>\n",
       "      <td>152.458700</td>\n",
       "      <td>160.121660</td>\n",
       "      <td>128.001146</td>\n",
       "      <td>127.891550</td>\n",
       "      <td>189.518115</td>\n",
       "      <td>A</td>\n",
       "    </tr>\n",
       "    <tr>\n",
       "      <th>309</th>\n",
       "      <td>2017-11-02</td>\n",
       "      <td>0.4</td>\n",
       "      <td>37.061916</td>\n",
       "      <td>31.277714</td>\n",
       "      <td>0.010214</td>\n",
       "      <td>0.009577</td>\n",
       "      <td>0.013095</td>\n",
       "      <td>0.018221</td>\n",
       "      <td>0.005586</td>\n",
       "      <td>71.053515</td>\n",
       "      <td>...</td>\n",
       "      <td>119.109702</td>\n",
       "      <td>152.595658</td>\n",
       "      <td>152.576742</td>\n",
       "      <td>152.604749</td>\n",
       "      <td>152.660548</td>\n",
       "      <td>160.100760</td>\n",
       "      <td>128.032315</td>\n",
       "      <td>127.991217</td>\n",
       "      <td>189.854164</td>\n",
       "      <td>A</td>\n",
       "    </tr>\n",
       "    <tr>\n",
       "      <th>310</th>\n",
       "      <td>2017-11-02</td>\n",
       "      <td>0.5</td>\n",
       "      <td>36.958416</td>\n",
       "      <td>31.479522</td>\n",
       "      <td>0.010531</td>\n",
       "      <td>0.008676</td>\n",
       "      <td>0.012580</td>\n",
       "      <td>0.016986</td>\n",
       "      <td>0.005592</td>\n",
       "      <td>71.236856</td>\n",
       "      <td>...</td>\n",
       "      <td>117.826046</td>\n",
       "      <td>152.628162</td>\n",
       "      <td>152.517715</td>\n",
       "      <td>152.490161</td>\n",
       "      <td>152.489117</td>\n",
       "      <td>160.078170</td>\n",
       "      <td>128.031735</td>\n",
       "      <td>127.976984</td>\n",
       "      <td>190.239526</td>\n",
       "      <td>A</td>\n",
       "    </tr>\n",
       "  </tbody>\n",
       "</table>\n",
       "<p>311 rows × 68 columns</p>\n",
       "</div>"
      ],
      "text/plain": [
       "           DATE  Target   Etching1   Etching2  Etching3      CVD1      CVD2  \\\n",
       "0    2017-01-23     0.1  34.120371  16.241512  0.007016  0.006515  0.010939   \n",
       "1    2017-01-23     0.4  35.555397  17.488486  0.006235  0.006704  0.011216   \n",
       "2    2017-01-23     0.7  34.180588  33.914756  0.005352  0.005274  0.010625   \n",
       "3    2017-01-23     0.6  33.644923  38.479159  0.003618  0.003908  0.011864   \n",
       "4    2017-01-23     0.7  31.111387  44.486479  0.003377  0.005033  0.008867   \n",
       "..          ...     ...        ...        ...       ...       ...       ...   \n",
       "306  2017-11-02     0.4  34.697982  28.475308  0.007429  0.007063  0.011209   \n",
       "307  2017-11-02     0.6  36.867363  30.400123  0.007343  0.007969  0.011641   \n",
       "308  2017-11-02     0.5  37.425737  27.898255  0.009116  0.008622  0.011938   \n",
       "309  2017-11-02     0.4  37.061916  31.277714  0.010214  0.009577  0.013095   \n",
       "310  2017-11-02     0.5  36.958416  31.479522  0.010531  0.008676  0.012580   \n",
       "\n",
       "          CVD3     Photo1     Photo2  ...  D2TI17107 14  D2TI17109 6  \\\n",
       "0    26.249821  35.000000  70.398824  ...    108.038794   146.584835   \n",
       "1    26.249998  35.000000  73.097358  ...    107.532383   146.761584   \n",
       "2    16.499006   0.005327  67.523130  ...    108.055128   147.249911   \n",
       "3     0.015149   0.003837  67.504566  ...    108.775052   147.521831   \n",
       "4     0.015895   0.004252  67.887252  ...    109.793872   147.897073   \n",
       "..         ...        ...        ...  ...           ...          ...   \n",
       "306  26.249998  35.000000  71.453440  ...    115.460868   152.287958   \n",
       "307  26.249998   3.160542  72.058690  ...    115.362326   152.276481   \n",
       "308   0.015596   0.004650  72.455574  ...    116.413146   152.519453   \n",
       "309   0.018221   0.005586  71.053515  ...    119.109702   152.595658   \n",
       "310   0.016986   0.005592  71.236856  ...    117.826046   152.628162   \n",
       "\n",
       "     D2TI17109 9  D2TI17109 14  D2TI17109 15  D2TI18038 13  D2TIC13007 7  \\\n",
       "0     146.692649    146.402181    146.540817    152.007281    128.020216   \n",
       "1     147.266826    146.865518    146.908826    151.954929    128.062277   \n",
       "2     147.327965    147.466569    147.400662    152.107201    128.036072   \n",
       "3     147.563028    147.787804    147.868678    152.030591    128.062958   \n",
       "4     148.180459    148.371725    148.270560    152.079335    127.981569   \n",
       "..           ...           ...           ...           ...           ...   \n",
       "306   152.369855    152.205014    152.158923    160.060181    127.978126   \n",
       "307   152.291234    152.448351    152.439781    160.074719    127.932056   \n",
       "308   152.513100    152.451457    152.458700    160.121660    128.001146   \n",
       "309   152.576742    152.604749    152.660548    160.100760    128.032315   \n",
       "310   152.517715    152.490161    152.489117    160.078170    128.031735   \n",
       "\n",
       "     D2TIC13007 8  D2TIC13111 11  분류  \n",
       "0      127.977392     191.225271   A  \n",
       "1      128.041426     190.769580   A  \n",
       "2      128.052051     191.912878   A  \n",
       "3      128.044749     192.937686   B  \n",
       "4      128.002736     193.788062   B  \n",
       "..            ...            ...  ..  \n",
       "306    128.069814     190.493494   A  \n",
       "307    127.959314     190.541892   A  \n",
       "308    127.891550     189.518115   A  \n",
       "309    127.991217     189.854164   A  \n",
       "310    127.976984     190.239526   A  \n",
       "\n",
       "[311 rows x 68 columns]"
      ]
     },
     "execution_count": 34,
     "metadata": {},
     "output_type": "execute_result"
    }
   ],
   "source": [
    "cond1 = df3['Etching1']>=34\n",
    "df3.loc[cond1,'분류']='A'\n",
    "df3.loc[~cond1,'분류']='B'\n",
    "df3\n",
    "# loc 특정조검에 해당하는 데이터를 추출하는\n",
    "# 조건에 해당하는 데이터에 파생변수를 만드는"
   ]
  },
  {
   "cell_type": "code",
   "execution_count": 35,
   "id": "a26381d7",
   "metadata": {},
   "outputs": [
    {
     "data": {
      "text/plain": [
       "B    180\n",
       "A    131\n",
       "Name: 분류, dtype: int64"
      ]
     },
     "execution_count": 35,
     "metadata": {},
     "output_type": "execute_result"
    }
   ],
   "source": [
    "# 위를 확인해보자\n",
    "df3['분류'].value_counts()"
   ]
  },
  {
   "cell_type": "markdown",
   "id": "e258af3c",
   "metadata": {},
   "source": [
    "9) df3에서 CVD1과 CVD2 데이터의 상관성이 있는지 분석하고자 한다. (hue 사용)\n",
    "#####    - CVD1값과 CVD2값의 산점도를 scatterplot으로 시각화 하시오\n",
    "#####    - '분류'에 따른 CVD1과 CVD2값을 산점도로 시각화 하시오 "
   ]
  },
  {
   "cell_type": "code",
   "execution_count": 36,
   "id": "97f7e293",
   "metadata": {},
   "outputs": [
    {
     "data": {
      "text/plain": [
       "<AxesSubplot:xlabel='CVD1', ylabel='CVD2'>"
      ]
     },
     "execution_count": 36,
     "metadata": {},
     "output_type": "execute_result"
    },
    {
     "data": {
      "image/png": "[encoded data removed]",
      "text/plain": [
       "<Figure size 640x480 with 1 Axes>"
      ]
     },
     "metadata": {},
     "output_type": "display_data"
    }
   ],
   "source": [
    "sns.scatterplot(data=df3, x='CVD1', y='CVD2')"
   ]
  },
  {
   "cell_type": "code",
   "execution_count": 37,
   "id": "0e02f2c6",
   "metadata": {},
   "outputs": [
    {
     "data": {
      "text/plain": [
       "<AxesSubplot:xlabel='CVD1', ylabel='CVD2'>"
      ]
     },
     "execution_count": 37,
     "metadata": {},
     "output_type": "execute_result"
    },
    {
     "data": {
      "image/png": "[encoded data removed]",
      "text/plain": [
       "<Figure size 640x480 with 1 Axes>"
      ]
     },
     "metadata": {},
     "output_type": "display_data"
    }
   ],
   "source": [
    "plt.xlim([0, 0.025])\n",
    "sns.scatterplot(data=df3, x='CVD1', y='CVD2', hue='분류')"
   ]
  },
  {
   "cell_type": "code",
   "execution_count": 38,
   "id": "07c5340a",
   "metadata": {},
   "outputs": [
    {
     "data": {
      "text/plain": [
       "NormaltestResult(statistic=720.5243145625946, pvalue=3.468430959933392e-157)"
      ]
     },
     "execution_count": 38,
     "metadata": {},
     "output_type": "execute_result"
    }
   ],
   "source": [
    "stats.normaltest(df3['CVD1'])"
   ]
  },
  {
   "cell_type": "code",
   "execution_count": 39,
   "id": "03066083",
   "metadata": {},
   "outputs": [
    {
     "data": {
      "text/plain": [
       "NormaltestResult(statistic=84.23733984353808, pvalue=5.106155869659368e-19)"
      ]
     },
     "execution_count": 39,
     "metadata": {},
     "output_type": "execute_result"
    }
   ],
   "source": [
    "stats.normaltest(df3['CVD2'])"
   ]
  },
  {
   "cell_type": "code",
   "execution_count": 143,
   "id": "87402d4d",
   "metadata": {},
   "outputs": [
    {
     "name": "stderr",
     "output_type": "stream",
     "text": [
      "C:\\ProgramData\\Anaconda3\\lib\\site-packages\\scipy\\stats\\_stats_py.py:8162: RuntimeWarning: invalid value encountered in double_scalars\n",
      "  z = (s - expected) / np.sqrt(n1*n2*(n1+n2+1)/12.0)\n"
     ]
    },
    {
     "data": {
      "text/plain": [
       "RanksumsResult(statistic=nan, pvalue=nan)"
      ]
     },
     "execution_count": 143,
     "metadata": {},
     "output_type": "execute_result"
    }
   ],
   "source": [
    "# 귀무가설 :   차이가 없다.\n",
    "# 대립가설 :   차이가 있다.\n",
    "\n",
    "cond1 = df3['분류']=='CVD1'\n",
    "cond2 = df3['분류']=='CVD2'\n",
    "df_error1 = df3.loc[cond1]\n",
    "df_error2 = df3.loc[cond2]\n",
    "stats.ranksums(df_error1['분류'], df_error2['분류'])\n",
    "# P.value < 0.05 (5%) / 귀무가설 참 / 두 집단의 구매금액의 평균의 차이가 있다."
   ]
  },
  {
   "cell_type": "markdown",
   "id": "1c552168",
   "metadata": {},
   "source": [
    "10) df3에서 Target값이 높은 상위 100개 데이터를 추출하여,\n",
    "#####     - '분류'에 (A,B) 따른 CVD3의 평균의 유의미한 차이가 있는지 가설검정 \n",
    "#####     -  결측값은 제거 후 검정 진행 / P.value 와 결론까지 작성 \n",
    "#####     - '분류'에 (A,B) 따른 CVD3값의 평균을 bar chart로 시각화 "
   ]
  },
  {
   "cell_type": "code",
   "execution_count": 41,
   "id": "e8182f34",
   "metadata": {},
   "outputs": [],
   "source": [
    "df3_top=df3.sort_values(by='Target', ascending=False).head(100)"
   ]
  },
  {
   "cell_type": "code",
   "execution_count": 42,
   "id": "5e9f27a4",
   "metadata": {},
   "outputs": [
    {
     "data": {
      "text/plain": [
       "NormaltestResult(statistic=1015.157884834421, pvalue=3.641381470367694e-221)"
      ]
     },
     "execution_count": 42,
     "metadata": {},
     "output_type": "execute_result"
    }
   ],
   "source": [
    "# 10-1) df3_top 데이터의 CVD3 값의 분포가 정규분포를 따르는가?\n",
    "stats.normaltest(df3_top['CVD3'])\n"
   ]
  },
  {
   "cell_type": "code",
   "execution_count": 43,
   "id": "e8de01a9",
   "metadata": {},
   "outputs": [
    {
     "data": {
      "text/plain": [
       "RanksumsResult(statistic=2.0892453131193944, pvalue=0.0366856463687836)"
      ]
     },
     "execution_count": 43,
     "metadata": {},
     "output_type": "execute_result"
    }
   ],
   "source": [
    "# 10-2) '분류' A와 B 집단에 따른 CVD3의 평균의 차이가 있는가? \n",
    "# 귀무가설 : A와 B 집단에 따른 CVD3의 평균의 차이가 없다. \n",
    "# 대립가설 : A와 B 집단에 따른 CVD3의 평균의 차이가 있다. \n",
    "cond1 = (df3_top['분류']=='A')\n",
    "df3_A = df3_top.loc[cond1]\n",
    "df3_B = df3_top.loc[~cond1]\n",
    "stats.ranksums(df3_A['CVD3'], df3_B['CVD3'])\n",
    "# P.value < 0.037  / 대립가설 참 /A와 B 집단에 따른 CVD3의 평균의 차이가 있다.\n"
   ]
  },
  {
   "cell_type": "code",
   "execution_count": 44,
   "id": "ae87ac3b",
   "metadata": {},
   "outputs": [
    {
     "data": {
      "text/plain": [
       "BartlettResult(statistic=0.5324394923840704, pvalue=0.4655830481339479)"
      ]
     },
     "execution_count": 44,
     "metadata": {},
     "output_type": "execute_result"
    }
   ],
   "source": [
    "# 10-3 ) 만약 CVD3 가 정규분포를 따르는 경우,\n",
    "# 분류 'A'와 'B' 집단 간 'CVD3'값의 분산이 서로 같은지/다른지 확인 \n",
    "# 귀무가설 : A'와 'B' 집단 간 'CVD3'값의 분산이 서로 같다. \n",
    "# 대립가설 :  A'와 'B' 집단 간 'CVD3'값의 분산이 서로 다르다. \n",
    "stats.bartlett(df3_A['CVD3'], df3_B['CVD3'])\n",
    "# P.value > 0.05 / 귀무가설 참 / A'와 'B' 집단 간 'CVD3'값의 분산이 서로 같다.\n"
   ]
  },
  {
   "cell_type": "code",
   "execution_count": 45,
   "id": "4912b5ce",
   "metadata": {},
   "outputs": [
    {
     "data": {
      "text/plain": [
       "Ttest_indResult(statistic=2.6255866272026314, pvalue=0.0100369193134454)"
      ]
     },
     "execution_count": 45,
     "metadata": {},
     "output_type": "execute_result"
    }
   ],
   "source": [
    "# 10-4) 정규성을 띄는 CVD3에 대해 분산이 서로 같은 A와 B집단의 평균의 차이? \n",
    "# 귀무가설 :  두 A , B 집단은 평균의 차이가 없다. \n",
    "# 대립가설 :  두 A , B 집단은 평균의 차이가 있다. \n",
    "stats.ttest_ind(df3_A['CVD3'], df3_B['CVD3'], equal_var=True)\n",
    "# P.value < 0.05 / 대립가설 참 / 두 A , B 집단은 평균의 차이가 있다.\n"
   ]
  },
  {
   "cell_type": "code",
   "execution_count": 46,
   "id": "2093693e",
   "metadata": {},
   "outputs": [
    {
     "data": {
      "text/plain": [
       "<AxesSubplot:xlabel='분류', ylabel='CVD3'>"
      ]
     },
     "execution_count": 46,
     "metadata": {},
     "output_type": "execute_result"
    },
    {
     "data": {
      "image/png": "[encoded data removed]",
      "text/plain": [
       "<Figure size 640x480 with 1 Axes>"
      ]
     },
     "metadata": {},
     "output_type": "display_data"
    }
   ],
   "source": [
    "sns.barplot(data=df3, x='분류', y='CVD3', ci=None)"
   ]
  },
  {
   "cell_type": "markdown",
   "id": "ffbdb18c",
   "metadata": {},
   "source": [
    "1) df3의 '분류'에 따른 'Photo1'값과 'Photo2'값의 합/최대/최소값을 계산 "
   ]
  },
  {
   "cell_type": "code",
   "execution_count": 51,
   "id": "e88b4b63",
   "metadata": {},
   "outputs": [
    {
     "data": {
      "text/html": [
       "<div>\n",
       "<style scoped>\n",
       "    .dataframe tbody tr th:only-of-type {\n",
       "        vertical-align: middle;\n",
       "    }\n",
       "\n",
       "    .dataframe tbody tr th {\n",
       "        vertical-align: top;\n",
       "    }\n",
       "\n",
       "    .dataframe thead tr th {\n",
       "        text-align: left;\n",
       "    }\n",
       "\n",
       "    .dataframe thead tr:last-of-type th {\n",
       "        text-align: right;\n",
       "    }\n",
       "</style>\n",
       "<table border=\"1\" class=\"dataframe\">\n",
       "  <thead>\n",
       "    <tr>\n",
       "      <th></th>\n",
       "      <th colspan=\"2\" halign=\"left\">sum</th>\n",
       "      <th colspan=\"2\" halign=\"left\">max</th>\n",
       "      <th colspan=\"2\" halign=\"left\">min</th>\n",
       "    </tr>\n",
       "    <tr>\n",
       "      <th></th>\n",
       "      <th>Photo1</th>\n",
       "      <th>Photo2</th>\n",
       "      <th>Photo1</th>\n",
       "      <th>Photo2</th>\n",
       "      <th>Photo1</th>\n",
       "      <th>Photo2</th>\n",
       "    </tr>\n",
       "    <tr>\n",
       "      <th>분류</th>\n",
       "      <th></th>\n",
       "      <th></th>\n",
       "      <th></th>\n",
       "      <th></th>\n",
       "      <th></th>\n",
       "      <th></th>\n",
       "    </tr>\n",
       "  </thead>\n",
       "  <tbody>\n",
       "    <tr>\n",
       "      <th>A</th>\n",
       "      <td>2020.854284</td>\n",
       "      <td>9129.070599</td>\n",
       "      <td>35.0</td>\n",
       "      <td>74.618795</td>\n",
       "      <td>0.003882</td>\n",
       "      <td>6.481900e+01</td>\n",
       "    </tr>\n",
       "    <tr>\n",
       "      <th>B</th>\n",
       "      <td>2931.414587</td>\n",
       "      <td>12873.318680</td>\n",
       "      <td>35.0</td>\n",
       "      <td>95.724768</td>\n",
       "      <td>0.003726</td>\n",
       "      <td>5.028307e-19</td>\n",
       "    </tr>\n",
       "  </tbody>\n",
       "</table>\n",
       "</div>"
      ],
      "text/plain": [
       "            sum                  max                  min              \n",
       "         Photo1        Photo2 Photo1     Photo2    Photo1        Photo2\n",
       "분류                                                                     \n",
       "A   2020.854284   9129.070599   35.0  74.618795  0.003882  6.481900e+01\n",
       "B   2931.414587  12873.318680   35.0  95.724768  0.003726  5.028307e-19"
      ]
     },
     "execution_count": 51,
     "metadata": {},
     "output_type": "execute_result"
    }
   ],
   "source": [
    "df3.pivot_table(index='분류',values=['Photo1','Photo2'],\n",
    "               aggfunc=['sum','max','min'])"
   ]
  },
  {
   "cell_type": "markdown",
   "id": "3e9143f6",
   "metadata": {},
   "source": [
    "12) df3의 'DATE'항목을 날짜데이터로 변환하여, 'DATE_dt'로 선언한 뒤, 일자만 추출하여,\n",
    "    - '분류'에 따른 '일자'별 'Target'값의 합을 계산"
   ]
  },
  {
   "cell_type": "code",
   "execution_count": 52,
   "id": "b6c1bec3",
   "metadata": {},
   "outputs": [
    {
     "data": {
      "text/html": [
       "<div>\n",
       "<style scoped>\n",
       "    .dataframe tbody tr th:only-of-type {\n",
       "        vertical-align: middle;\n",
       "    }\n",
       "\n",
       "    .dataframe tbody tr th {\n",
       "        vertical-align: top;\n",
       "    }\n",
       "\n",
       "    .dataframe thead th {\n",
       "        text-align: right;\n",
       "    }\n",
       "</style>\n",
       "<table border=\"1\" class=\"dataframe\">\n",
       "  <thead>\n",
       "    <tr style=\"text-align: right;\">\n",
       "      <th>일자</th>\n",
       "      <th>1</th>\n",
       "      <th>2</th>\n",
       "      <th>9</th>\n",
       "      <th>10</th>\n",
       "      <th>11</th>\n",
       "      <th>12</th>\n",
       "      <th>13</th>\n",
       "      <th>14</th>\n",
       "      <th>15</th>\n",
       "      <th>16</th>\n",
       "      <th>...</th>\n",
       "      <th>22</th>\n",
       "      <th>23</th>\n",
       "      <th>24</th>\n",
       "      <th>25</th>\n",
       "      <th>26</th>\n",
       "      <th>27</th>\n",
       "      <th>28</th>\n",
       "      <th>29</th>\n",
       "      <th>30</th>\n",
       "      <th>31</th>\n",
       "    </tr>\n",
       "    <tr>\n",
       "      <th>분류</th>\n",
       "      <th></th>\n",
       "      <th></th>\n",
       "      <th></th>\n",
       "      <th></th>\n",
       "      <th></th>\n",
       "      <th></th>\n",
       "      <th></th>\n",
       "      <th></th>\n",
       "      <th></th>\n",
       "      <th></th>\n",
       "      <th></th>\n",
       "      <th></th>\n",
       "      <th></th>\n",
       "      <th></th>\n",
       "      <th></th>\n",
       "      <th></th>\n",
       "      <th></th>\n",
       "      <th></th>\n",
       "      <th></th>\n",
       "      <th></th>\n",
       "      <th></th>\n",
       "    </tr>\n",
       "  </thead>\n",
       "  <tbody>\n",
       "    <tr>\n",
       "      <th>A</th>\n",
       "      <td>2.5</td>\n",
       "      <td>3.2</td>\n",
       "      <td>NaN</td>\n",
       "      <td>NaN</td>\n",
       "      <td>NaN</td>\n",
       "      <td>5.2</td>\n",
       "      <td>6.6</td>\n",
       "      <td>0.9</td>\n",
       "      <td>NaN</td>\n",
       "      <td>0.3</td>\n",
       "      <td>...</td>\n",
       "      <td>NaN</td>\n",
       "      <td>1.2</td>\n",
       "      <td>1.6</td>\n",
       "      <td>3.8</td>\n",
       "      <td>4.3</td>\n",
       "      <td>9.4</td>\n",
       "      <td>7.6</td>\n",
       "      <td>3.9</td>\n",
       "      <td>4.6</td>\n",
       "      <td>3.1</td>\n",
       "    </tr>\n",
       "    <tr>\n",
       "      <th>B</th>\n",
       "      <td>10.1</td>\n",
       "      <td>3.7</td>\n",
       "      <td>2.0</td>\n",
       "      <td>0.9</td>\n",
       "      <td>2.0</td>\n",
       "      <td>0.8</td>\n",
       "      <td>NaN</td>\n",
       "      <td>0.5</td>\n",
       "      <td>0.2</td>\n",
       "      <td>NaN</td>\n",
       "      <td>...</td>\n",
       "      <td>5.2</td>\n",
       "      <td>6.0</td>\n",
       "      <td>3.6</td>\n",
       "      <td>7.3</td>\n",
       "      <td>8.0</td>\n",
       "      <td>3.8</td>\n",
       "      <td>7.8</td>\n",
       "      <td>5.6</td>\n",
       "      <td>2.4</td>\n",
       "      <td>3.7</td>\n",
       "    </tr>\n",
       "  </tbody>\n",
       "</table>\n",
       "<p>2 rows × 24 columns</p>\n",
       "</div>"
      ],
      "text/plain": [
       "일자    1    2    9    10   11   12   13   14   15   16  ...   22   23   24  \\\n",
       "분류                                                     ...                  \n",
       "A    2.5  3.2  NaN  NaN  NaN  5.2  6.6  0.9  NaN  0.3  ...  NaN  1.2  1.6   \n",
       "B   10.1  3.7  2.0  0.9  2.0  0.8  NaN  0.5  0.2  NaN  ...  5.2  6.0  3.6   \n",
       "\n",
       "일자   25   26   27   28   29   30   31  \n",
       "분류                                     \n",
       "A   3.8  4.3  9.4  7.6  3.9  4.6  3.1  \n",
       "B   7.3  8.0  3.8  7.8  5.6  2.4  3.7  \n",
       "\n",
       "[2 rows x 24 columns]"
      ]
     },
     "execution_count": 52,
     "metadata": {},
     "output_type": "execute_result"
    }
   ],
   "source": [
    "df3['DATE_dt']=pd.to_datetime(df3['DATE'])\n",
    "df3['일자']   =df3['DATE_dt'].dt.day\n",
    "df3.pivot_table(index='분류',columns='일자',values='Target',aggfunc='sum')"
   ]
  },
  {
   "cell_type": "markdown",
   "id": "2e5461c0",
   "metadata": {},
   "source": [
    "# 지도학습"
   ]
  },
  {
   "cell_type": "code",
   "execution_count": 64,
   "id": "de427b26",
   "metadata": {},
   "outputs": [],
   "source": [
    "df1 = pd.read_csv('01_Data.csv')"
   ]
  },
  {
   "cell_type": "code",
   "execution_count": 149,
   "id": "5a482020",
   "metadata": {},
   "outputs": [],
   "source": [
    "# 1. 데이터 전처리 (-결측치-)\n",
    "df1_clean = df1.dropna()"
   ]
  },
  {
   "cell_type": "code",
   "execution_count": 67,
   "id": "f24c4f55",
   "metadata": {},
   "outputs": [
    {
     "data": {
      "text/plain": [
       "계약확정     40104\n",
       "해약확정       498\n",
       "기간만료        33\n",
       "해약진행중       12\n",
       "Name: State, dtype: int64"
      ]
     },
     "execution_count": 67,
     "metadata": {},
     "output_type": "execute_result"
    }
   ],
   "source": [
    "df1_clean['State'].value_counts()"
   ]
  },
  {
   "cell_type": "code",
   "execution_count": 73,
   "id": "47c63b32",
   "metadata": {},
   "outputs": [],
   "source": [
    "# 2. 목표변수와 설명변수를 선언\n",
    "Y = df1_clean['State'].replace({'계약확정':'정상','해약확정':'해약',\n",
    "                            '기간만료':'정상','해약진행중':'해약'})\n",
    "X = df1_clean[['Amount_Month','Term','Age','Credit_Rank']]"
   ]
  },
  {
   "cell_type": "code",
   "execution_count": 90,
   "id": "9d8b7608",
   "metadata": {},
   "outputs": [],
   "source": [
    "# 3. 학습데이터와 검증데이터 분할\n",
    "from sklearn.model_selection import train_test_split"
   ]
  },
  {
   "cell_type": "code",
   "execution_count": 103,
   "id": "eb9f7c20",
   "metadata": {},
   "outputs": [],
   "source": [
    "X_train, X_test, Y_train, Y_test = train_test_split(X,Y)"
   ]
  },
  {
   "cell_type": "code",
   "execution_count": 104,
   "id": "a5292017",
   "metadata": {},
   "outputs": [],
   "source": [
    "# 4. 학습\n",
    "from sklearn.tree import DecisionTreeClassifier"
   ]
  },
  {
   "cell_type": "code",
   "execution_count": 105,
   "id": "e13b3d4c",
   "metadata": {},
   "outputs": [
    {
     "data": {
      "text/plain": [
       "DecisionTreeClassifier()"
      ]
     },
     "execution_count": 105,
     "metadata": {},
     "output_type": "execute_result"
    }
   ],
   "source": [
    "model = DecisionTreeClassifier()\n",
    "model.fit(X_train, Y_train)"
   ]
  },
  {
   "cell_type": "code",
   "execution_count": 106,
   "id": "64f8ee3d",
   "metadata": {},
   "outputs": [],
   "source": [
    "# 5. 평가 (정확도)\n",
    "from sklearn.metrics import accuracy_score"
   ]
  },
  {
   "cell_type": "code",
   "execution_count": 107,
   "id": "842e58c5",
   "metadata": {},
   "outputs": [],
   "source": [
    "Y_train_pred = model.predict(X_train)\n",
    "Y_test_pred = model.predict(X_test)"
   ]
  },
  {
   "cell_type": "code",
   "execution_count": 108,
   "id": "a565a77b",
   "metadata": {},
   "outputs": [
    {
     "data": {
      "text/plain": [
       "0.983959850423145"
      ]
     },
     "execution_count": 108,
     "metadata": {},
     "output_type": "execute_result"
    }
   ],
   "source": [
    "accuracy_score(Y_test, Y_test_pred)"
   ]
  },
  {
   "cell_type": "code",
   "execution_count": 132,
   "id": "add6e70f",
   "metadata": {},
   "outputs": [
    {
     "name": "stdout",
     "output_type": "stream",
     "text": [
      "월랜탈비용을 입력 :1\n",
      "계약 기간(월단위)을 입력하시오 :2\n",
      "고객연령을 입력 하시오 :3\n",
      "신용등급을 입력 하시오 :4\n"
     ]
    }
   ],
   "source": [
    "# 6. 새로운 데이터 입력\n",
    "x1 = input('월랜탈비용을 입력 :')\n",
    "x2 = input('계약 기간(월단위)을 입력하시오 :')\n",
    "x3 = input('고객연령을 입력 하시오 :')\n",
    "x4 = input('신용등급을 입력 하시오 :')\n",
    "\n",
    "new_Data = pd.DataFrame([[x1,x2,x3,x4]])"
   ]
  },
  {
   "cell_type": "code",
   "execution_count": 133,
   "id": "beefeb93",
   "metadata": {},
   "outputs": [
    {
     "name": "stderr",
     "output_type": "stream",
     "text": [
      "C:\\ProgramData\\Anaconda3\\lib\\site-packages\\sklearn\\base.py:450: UserWarning: X does not have valid feature names, but DecisionTreeClassifier was fitted with feature names\n",
      "  warnings.warn(\n"
     ]
    },
    {
     "data": {
      "text/plain": [
       "array(['정상'], dtype=object)"
      ]
     },
     "execution_count": 133,
     "metadata": {},
     "output_type": "execute_result"
    }
   ],
   "source": [
    "model.predict(new_Data)"
   ]
  }
 ],
 "metadata": {
  "kernelspec": {
   "display_name": "Python 3 (ipykernel)",
   "language": "python",
   "name": "python3"
  },
  "language_info": {
   "codemirror_mode": {
    "name": "ipython",
    "version": 3
   },
   "file_extension": ".py",
   "mimetype": "text/x-python",
   "name": "python",
   "nbconvert_exporter": "python",
   "pygments_lexer": "ipython3",
   "version": "3.9.13"
  }
 },
 "nbformat": 4,
 "nbformat_minor": 5
}
