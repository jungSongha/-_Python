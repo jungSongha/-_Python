{
 "cells": [
  {
   "cell_type": "code",
   "execution_count": 12,
   "metadata": {},
   "outputs": [],
   "source": [
    "# 사진을 그림으로 변환시키기\n",
    "\n",
    "import numpy as np\n",
    "import cv2  # 넘파이와 OpenCV 불러오기\n",
    "\n",
    "ff = np.fromfile(r'c:\\python\\도전과제\\Project24\\pic.jpg',np.uint8)               #OpenCV는 한글경로 못읽기에 넘파이로 먼저 읽음\n",
    "img = cv2.imdecode(ff, cv2.IMREAD_UNCHANGED)                                    #넘파이 파일을 imdecode하여 OpenCV로 가져옴\n",
    "img = cv2.resize(img, dsize=(0,0),fx=1.0,fy=1.0,interpolation=cv2.INTER_LINEAR) #불러오는 이미지 크기 조절, 코드는 원래 비율 사용해야함\n",
    "                    # dsize=결과영상크기, (0,0)이면 fx, fy값으로 결정 - fx, fy= x,y방향 스케일 비율\n",
    "                    # interpolation=cv2.INTER_LINEAR = 보간법 지정(기본값)\n",
    "\n",
    "cartoon_img = cv2.stylization(img, sigma_s=100, sigma_r=0.1)\n",
    "# sigma_s = 0~200 범위로 이미지가 얼마나 부드러울지, 클수록 부드러움\n",
    "# sigma_r = 0~1 범위로 이미지가 부드러워 지는 동안 가장자리를 얼마나 보존시킬지,\n",
    "#           작을수록 가장자리 많이 보존됨\n",
    "\n",
    "cv2.imshow('cartoon view',cartoon_img) #Cartoon View라는 명으로 이미지 불러오기\n",
    "cv2.waitKey(0)                         #실행 창을 안꺼지게 유지\n",
    "cv2.destroyAllWindows()                #열린 모든 창을 종료 waitKey와 이어짐"
   ]
  },
  {
   "cell_type": "code",
   "execution_count": 2,
   "metadata": {},
   "outputs": [
    {
     "name": "stdout",
     "output_type": "stream",
     "text": [
      "sigma_s_value: 100\n",
      "sigma_r_value: 10\n",
      "sigma_s_value: 100\n",
      "sigma_r_value: 10\n",
      "sigma_s_value: 100\n",
      "sigma_r_value: 10\n",
      "sigma_s_value: 100\n",
      "sigma_r_value: 10\n",
      "sigma_s_value: 100\n",
      "sigma_r_value: 10\n",
      "sigma_s_value: 100\n",
      "sigma_r_value: 10\n",
      "sigma_s_value: 100\n",
      "sigma_r_value: 10\n",
      "sigma_s_value: 100\n",
      "sigma_r_value: 10\n",
      "sigma_s_value: 100\n",
      "sigma_r_value: 10\n",
      "sigma_s_value: 100\n",
      "sigma_r_value: 100\n",
      "sigma_s_value: 100\n",
      "sigma_r_value: 100\n",
      "sigma_s_value: 100\n",
      "sigma_r_value: 99\n",
      "sigma_s_value: 100\n",
      "sigma_r_value: 0\n",
      "sigma_s_value: 100\n",
      "sigma_r_value: 4\n",
      "sigma_s_value: 100\n",
      "sigma_r_value: 4\n"
     ]
    }
   ],
   "source": [
    "import numpy as np\n",
    "import cv2\n",
    "\n",
    "ff = np.fromfile(r'c:\\python\\도전과제\\Project24\\pic1.jpg',np.uint8)\n",
    "img = cv2.imdecode(ff, cv2.IMREAD_UNCHANGED)\n",
    "img = cv2.resize(img, dsize=(0,0),fx=1.0,fy=1.0,interpolation=cv2.INTER_LINEAR)\n",
    "\n",
    "def onChange(pos):\n",
    "    pass\n",
    "\n",
    "cv2.namedWindow(\"Trackbar Windows\") #실행 창 이름 생성\n",
    "\n",
    "cv2.createTrackbar(\"sigma_s\", \"Trackbar Windows\", 0, 200, onChange)\n",
    "cv2.createTrackbar(\"sigma_r\", \"Trackbar Windows\", 0, 100, onChange)\n",
    "# sigma 를 0~200 또는 0~100 사이 값으로 TrackerBar를 생성\n",
    "\n",
    "cv2.setTrackbarPos(\"sigma_s\", \"Trackbar Windows\", 100)\n",
    "cv2.setTrackbarPos(\"sigma_r\", \"Trackbar Windows\", 10)\n",
    "# sigma의 초기 설정 값을 100과 10으로 설정\n",
    "\n",
    "while True:\n",
    "    if cv2.waitKey(100) == ord('q'):\n",
    "        break\n",
    "    # waitKey의 함수에서 q를 입력 받았을 경우 실행 종료\n",
    "    \n",
    "    sigma_s_value = cv2.getTrackbarPos(\"sigma_s\", \"Trackbar Windows\")\n",
    "    sigma_r_value = cv2.getTrackbarPos(\"sigma_r\", \"Trackbar Windows\") / 100.0 #sigma_r은 0~1의 값이기에 Trackbark에 들어간 100 나눔\n",
    "    # getTrackbarpos = Trackbar의 현재 위치를 리턴\n",
    "    \n",
    "    print(\"sigma_s_value:\",sigma_s_value)\n",
    "    print(\"sigma_r_value:\",sigma_r_value)\n",
    "    \n",
    "    cartoon_img = cv2.stylization(img, sigma_s = sigma_s_value, sigma_r = sigma_r_value)\n",
    "    \n",
    "    cv2.imshow(\"Trackbar Windows\", cartoon_img)\n",
    "\n",
    "cv2.waitKey(0)\n",
    "cv2.destroyAllWindows()"
   ]
  }
 ],
 "metadata": {
  "kernelspec": {
   "display_name": "Python 3.10.7 64-bit",
   "language": "python",
   "name": "python3"
  },
  "language_info": {
   "codemirror_mode": {
    "name": "ipython",
    "version": 3
   },
   "file_extension": ".py",
   "mimetype": "text/x-python",
   "name": "python",
   "nbconvert_exporter": "python",
   "pygments_lexer": "ipython3",
   "version": "3.10.7"
  },
  "orig_nbformat": 4,
  "vscode": {
   "interpreter": {
    "hash": "42beef21353c147b7b20077d463c012c4483cb24ebd397dbb905ca2efccbd2c6"
   }
  }
 },
 "nbformat": 4,
 "nbformat_minor": 2
}
