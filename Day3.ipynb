{
 "cells": [
  {
   "cell_type": "code",
   "execution_count": 1,
   "id": "91fa990a",
   "metadata": {},
   "outputs": [],
   "source": [
    "import pandas as pd\n",
    "import matplotlib as mpl\n",
    "import matplotlib.pyplot as plt\n",
    "import seaborn as sns\n",
    "import plotly.express as px\n",
    "import scipy.stats as stats\n",
    "mpl.rc('font',family='Malgun Gothic')"
   ]
  },
  {
   "cell_type": "code",
   "execution_count": 2,
   "id": "b740eb91",
   "metadata": {},
   "outputs": [],
   "source": [
    "df_member = pd.read_csv('1_store_member.csv')\n",
    "df_product = pd.read_csv('2_store_product.csv')"
   ]
  },
  {
   "cell_type": "code",
   "execution_count": 3,
   "id": "26167a76",
   "metadata": {},
   "outputs": [
    {
     "data": {
      "text/html": [
       "<div>\n",
       "<style scoped>\n",
       "    .dataframe tbody tr th:only-of-type {\n",
       "        vertical-align: middle;\n",
       "    }\n",
       "\n",
       "    .dataframe tbody tr th {\n",
       "        vertical-align: top;\n",
       "    }\n",
       "\n",
       "    .dataframe thead th {\n",
       "        text-align: right;\n",
       "    }\n",
       "</style>\n",
       "<table border=\"1\" class=\"dataframe\">\n",
       "  <thead>\n",
       "    <tr style=\"text-align: right;\">\n",
       "      <th></th>\n",
       "      <th>회원번호</th>\n",
       "      <th>회원상태</th>\n",
       "      <th>성별</th>\n",
       "      <th>결혼유무</th>\n",
       "      <th>주소</th>\n",
       "      <th>생년</th>\n",
       "      <th>연령</th>\n",
       "    </tr>\n",
       "  </thead>\n",
       "  <tbody>\n",
       "    <tr>\n",
       "      <th>0</th>\n",
       "      <td>2101</td>\n",
       "      <td>정상회원</td>\n",
       "      <td>여</td>\n",
       "      <td>기혼</td>\n",
       "      <td>서울 강북구 미아동 134-</td>\n",
       "      <td>1967</td>\n",
       "      <td>51</td>\n",
       "    </tr>\n",
       "    <tr>\n",
       "      <th>1</th>\n",
       "      <td>2102</td>\n",
       "      <td>정상회원</td>\n",
       "      <td>여</td>\n",
       "      <td>NaN</td>\n",
       "      <td>경기 용인시 수지구 동천동</td>\n",
       "      <td>1947</td>\n",
       "      <td>71</td>\n",
       "    </tr>\n",
       "    <tr>\n",
       "      <th>2</th>\n",
       "      <td>2103</td>\n",
       "      <td>정상회원</td>\n",
       "      <td>여</td>\n",
       "      <td>기혼</td>\n",
       "      <td>경기 용인시 수지구 동천동</td>\n",
       "      <td>1972</td>\n",
       "      <td>46</td>\n",
       "    </tr>\n",
       "    <tr>\n",
       "      <th>3</th>\n",
       "      <td>2104</td>\n",
       "      <td>정상회원</td>\n",
       "      <td>여</td>\n",
       "      <td>NaN</td>\n",
       "      <td>경기 용인시 수지구 성복동</td>\n",
       "      <td>1969</td>\n",
       "      <td>49</td>\n",
       "    </tr>\n",
       "    <tr>\n",
       "      <th>4</th>\n",
       "      <td>2105</td>\n",
       "      <td>정상회원</td>\n",
       "      <td>여</td>\n",
       "      <td>기혼</td>\n",
       "      <td>경기 용인시 수지구 동천동</td>\n",
       "      <td>1948</td>\n",
       "      <td>70</td>\n",
       "    </tr>\n",
       "  </tbody>\n",
       "</table>\n",
       "</div>"
      ],
      "text/plain": [
       "   회원번호  회원상태 성별 결혼유무               주소    생년  연령\n",
       "0  2101  정상회원  여   기혼  서울 강북구 미아동 134-  1967  51\n",
       "1  2102  정상회원  여  NaN   경기 용인시 수지구 동천동  1947  71\n",
       "2  2103  정상회원  여   기혼   경기 용인시 수지구 동천동  1972  46\n",
       "3  2104  정상회원  여  NaN   경기 용인시 수지구 성복동  1969  49\n",
       "4  2105  정상회원  여   기혼   경기 용인시 수지구 동천동  1948  70"
      ]
     },
     "execution_count": 3,
     "metadata": {},
     "output_type": "execute_result"
    }
   ],
   "source": [
    "df_member.head()"
   ]
  },
  {
   "cell_type": "code",
   "execution_count": 4,
   "id": "3de06ae9",
   "metadata": {},
   "outputs": [
    {
     "data": {
      "text/html": [
       "<div>\n",
       "<style scoped>\n",
       "    .dataframe tbody tr th:only-of-type {\n",
       "        vertical-align: middle;\n",
       "    }\n",
       "\n",
       "    .dataframe tbody tr th {\n",
       "        vertical-align: top;\n",
       "    }\n",
       "\n",
       "    .dataframe thead th {\n",
       "        text-align: right;\n",
       "    }\n",
       "</style>\n",
       "<table border=\"1\" class=\"dataframe\">\n",
       "  <thead>\n",
       "    <tr style=\"text-align: right;\">\n",
       "      <th></th>\n",
       "      <th>공급일자</th>\n",
       "      <th>물품코드</th>\n",
       "      <th>물품대분류</th>\n",
       "      <th>물품중분류</th>\n",
       "      <th>물품소분류</th>\n",
       "      <th>물품명</th>\n",
       "      <th>구매수량</th>\n",
       "      <th>구매금액</th>\n",
       "      <th>구매매장</th>\n",
       "      <th>반품_원거래일자</th>\n",
       "      <th>회원번호</th>\n",
       "    </tr>\n",
       "  </thead>\n",
       "  <tbody>\n",
       "    <tr>\n",
       "      <th>0</th>\n",
       "      <td>20170201</td>\n",
       "      <td>50142001</td>\n",
       "      <td>채소</td>\n",
       "      <td>잎/줄기채소</td>\n",
       "      <td>시금치</td>\n",
       "      <td>시금치(300g)</td>\n",
       "      <td>1.0</td>\n",
       "      <td>2000</td>\n",
       "      <td>매장3</td>\n",
       "      <td>NaN</td>\n",
       "      <td>2101.0</td>\n",
       "    </tr>\n",
       "    <tr>\n",
       "      <th>1</th>\n",
       "      <td>20170201</td>\n",
       "      <td>60302012</td>\n",
       "      <td>축산물</td>\n",
       "      <td>육가공</td>\n",
       "      <td>돈가스/분쇄가공</td>\n",
       "      <td>튀김옷돈가스(400g)</td>\n",
       "      <td>1.0</td>\n",
       "      <td>6300</td>\n",
       "      <td>매장3</td>\n",
       "      <td>NaN</td>\n",
       "      <td>2101.0</td>\n",
       "    </tr>\n",
       "    <tr>\n",
       "      <th>2</th>\n",
       "      <td>20170201</td>\n",
       "      <td>80301002</td>\n",
       "      <td>간식</td>\n",
       "      <td>밀가공</td>\n",
       "      <td>라면</td>\n",
       "      <td>감자라면(110g:1봉)</td>\n",
       "      <td>2.0</td>\n",
       "      <td>2600</td>\n",
       "      <td>매장3</td>\n",
       "      <td>NaN</td>\n",
       "      <td>2101.0</td>\n",
       "    </tr>\n",
       "    <tr>\n",
       "      <th>3</th>\n",
       "      <td>20170201</td>\n",
       "      <td>80301010</td>\n",
       "      <td>간식</td>\n",
       "      <td>밀가공</td>\n",
       "      <td>라면</td>\n",
       "      <td>사리면(100g)</td>\n",
       "      <td>1.0</td>\n",
       "      <td>900</td>\n",
       "      <td>매장3</td>\n",
       "      <td>NaN</td>\n",
       "      <td>2101.0</td>\n",
       "    </tr>\n",
       "    <tr>\n",
       "      <th>4</th>\n",
       "      <td>20170201</td>\n",
       "      <td>80305003</td>\n",
       "      <td>간식</td>\n",
       "      <td>밀가공</td>\n",
       "      <td>만두</td>\n",
       "      <td>고기만두(500g)</td>\n",
       "      <td>1.0</td>\n",
       "      <td>5400</td>\n",
       "      <td>매장3</td>\n",
       "      <td>NaN</td>\n",
       "      <td>2101.0</td>\n",
       "    </tr>\n",
       "  </tbody>\n",
       "</table>\n",
       "</div>"
      ],
      "text/plain": [
       "       공급일자      물품코드 물품대분류   물품중분류     물품소분류            물품명  구매수량  구매금액 구매매장  \\\n",
       "0  20170201  50142001    채소  잎/줄기채소       시금치      시금치(300g)   1.0  2000  매장3   \n",
       "1  20170201  60302012   축산물     육가공  돈가스/분쇄가공   튀김옷돈가스(400g)   1.0  6300  매장3   \n",
       "2  20170201  80301002    간식     밀가공        라면  감자라면(110g:1봉)   2.0  2600  매장3   \n",
       "3  20170201  80301010    간식     밀가공        라면      사리면(100g)   1.0   900  매장3   \n",
       "4  20170201  80305003    간식     밀가공        만두     고기만두(500g)   1.0  5400  매장3   \n",
       "\n",
       "   반품_원거래일자    회원번호  \n",
       "0       NaN  2101.0  \n",
       "1       NaN  2101.0  \n",
       "2       NaN  2101.0  \n",
       "3       NaN  2101.0  \n",
       "4       NaN  2101.0  "
      ]
     },
     "execution_count": 4,
     "metadata": {},
     "output_type": "execute_result"
    }
   ],
   "source": [
    "df_product.head()"
   ]
  },
  {
   "cell_type": "code",
   "execution_count": 5,
   "id": "cc18786c",
   "metadata": {},
   "outputs": [],
   "source": [
    "# 구매 데이터에서 회원 번호 별 총 구매금액 / 총구매수량 계산\n",
    "p1 = df_product.pivot_table(index='회원번호', values=['구매금액','구매수량'],\n",
    "                            aggfunc='sum').reset_index()"
   ]
  },
  {
   "cell_type": "code",
   "execution_count": 6,
   "id": "708e22df",
   "metadata": {},
   "outputs": [],
   "source": [
    "df_member2 = pd.merge(df_member,p1,on='회원번호', how='inner')"
   ]
  },
  {
   "cell_type": "code",
   "execution_count": 7,
   "id": "9049ac51",
   "metadata": {},
   "outputs": [],
   "source": [
    "# 구매 데이터에서 회원 번호 별 방문횟수의 총합\n",
    "df_product['방문횟수'] = 1"
   ]
  },
  {
   "cell_type": "code",
   "execution_count": 8,
   "id": "511ac96b",
   "metadata": {},
   "outputs": [],
   "source": [
    "p2 = df_product.pivot_table(index=['회원번호','공급일자'],\n",
    "                      values='방문횟수',aggfunc='min').reset_index()\n",
    "p3 = p2.pivot_table(index='회원번호',\n",
    "               values='방문횟수',aggfunc='sum').reset_index()"
   ]
  },
  {
   "cell_type": "code",
   "execution_count": 9,
   "id": "e0797624",
   "metadata": {},
   "outputs": [],
   "source": [
    "df_member3 = pd.merge(df_member2, p3 ,on='회원번호',how='inner')"
   ]
  },
  {
   "cell_type": "code",
   "execution_count": 10,
   "id": "393e2a91",
   "metadata": {},
   "outputs": [
    {
     "data": {
      "text/plain": [
       "count      4285.000000\n",
       "mean      32913.468270\n",
       "std       25756.734483\n",
       "min           0.000000\n",
       "25%       15890.476190\n",
       "50%       27166.666667\n",
       "75%       43080.140845\n",
       "max      329260.000000\n",
       "Name: 1회방문구매평균, dtype: float64"
      ]
     },
     "execution_count": 10,
     "metadata": {},
     "output_type": "execute_result"
    }
   ],
   "source": [
    "df_member3['1회방문구매평균'] = df_member3['구매금액'] / df_member3['방문횟수']\n",
    "df_member3['1회방문구매평균'].describe()"
   ]
  },
  {
   "cell_type": "code",
   "execution_count": 11,
   "id": "69ee5f11",
   "metadata": {},
   "outputs": [],
   "source": [
    "# 1회방문구매평균을 바탕으로 고객등급을 계산 (연속형->범주형, 층별화)\n",
    "def func1(row):\n",
    "    if row >= 100000:\n",
    "        return 'A'\n",
    "    elif row >= 50000:\n",
    "        return 'B'\n",
    "    elif row >= 20000:\n",
    "        return 'C'\n",
    "    else:\n",
    "        return 'D'\n",
    "\n",
    "df_member3['고객등급'] = df_member3 ['1회방문구매평균'].apply(func1)"
   ]
  },
  {
   "cell_type": "code",
   "execution_count": 12,
   "id": "69fd9034",
   "metadata": {},
   "outputs": [
    {
     "data": {
      "text/plain": [
       "C    2006\n",
       "D    1506\n",
       "B     676\n",
       "A      97\n",
       "Name: 고객등급, dtype: int64"
      ]
     },
     "execution_count": 12,
     "metadata": {},
     "output_type": "execute_result"
    }
   ],
   "source": [
    "df_member3['고객등급'].value_counts()"
   ]
  },
  {
   "cell_type": "markdown",
   "id": "0487475a",
   "metadata": {},
   "source": [
    "# Mission 4. (점심)\n",
    "\n",
    "    * 판매 주력상품에 대한 분석을 하고자한다 (df_product)\n",
    "1) df_product데이터의 구조와 타입을 확인하고 결측값도 확인\n",
    "2) df_product데이터의 '구매금액'과 '구매수량'의 기술통계량을 확인 \n",
    "3) df_product에서 '물품대분류'중 가장 많이 판매되는 3가지 항목을 확인\n",
    "   (품목 별 구매수량의 합이 높은 3개 확인) \n",
    "4) 앞서 확인한 3가지 항목을 추출하여 df1_product_top변수로 선언하고,\n",
    "    df1_product_top에서 구매매장 별 구매금액의 합과 평균을 계산 \n",
    "5) 공급일자 데이터를 날짜형식으로 변환한 다음 연도/월/요일 을 새로운 파생변수로 선언하시오\n",
    "    ( pd.to_datetime(   , format =%Y%m%d) )\n",
    "6) '월'에 따른 '물품대분류'별 '구매금액'의 합을 계산하여 result_p1.xlsx로 저장 \n",
    "7) '요일'데이터에서 토요일과 일요일의 구매금액의 평균의 차이가 있는지 가설검정을 수행\n",
    "\n",
    "    * 고객데이터를 분석하고자 한다 (df_member) \n",
    "8) df_member 데이터의 구조와 타입을 확인하고 결측값을 확인\n",
    "9) '생년'데이터를 이용해 2023년 기준 나이를 재계산하여 '연령_new'로 선언 \n",
    "10) '연령_new'를 이용해 '연령대'새로운 파생변수를 계산 (10대 /20대 /30대...)\n",
    "\n",
    "    * df_member3 데이터를 이용해 매출과 고객 특성에 대한 분석을 하고자 한다 \n",
    "11) '결혼유무'에서 '기혼'에 해당하는 고객들 중,\n",
    "    '방문횟수'가 높은 상위 30명의 고객 명단을 추출하여 'result_member.xlsx'로 저장 \n",
    "12) '구매금액'의 합이 가장 높은 2개 연령대를 확인하여,\n",
    "    두 연령대 간 '방문횟수'의 평균의 차이가 있는지 가설검정을 수행 \n",
    "13) '성별'별 '구매금액'에 대한 평균을 시각화 하시오."
   ]
  },
  {
   "cell_type": "code",
   "execution_count": 13,
   "id": "659eaf04",
   "metadata": {},
   "outputs": [
    {
     "name": "stdout",
     "output_type": "stream",
     "text": [
      "<class 'pandas.core.frame.DataFrame'>\n",
      "RangeIndex: 735783 entries, 0 to 735782\n",
      "Data columns (total 11 columns):\n",
      " #   Column    Non-Null Count   Dtype  \n",
      "---  ------    --------------   -----  \n",
      " 0   공급일자      735783 non-null  int64  \n",
      " 1   물품코드      735783 non-null  int64  \n",
      " 2   물품대분류     735783 non-null  object \n",
      " 3   물품중분류     735783 non-null  object \n",
      " 4   물품소분류     735783 non-null  object \n",
      " 5   물품명       735783 non-null  object \n",
      " 6   구매수량      735783 non-null  float64\n",
      " 7   구매금액      735783 non-null  int64  \n",
      " 8   구매매장      735783 non-null  object \n",
      " 9   반품_원거래일자  10337 non-null   float64\n",
      " 10  회원번호      735761 non-null  float64\n",
      "dtypes: float64(3), int64(3), object(5)\n",
      "memory usage: 61.7+ MB\n"
     ]
    }
   ],
   "source": [
    "# 1) df_product데이터의 구조와 타입을 확인하고 결측값도 확인\n",
    "df1 = pd.read_csv('2_store_product.csv')\n",
    "df1.info()"
   ]
  },
  {
   "cell_type": "code",
   "execution_count": 14,
   "id": "0ce6b422",
   "metadata": {},
   "outputs": [
    {
     "data": {
      "text/plain": [
       "공급일자             0\n",
       "물품코드             0\n",
       "물품대분류            0\n",
       "물품중분류            0\n",
       "물품소분류            0\n",
       "물품명              0\n",
       "구매수량             0\n",
       "구매금액             0\n",
       "구매매장             0\n",
       "반품_원거래일자    725446\n",
       "회원번호            22\n",
       "방문횟수             0\n",
       "dtype: int64"
      ]
     },
     "execution_count": 14,
     "metadata": {},
     "output_type": "execute_result"
    }
   ],
   "source": [
    "df_product.isnull().sum()\n",
    "# isnull() : 해당 데이터가 결측값인지 아닌지를 True / False 출력\n",
    "# sum() : 총합을 계산 / 각 항목별 총합이 계산"
   ]
  },
  {
   "cell_type": "code",
   "execution_count": 15,
   "id": "6d371f25",
   "metadata": {},
   "outputs": [
    {
     "data": {
      "text/html": [
       "<div>\n",
       "<style scoped>\n",
       "    .dataframe tbody tr th:only-of-type {\n",
       "        vertical-align: middle;\n",
       "    }\n",
       "\n",
       "    .dataframe tbody tr th {\n",
       "        vertical-align: top;\n",
       "    }\n",
       "\n",
       "    .dataframe thead th {\n",
       "        text-align: right;\n",
       "    }\n",
       "</style>\n",
       "<table border=\"1\" class=\"dataframe\">\n",
       "  <thead>\n",
       "    <tr style=\"text-align: right;\">\n",
       "      <th></th>\n",
       "      <th>구매금액</th>\n",
       "      <th>구매수량</th>\n",
       "    </tr>\n",
       "  </thead>\n",
       "  <tbody>\n",
       "    <tr>\n",
       "      <th>count</th>\n",
       "      <td>7.357830e+05</td>\n",
       "      <td>735783.000000</td>\n",
       "    </tr>\n",
       "    <tr>\n",
       "      <th>mean</th>\n",
       "      <td>5.677010e+03</td>\n",
       "      <td>1.153989</td>\n",
       "    </tr>\n",
       "    <tr>\n",
       "      <th>std</th>\n",
       "      <td>8.650792e+03</td>\n",
       "      <td>0.762145</td>\n",
       "    </tr>\n",
       "    <tr>\n",
       "      <th>min</th>\n",
       "      <td>-3.600000e+05</td>\n",
       "      <td>-120.000000</td>\n",
       "    </tr>\n",
       "    <tr>\n",
       "      <th>25%</th>\n",
       "      <td>2.150000e+03</td>\n",
       "      <td>1.000000</td>\n",
       "    </tr>\n",
       "    <tr>\n",
       "      <th>50%</th>\n",
       "      <td>3.800000e+03</td>\n",
       "      <td>1.000000</td>\n",
       "    </tr>\n",
       "    <tr>\n",
       "      <th>75%</th>\n",
       "      <td>6.500000e+03</td>\n",
       "      <td>1.000000</td>\n",
       "    </tr>\n",
       "    <tr>\n",
       "      <th>max</th>\n",
       "      <td>1.449000e+06</td>\n",
       "      <td>120.000000</td>\n",
       "    </tr>\n",
       "  </tbody>\n",
       "</table>\n",
       "</div>"
      ],
      "text/plain": [
       "               구매금액           구매수량\n",
       "count  7.357830e+05  735783.000000\n",
       "mean   5.677010e+03       1.153989\n",
       "std    8.650792e+03       0.762145\n",
       "min   -3.600000e+05    -120.000000\n",
       "25%    2.150000e+03       1.000000\n",
       "50%    3.800000e+03       1.000000\n",
       "75%    6.500000e+03       1.000000\n",
       "max    1.449000e+06     120.000000"
      ]
     },
     "execution_count": 15,
     "metadata": {},
     "output_type": "execute_result"
    }
   ],
   "source": [
    "# 2) df_product데이터의 '구매금액'과 '구매수량'의 기술통계량을 확인 \n",
    "\n",
    "df_product[['구매금액','구매수량']].describe()"
   ]
  },
  {
   "cell_type": "code",
   "execution_count": 16,
   "id": "e9bc4103",
   "metadata": {
    "scrolled": true
   },
   "outputs": [
    {
     "data": {
      "text/html": [
       "<div>\n",
       "<style scoped>\n",
       "    .dataframe tbody tr th:only-of-type {\n",
       "        vertical-align: middle;\n",
       "    }\n",
       "\n",
       "    .dataframe tbody tr th {\n",
       "        vertical-align: top;\n",
       "    }\n",
       "\n",
       "    .dataframe thead th {\n",
       "        text-align: right;\n",
       "    }\n",
       "</style>\n",
       "<table border=\"1\" class=\"dataframe\">\n",
       "  <thead>\n",
       "    <tr style=\"text-align: right;\">\n",
       "      <th></th>\n",
       "      <th>구매수량</th>\n",
       "    </tr>\n",
       "    <tr>\n",
       "      <th>물품대분류</th>\n",
       "      <th></th>\n",
       "    </tr>\n",
       "  </thead>\n",
       "  <tbody>\n",
       "    <tr>\n",
       "      <th>채소</th>\n",
       "      <td>210661.70</td>\n",
       "    </tr>\n",
       "    <tr>\n",
       "      <th>축산물</th>\n",
       "      <td>155188.75</td>\n",
       "    </tr>\n",
       "    <tr>\n",
       "      <th>간식</th>\n",
       "      <td>137427.30</td>\n",
       "    </tr>\n",
       "  </tbody>\n",
       "</table>\n",
       "</div>"
      ],
      "text/plain": [
       "            구매수량\n",
       "물품대분류           \n",
       "채소     210661.70\n",
       "축산물    155188.75\n",
       "간식     137427.30"
      ]
     },
     "execution_count": 16,
     "metadata": {},
     "output_type": "execute_result"
    }
   ],
   "source": [
    "# 3) df_product에서 '물품대분류'중 가장 많이 판매되는 3가지 항목을 확인\n",
    "#   (품목별 구매수량의 합이 높은 3개 확인) \n",
    "\n",
    "df_product.pivot_table(index='물품대분류',\n",
    "                       values='구매수량',\n",
    "                       aggfunc='sum').sort_values(by='구매수량',ascending=False).head(3)\n"
   ]
  },
  {
   "cell_type": "code",
   "execution_count": 17,
   "id": "80d5ac22",
   "metadata": {},
   "outputs": [
    {
     "data": {
      "text/html": [
       "<div>\n",
       "<style scoped>\n",
       "    .dataframe tbody tr th:only-of-type {\n",
       "        vertical-align: middle;\n",
       "    }\n",
       "\n",
       "    .dataframe tbody tr th {\n",
       "        vertical-align: top;\n",
       "    }\n",
       "\n",
       "    .dataframe thead tr th {\n",
       "        text-align: left;\n",
       "    }\n",
       "\n",
       "    .dataframe thead tr:last-of-type th {\n",
       "        text-align: right;\n",
       "    }\n",
       "</style>\n",
       "<table border=\"1\" class=\"dataframe\">\n",
       "  <thead>\n",
       "    <tr>\n",
       "      <th></th>\n",
       "      <th>mean</th>\n",
       "      <th>sum</th>\n",
       "    </tr>\n",
       "    <tr>\n",
       "      <th></th>\n",
       "      <th>구매금액</th>\n",
       "      <th>구매금액</th>\n",
       "    </tr>\n",
       "    <tr>\n",
       "      <th>구매매장</th>\n",
       "      <th></th>\n",
       "      <th></th>\n",
       "    </tr>\n",
       "  </thead>\n",
       "  <tbody>\n",
       "    <tr>\n",
       "      <th>매장1</th>\n",
       "      <td>4770.638426</td>\n",
       "      <td>363985400</td>\n",
       "    </tr>\n",
       "    <tr>\n",
       "      <th>매장2</th>\n",
       "      <td>4908.271082</td>\n",
       "      <td>461745602</td>\n",
       "    </tr>\n",
       "    <tr>\n",
       "      <th>매장3</th>\n",
       "      <td>4949.910326</td>\n",
       "      <td>916748142</td>\n",
       "    </tr>\n",
       "    <tr>\n",
       "      <th>매장4</th>\n",
       "      <td>5019.146844</td>\n",
       "      <td>419048570</td>\n",
       "    </tr>\n",
       "  </tbody>\n",
       "</table>\n",
       "</div>"
      ],
      "text/plain": [
       "             mean        sum\n",
       "             구매금액       구매금액\n",
       "구매매장                        \n",
       "매장1   4770.638426  363985400\n",
       "매장2   4908.271082  461745602\n",
       "매장3   4949.910326  916748142\n",
       "매장4   5019.146844  419048570"
      ]
     },
     "execution_count": 17,
     "metadata": {},
     "output_type": "execute_result"
    }
   ],
   "source": [
    "# 4) 앞서 확인한 3가지 항목을 추출하여 df1_product_top변수로 선언하고,\n",
    "#    df1_product_top에서 구매매장 별 구매금액의 합과 평균을 계산 \n",
    "\n",
    "cond1 = df_product['물품대분류'].isin(['간식','축산물','채소'])\n",
    "df1_product_top = df_product.loc[cond1]\n",
    "df1_product_top.pivot_table(index='구매매장',values='구매금액',\n",
    "                           aggfunc=['mean','sum'])\n"
   ]
  },
  {
   "cell_type": "code",
   "execution_count": 18,
   "id": "f36f061e",
   "metadata": {},
   "outputs": [],
   "source": [
    "# 5) 공급일자 데이터를 날짜형식으로 변환한 다음 연도/월/요일 을 새로운 파생변수로 선언하시오\n",
    "#    ( pd.to_datetime(   , format =%Y%m%d) )\n",
    "df_product['공급일자dt']= pd.to_datetime( df_product['공급일자'], format ='%Y%m%d')"
   ]
  },
  {
   "cell_type": "code",
   "execution_count": 19,
   "id": "6dcda54d",
   "metadata": {},
   "outputs": [],
   "source": [
    "df_product['연도']= df_product['공급일자dt'].dt.year\n",
    "df_product['월']= df_product['공급일자dt'].dt.month\n",
    "df_product['요일']= df_product['공급일자dt'].dt.day_name()\n"
   ]
  },
  {
   "cell_type": "code",
   "execution_count": 20,
   "id": "d2b1f436",
   "metadata": {},
   "outputs": [],
   "source": [
    "# 6) '월'에 따른 '물품대분류'별 '구매금액'의 합을 계산하여 result_p1.xlsx로 저장\n",
    "\n",
    "df_product.pivot_table(index='물품대분류',columns='월',values='구매금액',\n",
    "                       aggfunc='sum').to_excel('result_p1.xlsx')"
   ]
  },
  {
   "cell_type": "code",
   "execution_count": 21,
   "id": "bbb48309",
   "metadata": {},
   "outputs": [
    {
     "data": {
      "text/plain": [
       "RanksumsResult(statistic=3.0474877976155326, pvalue=0.002307628950574978)"
      ]
     },
     "execution_count": 21,
     "metadata": {},
     "output_type": "execute_result"
    }
   ],
   "source": [
    "# 7) '요일'데이터에서 토요일과 일요일의 구매금액의 평균의 차이가 있는지 가설검정을 수행\n",
    "\n",
    "cond1 = df_product['요일'].isin(['Sunday','Saturday'])\n",
    "\n",
    "# 7-1) 토요일과 일요일 데이터의 구매금액의 정규분포 검정\n",
    "stats.normaltest(df_product.loc[cond1]['구매금액'])\n",
    "# 해당 데이터의 분포는 정규성을 따르지 않는다.\n",
    "\n",
    "# 7-2) 정규성을 따르지 않는 상황에서 토요일과 일요일의 구매금액의 평균의 차이\n",
    "# 귀무가설 :  두 집단의 구매금액의 평균의 차이가 없다.\n",
    "# 대립가설 :  두 집단의 구매금액의 평균의 차이가 있다.\n",
    "cond1 = df_product['요일']=='Sunday'\n",
    "cond2 = df_product['요일']=='Saturday'\n",
    "df_product_sun = df_product.loc[cond1]\n",
    "df_product_sat = df_product.loc[cond2]\n",
    "stats.ranksums(df_product_sun['구매금액'], df_product_sat['구매금액'])\n",
    "# P.value < 0.05 (5%) / 대립가설 참 / 두 집단의 구매금액의 평균의 차이가 있다."
   ]
  },
  {
   "cell_type": "code",
   "execution_count": 22,
   "id": "dc3ca5ad",
   "metadata": {},
   "outputs": [
    {
     "name": "stdout",
     "output_type": "stream",
     "text": [
      "<class 'pandas.core.frame.DataFrame'>\n",
      "RangeIndex: 4396 entries, 0 to 4395\n",
      "Data columns (total 7 columns):\n",
      " #   Column  Non-Null Count  Dtype \n",
      "---  ------  --------------  ----- \n",
      " 0   회원번호    4396 non-null   int64 \n",
      " 1   회원상태    4396 non-null   object\n",
      " 2   성별      4396 non-null   object\n",
      " 3   결혼유무    3449 non-null   object\n",
      " 4   주소      4396 non-null   object\n",
      " 5   생년      4396 non-null   int64 \n",
      " 6   연령      4396 non-null   int64 \n",
      "dtypes: int64(3), object(4)\n",
      "memory usage: 240.5+ KB\n"
     ]
    }
   ],
   "source": [
    "# 8) df_member 데이터의 구조와 타입을 확인하고 결측값을 확인\n",
    "df_member.info()"
   ]
  },
  {
   "cell_type": "code",
   "execution_count": 23,
   "id": "be31a8cc",
   "metadata": {},
   "outputs": [
    {
     "data": {
      "text/html": [
       "<div>\n",
       "<style scoped>\n",
       "    .dataframe tbody tr th:only-of-type {\n",
       "        vertical-align: middle;\n",
       "    }\n",
       "\n",
       "    .dataframe tbody tr th {\n",
       "        vertical-align: top;\n",
       "    }\n",
       "\n",
       "    .dataframe thead th {\n",
       "        text-align: right;\n",
       "    }\n",
       "</style>\n",
       "<table border=\"1\" class=\"dataframe\">\n",
       "  <thead>\n",
       "    <tr style=\"text-align: right;\">\n",
       "      <th></th>\n",
       "      <th>회원번호</th>\n",
       "      <th>회원상태</th>\n",
       "      <th>성별</th>\n",
       "      <th>결혼유무</th>\n",
       "      <th>주소</th>\n",
       "      <th>생년</th>\n",
       "      <th>연령</th>\n",
       "      <th>연령_new</th>\n",
       "    </tr>\n",
       "  </thead>\n",
       "  <tbody>\n",
       "    <tr>\n",
       "      <th>0</th>\n",
       "      <td>2101</td>\n",
       "      <td>정상회원</td>\n",
       "      <td>여</td>\n",
       "      <td>기혼</td>\n",
       "      <td>서울 강북구 미아동 134-</td>\n",
       "      <td>1967</td>\n",
       "      <td>51</td>\n",
       "      <td>57.0</td>\n",
       "    </tr>\n",
       "    <tr>\n",
       "      <th>1</th>\n",
       "      <td>2102</td>\n",
       "      <td>정상회원</td>\n",
       "      <td>여</td>\n",
       "      <td>NaN</td>\n",
       "      <td>경기 용인시 수지구 동천동</td>\n",
       "      <td>1947</td>\n",
       "      <td>71</td>\n",
       "      <td>77.0</td>\n",
       "    </tr>\n",
       "    <tr>\n",
       "      <th>2</th>\n",
       "      <td>2103</td>\n",
       "      <td>정상회원</td>\n",
       "      <td>여</td>\n",
       "      <td>기혼</td>\n",
       "      <td>경기 용인시 수지구 동천동</td>\n",
       "      <td>1972</td>\n",
       "      <td>46</td>\n",
       "      <td>52.0</td>\n",
       "    </tr>\n",
       "    <tr>\n",
       "      <th>3</th>\n",
       "      <td>2104</td>\n",
       "      <td>정상회원</td>\n",
       "      <td>여</td>\n",
       "      <td>NaN</td>\n",
       "      <td>경기 용인시 수지구 성복동</td>\n",
       "      <td>1969</td>\n",
       "      <td>49</td>\n",
       "      <td>55.0</td>\n",
       "    </tr>\n",
       "    <tr>\n",
       "      <th>4</th>\n",
       "      <td>2105</td>\n",
       "      <td>정상회원</td>\n",
       "      <td>여</td>\n",
       "      <td>기혼</td>\n",
       "      <td>경기 용인시 수지구 동천동</td>\n",
       "      <td>1948</td>\n",
       "      <td>70</td>\n",
       "      <td>76.0</td>\n",
       "    </tr>\n",
       "    <tr>\n",
       "      <th>...</th>\n",
       "      <td>...</td>\n",
       "      <td>...</td>\n",
       "      <td>...</td>\n",
       "      <td>...</td>\n",
       "      <td>...</td>\n",
       "      <td>...</td>\n",
       "      <td>...</td>\n",
       "      <td>...</td>\n",
       "    </tr>\n",
       "    <tr>\n",
       "      <th>4391</th>\n",
       "      <td>6492</td>\n",
       "      <td>정상회원</td>\n",
       "      <td>여</td>\n",
       "      <td>미혼</td>\n",
       "      <td>경기 성남시 분당구 판교동</td>\n",
       "      <td>1963</td>\n",
       "      <td>55</td>\n",
       "      <td>NaN</td>\n",
       "    </tr>\n",
       "    <tr>\n",
       "      <th>4392</th>\n",
       "      <td>6493</td>\n",
       "      <td>정상회원</td>\n",
       "      <td>여</td>\n",
       "      <td>기혼</td>\n",
       "      <td>서울 관악구 행운동 1681</td>\n",
       "      <td>1982</td>\n",
       "      <td>36</td>\n",
       "      <td>NaN</td>\n",
       "    </tr>\n",
       "    <tr>\n",
       "      <th>4393</th>\n",
       "      <td>6494</td>\n",
       "      <td>정상회원</td>\n",
       "      <td>남</td>\n",
       "      <td>기혼</td>\n",
       "      <td>경기 성남시 분당구 백현동</td>\n",
       "      <td>1975</td>\n",
       "      <td>43</td>\n",
       "      <td>NaN</td>\n",
       "    </tr>\n",
       "    <tr>\n",
       "      <th>4394</th>\n",
       "      <td>6495</td>\n",
       "      <td>정상회원</td>\n",
       "      <td>여</td>\n",
       "      <td>기혼</td>\n",
       "      <td>서울 용산구 한남동 737-</td>\n",
       "      <td>1961</td>\n",
       "      <td>57</td>\n",
       "      <td>NaN</td>\n",
       "    </tr>\n",
       "    <tr>\n",
       "      <th>4395</th>\n",
       "      <td>6496</td>\n",
       "      <td>정상회원</td>\n",
       "      <td>여</td>\n",
       "      <td>미혼</td>\n",
       "      <td>경기 수원시 영통구 이의동</td>\n",
       "      <td>1971</td>\n",
       "      <td>47</td>\n",
       "      <td>NaN</td>\n",
       "    </tr>\n",
       "  </tbody>\n",
       "</table>\n",
       "<p>4396 rows × 8 columns</p>\n",
       "</div>"
      ],
      "text/plain": [
       "      회원번호  회원상태 성별 결혼유무               주소    생년  연령  연령_new\n",
       "0     2101  정상회원  여   기혼  서울 강북구 미아동 134-  1967  51    57.0\n",
       "1     2102  정상회원  여  NaN   경기 용인시 수지구 동천동  1947  71    77.0\n",
       "2     2103  정상회원  여   기혼   경기 용인시 수지구 동천동  1972  46    52.0\n",
       "3     2104  정상회원  여  NaN   경기 용인시 수지구 성복동  1969  49    55.0\n",
       "4     2105  정상회원  여   기혼   경기 용인시 수지구 동천동  1948  70    76.0\n",
       "...    ...   ... ..  ...              ...   ...  ..     ...\n",
       "4391  6492  정상회원  여   미혼   경기 성남시 분당구 판교동  1963  55     NaN\n",
       "4392  6493  정상회원  여   기혼  서울 관악구 행운동 1681  1982  36     NaN\n",
       "4393  6494  정상회원  남   기혼   경기 성남시 분당구 백현동  1975  43     NaN\n",
       "4394  6495  정상회원  여   기혼  서울 용산구 한남동 737-  1961  57     NaN\n",
       "4395  6496  정상회원  여   미혼   경기 수원시 영통구 이의동  1971  47     NaN\n",
       "\n",
       "[4396 rows x 8 columns]"
      ]
     },
     "execution_count": 23,
     "metadata": {},
     "output_type": "execute_result"
    }
   ],
   "source": [
    "# 9) '생년'데이터를 이용해 2023년 기준 나이를 재계산하여 '연령_new'로 선언 \n",
    "\n",
    "df_member['연령_new'] = 2023 - df_member3['생년'] +1\n",
    "df_member"
   ]
  },
  {
   "cell_type": "code",
   "execution_count": 24,
   "id": "c8d758da",
   "metadata": {},
   "outputs": [
    {
     "data": {
      "text/html": [
       "<div>\n",
       "<style scoped>\n",
       "    .dataframe tbody tr th:only-of-type {\n",
       "        vertical-align: middle;\n",
       "    }\n",
       "\n",
       "    .dataframe tbody tr th {\n",
       "        vertical-align: top;\n",
       "    }\n",
       "\n",
       "    .dataframe thead th {\n",
       "        text-align: right;\n",
       "    }\n",
       "</style>\n",
       "<table border=\"1\" class=\"dataframe\">\n",
       "  <thead>\n",
       "    <tr style=\"text-align: right;\">\n",
       "      <th></th>\n",
       "      <th>회원번호</th>\n",
       "      <th>회원상태</th>\n",
       "      <th>성별</th>\n",
       "      <th>결혼유무</th>\n",
       "      <th>주소</th>\n",
       "      <th>생년</th>\n",
       "      <th>연령</th>\n",
       "      <th>구매금액</th>\n",
       "      <th>구매수량</th>\n",
       "      <th>방문횟수</th>\n",
       "      <th>1회방문구매평균</th>\n",
       "      <th>고객등급</th>\n",
       "    </tr>\n",
       "  </thead>\n",
       "  <tbody>\n",
       "    <tr>\n",
       "      <th>3670</th>\n",
       "      <td>5882</td>\n",
       "      <td>정상회원</td>\n",
       "      <td>남</td>\n",
       "      <td>미혼</td>\n",
       "      <td>경기 용인시 수지구 풍덕천2</td>\n",
       "      <td>1995</td>\n",
       "      <td>29</td>\n",
       "      <td>7100</td>\n",
       "      <td>1.0</td>\n",
       "      <td>1</td>\n",
       "      <td>7100.0</td>\n",
       "      <td>D</td>\n",
       "    </tr>\n",
       "    <tr>\n",
       "      <th>4108</th>\n",
       "      <td>6320</td>\n",
       "      <td>탈퇴</td>\n",
       "      <td>남</td>\n",
       "      <td>기혼</td>\n",
       "      <td>경기 성남시 수정구 복정동</td>\n",
       "      <td>1995</td>\n",
       "      <td>29</td>\n",
       "      <td>0</td>\n",
       "      <td>0.0</td>\n",
       "      <td>1</td>\n",
       "      <td>0.0</td>\n",
       "      <td>D</td>\n",
       "    </tr>\n",
       "  </tbody>\n",
       "</table>\n",
       "</div>"
      ],
      "text/plain": [
       "      회원번호  회원상태 성별 결혼유무               주소    생년  연령  구매금액  구매수량  방문횟수  \\\n",
       "3670  5882  정상회원  남   미혼  경기 용인시 수지구 풍덕천2  1995  29  7100   1.0     1   \n",
       "4108  6320    탈퇴  남   기혼   경기 성남시 수정구 복정동  1995  29     0   0.0     1   \n",
       "\n",
       "      1회방문구매평균 고객등급  \n",
       "3670    7100.0    D  \n",
       "4108       0.0    D  "
      ]
     },
     "execution_count": 24,
     "metadata": {},
     "output_type": "execute_result"
    }
   ],
   "source": [
    "# 10) '연령_new'를 이용해 '연령대'새로운 파생변수를 계산 (10대 /20대 /30대...)\n",
    "df_member3['연령'] = 2023 - df_member3['생년']+1\n",
    "cond1 = (df_member3['연령']<30)\n",
    "df_member3.loc[cond1]"
   ]
  },
  {
   "cell_type": "code",
   "execution_count": 25,
   "id": "81c7733f",
   "metadata": {},
   "outputs": [
    {
     "data": {
      "text/plain": [
       "40대    1256\n",
       "50대    1200\n",
       "60대     839\n",
       "70대     525\n",
       "80대     227\n",
       "30대     199\n",
       "n0대     111\n",
       "90대      34\n",
       "10대       3\n",
       "20대       2\n",
       "Name: 연령대, dtype: int64"
      ]
     },
     "execution_count": 25,
     "metadata": {},
     "output_type": "execute_result"
    }
   ],
   "source": [
    "def func1(row):\n",
    "    return str(row)[0] +'0대'\n",
    "\n",
    "df_member['연령대'] = df_member['연령_new'].apply(func1)\n",
    "df_member['연령대'].value_counts()"
   ]
  },
  {
   "cell_type": "code",
   "execution_count": 26,
   "id": "c3243a9e",
   "metadata": {},
   "outputs": [
    {
     "data": {
      "text/plain": [
       "0       50대\n",
       "1       70대\n",
       "2       50대\n",
       "3       50대\n",
       "4       70대\n",
       "       ... \n",
       "4391    n0대\n",
       "4392    n0대\n",
       "4393    n0대\n",
       "4394    n0대\n",
       "4395    n0대\n",
       "Name: 연령대, Length: 4396, dtype: object"
      ]
     },
     "execution_count": 26,
     "metadata": {},
     "output_type": "execute_result"
    }
   ],
   "source": [
    "def func1(row):\n",
    "    return str(row)[0] +'0대'\n",
    "\n",
    "df_member['연령대'] = df_member['연령_new'].apply(func1)\n",
    "# replace() : 기존의 값을 새로운 값으로 변경\n",
    "df_member['연령대'].replace('10대','90대이상').replace('90대','90대이상')\n",
    "df_member['연령대'].replace({'10대':'90대이상','90대':'90대이상'})"
   ]
  },
  {
   "cell_type": "markdown",
   "id": "38c965a6",
   "metadata": {},
   "source": [
    " * df_member3 데이터를 이용해 매출과 고객 특성에 대한 분석을 하고자 한다 "
   ]
  },
  {
   "cell_type": "markdown",
   "id": "4c753e4a",
   "metadata": {},
   "source": [
    "11) '결혼유무'에서 '기혼'에 해당하는 고객들 중,\n",
    "    '방문횟수'가 높은 상위 30명의 고객 명단을 추출하여 'result_member.xlsx'로 저장 "
   ]
  },
  {
   "cell_type": "code",
   "execution_count": 27,
   "id": "623c7a15",
   "metadata": {
    "scrolled": true
   },
   "outputs": [],
   "source": [
    "#df_member3['결혼유무'] == '기혼'\n",
    "#df1.loc[a].sort_values(by='기혼').head(30).to_excel('result_member.xlsx')\n",
    "\n",
    "cond1 = (df_member3['결혼유무']=='기혼')\n",
    "df_member3.loc[cond1].sort_values(by='방문횟수', \n",
    "                    ascending=False).head(30).to_excel('result_member.xlsx')"
   ]
  },
  {
   "cell_type": "markdown",
   "id": "fcb840ef",
   "metadata": {},
   "source": [
    "12) '구매금액'의 합이 가장 높은 2개 연령대를 확인하여,\n",
    "두 연령대 간 '방문횟수'의 평균의 차이가 있는지 가설검정을 수행\n"
   ]
  },
  {
   "cell_type": "code",
   "execution_count": 28,
   "id": "70c53fcd",
   "metadata": {},
   "outputs": [],
   "source": [
    "df_member3['연령_new'] = 2023 - df_member3['생년'] +1"
   ]
  },
  {
   "cell_type": "code",
   "execution_count": 29,
   "id": "84f14fac",
   "metadata": {
    "collapsed": true
   },
   "outputs": [
    {
     "data": {
      "text/html": [
       "<div>\n",
       "<style scoped>\n",
       "    .dataframe tbody tr th:only-of-type {\n",
       "        vertical-align: middle;\n",
       "    }\n",
       "\n",
       "    .dataframe tbody tr th {\n",
       "        vertical-align: top;\n",
       "    }\n",
       "\n",
       "    .dataframe thead th {\n",
       "        text-align: right;\n",
       "    }\n",
       "</style>\n",
       "<table border=\"1\" class=\"dataframe\">\n",
       "  <thead>\n",
       "    <tr style=\"text-align: right;\">\n",
       "      <th></th>\n",
       "      <th>구매금액</th>\n",
       "    </tr>\n",
       "    <tr>\n",
       "      <th>연령대</th>\n",
       "      <th></th>\n",
       "    </tr>\n",
       "  </thead>\n",
       "  <tbody>\n",
       "    <tr>\n",
       "      <th>10대</th>\n",
       "      <td>5490030</td>\n",
       "    </tr>\n",
       "    <tr>\n",
       "      <th>20대</th>\n",
       "      <td>7100</td>\n",
       "    </tr>\n",
       "    <tr>\n",
       "      <th>30대</th>\n",
       "      <td>74853085</td>\n",
       "    </tr>\n",
       "    <tr>\n",
       "      <th>40대</th>\n",
       "      <td>1154840902</td>\n",
       "    </tr>\n",
       "    <tr>\n",
       "      <th>50대</th>\n",
       "      <td>1592537145</td>\n",
       "    </tr>\n",
       "    <tr>\n",
       "      <th>60대</th>\n",
       "      <td>714931621</td>\n",
       "    </tr>\n",
       "    <tr>\n",
       "      <th>70대</th>\n",
       "      <td>467509445</td>\n",
       "    </tr>\n",
       "    <tr>\n",
       "      <th>80대</th>\n",
       "      <td>149850385</td>\n",
       "    </tr>\n",
       "    <tr>\n",
       "      <th>90대</th>\n",
       "      <td>16864275</td>\n",
       "    </tr>\n",
       "  </tbody>\n",
       "</table>\n",
       "</div>"
      ],
      "text/plain": [
       "           구매금액\n",
       "연령대            \n",
       "10대     5490030\n",
       "20대        7100\n",
       "30대    74853085\n",
       "40대  1154840902\n",
       "50대  1592537145\n",
       "60대   714931621\n",
       "70대   467509445\n",
       "80대   149850385\n",
       "90대    16864275"
      ]
     },
     "execution_count": 29,
     "metadata": {},
     "output_type": "execute_result"
    }
   ],
   "source": [
    "df_member3['연령대'] = df_member3['연령_new'].apply(func1)\n",
    "df_member3.pivot_table(index='연령대',values='구매금액',aggfunc='sum')"
   ]
  },
  {
   "cell_type": "code",
   "execution_count": 30,
   "id": "49bba338",
   "metadata": {},
   "outputs": [
    {
     "data": {
      "text/plain": [
       "NormaltestResult(statistic=1041.5350436189851, pvalue=6.816146618022918e-227)"
      ]
     },
     "execution_count": 30,
     "metadata": {},
     "output_type": "execute_result"
    }
   ],
   "source": [
    "cond1 = df_member3['연령대'].isin(['40대','50대'])\n",
    "# 12-1) 40,50대 고객명단의 방문횟수 데이터가 정규성을 따르는가? \n",
    "stats.normaltest(df_member3.loc[cond1]['방문횟수'])\n",
    "# P.value < 0.05 / 대립가설 참 / 정규분포를 띄지 않는다"
   ]
  },
  {
   "cell_type": "code",
   "execution_count": 31,
   "id": "6f33b154",
   "metadata": {},
   "outputs": [
    {
     "data": {
      "text/plain": [
       "RanksumsResult(statistic=-1.5356357164914587, pvalue=0.12462774925460733)"
      ]
     },
     "execution_count": 31,
     "metadata": {},
     "output_type": "execute_result"
    }
   ],
   "source": [
    "# 12-2 ) \n",
    "# 귀무가설 : 40대와 50대의 방문횟수의 평균의 차이가 없다. \n",
    "# 대립가설 : 40대와 50대의 방문횟수의 평균의 차이가 있다.\n",
    "cond1 = (df_member3['연령대']=='40대')\n",
    "cond2 = (df_member3['연령대']=='50대')\n",
    "df_member3_40 = df_member3.loc[cond1]\n",
    "df_member3_50 = df_member3.loc[cond2]\n",
    "stats.ranksums(df_member3_40['방문횟수'], df_member3_50['방문횟수'])\n",
    "# P.value > 0.05 / 귀무가설 참 / 40대와 50대의 방문횟수의 평균의 차이가 없다."
   ]
  },
  {
   "cell_type": "code",
   "execution_count": 32,
   "id": "d3cc6d5e",
   "metadata": {},
   "outputs": [
    {
     "data": {
      "text/plain": [
       "<AxesSubplot:xlabel='성별', ylabel='구매금액'>"
      ]
     },
     "execution_count": 32,
     "metadata": {},
     "output_type": "execute_result"
    },
    {
     "data": {
      "image/png": "[encoded data removed]",
      "text/plain": [
       "<Figure size 640x480 with 1 Axes>"
      ]
     },
     "metadata": {},
     "output_type": "display_data"
    }
   ],
   "source": [
    "# 13) '성별' 별 '구매금액'에 대한 평균을 시각화 하시오. \n",
    "sns.barplot(data=df_member3, x='성별', y='구매금액',ci=None)\n"
   ]
  },
  {
   "cell_type": "code",
   "execution_count": 33,
   "id": "6464eec0",
   "metadata": {},
   "outputs": [
    {
     "data": {
      "text/plain": [
       "(40, 25)"
      ]
     },
     "execution_count": 33,
     "metadata": {},
     "output_type": "execute_result"
    }
   ],
   "source": [
    "# 데이터 재구조화\n",
    "df1 = pd.read_excel('04_Data.xlsx', skiprows=1)\n",
    "df1.shape"
   ]
  },
  {
   "cell_type": "code",
   "execution_count": 34,
   "id": "78cbf893",
   "metadata": {},
   "outputs": [
    {
     "data": {
      "text/plain": [
       "Index([                   '구분',                 '카테고리명',\n",
       "                        '자재그룹',                 '자재그룹명',\n",
       "                         '제품명',                    '단위',\n",
       "                          '판매',     2019-12-01 00:00:00,\n",
       "           2020-10-01 00:00:00,     2020-11-01 00:00:00,\n",
       "           2020-12-01 00:00:00, '2019-12-01 00:00:00.1',\n",
       "       '2020-10-01 00:00:00.1', '2020-11-01 00:00:00.1',\n",
       "       '2020-12-01 00:00:00.1', '2019-12-01 00:00:00.2',\n",
       "       '2020-10-01 00:00:00.2', '2020-11-01 00:00:00.2',\n",
       "       '2020-12-01 00:00:00.2', '2019-12-01 00:00:00.3',\n",
       "       '2020-10-01 00:00:00.3', '2020-11-01 00:00:00.3',\n",
       "       '2020-12-01 00:00:00.3',                  '안전재고',\n",
       "                         ' 분류'],\n",
       "      dtype='object')"
      ]
     },
     "execution_count": 34,
     "metadata": {},
     "output_type": "execute_result"
    }
   ],
   "source": [
    "df1.columns"
   ]
  },
  {
   "cell_type": "code",
   "execution_count": 35,
   "id": "c1dd6f0c",
   "metadata": {},
   "outputs": [
    {
     "name": "stderr",
     "output_type": "stream",
     "text": [
      "C:\\Users\\DMCCONET\\AppData\\Local\\Temp\\ipykernel_11800\\201868727.py:2: FutureWarning: Inferring datetime64[ns] from data containing strings is deprecated and will be removed in a future version. To retain the old behavior explicitly pass Series(data, dtype=datetime64[ns])\n",
      "  df2 = df1.melt(id_vars=['구분','카테고리명','자재그룹','자재그룹명',\n"
     ]
    }
   ],
   "source": [
    "# 재구조화 Reshape\n",
    "df2 = df1.melt(id_vars=['구분','카테고리명','자재그룹','자재그룹명',\n",
    "                  '제품명','단위','판매','안전재고',' 분류'])\n",
    "# 항목명을 변경\n",
    "df3 = df2.rename(columns={'variable':'날짜', 'value':'판매금액',' 분류':'분류'})"
   ]
  },
  {
   "cell_type": "code",
   "execution_count": 36,
   "id": "e4c6a213",
   "metadata": {},
   "outputs": [
    {
     "data": {
      "text/plain": [
       "구분       0\n",
       "카테고리명    0\n",
       "자재그룹     0\n",
       "자재그룹명    0\n",
       "제품명      0\n",
       "단위       0\n",
       "판매       0\n",
       "안전재고     0\n",
       "분류       0\n",
       "날짜       0\n",
       "판매금액     0\n",
       "dtype: int64"
      ]
     },
     "execution_count": 36,
     "metadata": {},
     "output_type": "execute_result"
    }
   ],
   "source": [
    "df3.isnull().sum()"
   ]
  },
  {
   "cell_type": "code",
   "execution_count": 37,
   "id": "47318217",
   "metadata": {},
   "outputs": [
    {
     "data": {
      "text/plain": [
       "(640, 11)"
      ]
     },
     "execution_count": 37,
     "metadata": {},
     "output_type": "execute_result"
    }
   ],
   "source": [
    "df3.shape"
   ]
  },
  {
   "cell_type": "code",
   "execution_count": 38,
   "id": "76f732aa",
   "metadata": {},
   "outputs": [
    {
     "data": {
      "text/plain": [
       "2020    480\n",
       "2019    160\n",
       "Name: 공급연도, dtype: int64"
      ]
     },
     "execution_count": 38,
     "metadata": {},
     "output_type": "execute_result"
    }
   ],
   "source": [
    "df3['공급연도'] = df3['날짜'].dt.year\n",
    "df3['공급연도'].value_counts()"
   ]
  },
  {
   "cell_type": "code",
   "execution_count": 39,
   "id": "d101849f",
   "metadata": {},
   "outputs": [
    {
     "data": {
      "text/html": [
       "<div>\n",
       "<style scoped>\n",
       "    .dataframe tbody tr th:only-of-type {\n",
       "        vertical-align: middle;\n",
       "    }\n",
       "\n",
       "    .dataframe tbody tr th {\n",
       "        vertical-align: top;\n",
       "    }\n",
       "\n",
       "    .dataframe thead th {\n",
       "        text-align: right;\n",
       "    }\n",
       "</style>\n",
       "<table border=\"1\" class=\"dataframe\">\n",
       "  <thead>\n",
       "    <tr style=\"text-align: right;\">\n",
       "      <th>공급연도</th>\n",
       "      <th>분류</th>\n",
       "      <th>2019</th>\n",
       "      <th>2020</th>\n",
       "      <th>증감율</th>\n",
       "    </tr>\n",
       "  </thead>\n",
       "  <tbody>\n",
       "    <tr>\n",
       "      <th>0</th>\n",
       "      <td>A</td>\n",
       "      <td>356379.4</td>\n",
       "      <td>1448912.0</td>\n",
       "      <td>3.065645</td>\n",
       "    </tr>\n",
       "    <tr>\n",
       "      <th>1</th>\n",
       "      <td>B</td>\n",
       "      <td>20564.1</td>\n",
       "      <td>120.0</td>\n",
       "      <td>-0.994165</td>\n",
       "    </tr>\n",
       "    <tr>\n",
       "      <th>2</th>\n",
       "      <td>E</td>\n",
       "      <td>27600.5</td>\n",
       "      <td>25506.2</td>\n",
       "      <td>-0.075879</td>\n",
       "    </tr>\n",
       "    <tr>\n",
       "      <th>3</th>\n",
       "      <td>F</td>\n",
       "      <td>19498.5</td>\n",
       "      <td>113960.6</td>\n",
       "      <td>4.844583</td>\n",
       "    </tr>\n",
       "    <tr>\n",
       "      <th>4</th>\n",
       "      <td>G</td>\n",
       "      <td>1039.0</td>\n",
       "      <td>25810.2</td>\n",
       "      <td>23.841386</td>\n",
       "    </tr>\n",
       "    <tr>\n",
       "      <th>5</th>\n",
       "      <td>H</td>\n",
       "      <td>0.0</td>\n",
       "      <td>52900.4</td>\n",
       "      <td>inf</td>\n",
       "    </tr>\n",
       "    <tr>\n",
       "      <th>6</th>\n",
       "      <td>K</td>\n",
       "      <td>88588.6</td>\n",
       "      <td>105500.9</td>\n",
       "      <td>0.190908</td>\n",
       "    </tr>\n",
       "    <tr>\n",
       "      <th>7</th>\n",
       "      <td>L</td>\n",
       "      <td>0.0</td>\n",
       "      <td>107632.8</td>\n",
       "      <td>inf</td>\n",
       "    </tr>\n",
       "    <tr>\n",
       "      <th>8</th>\n",
       "      <td>M</td>\n",
       "      <td>143063.8</td>\n",
       "      <td>296561.9</td>\n",
       "      <td>1.072935</td>\n",
       "    </tr>\n",
       "  </tbody>\n",
       "</table>\n",
       "</div>"
      ],
      "text/plain": [
       "공급연도 분류      2019       2020        증감율\n",
       "0     A  356379.4  1448912.0   3.065645\n",
       "1     B   20564.1      120.0  -0.994165\n",
       "2     E   27600.5    25506.2  -0.075879\n",
       "3     F   19498.5   113960.6   4.844583\n",
       "4     G    1039.0    25810.2  23.841386\n",
       "5     H       0.0    52900.4        inf\n",
       "6     K   88588.6   105500.9   0.190908\n",
       "7     L       0.0   107632.8        inf\n",
       "8     M  143063.8   296561.9   1.072935"
      ]
     },
     "execution_count": 39,
     "metadata": {},
     "output_type": "execute_result"
    }
   ],
   "source": [
    "# 분류별 19년도 대비 20년도의 판매금액을 증감 확인\n",
    "p1 = df3.pivot_table(index='분류',columns='공급연도',\n",
    "                values='판매금액',aggfunc='sum').reset_index()\n",
    "p1['증감율'] = (p1[2020]-p1[2019])/p1[2019]\n",
    "p1"
   ]
  },
  {
   "cell_type": "markdown",
   "id": "755d3d9f",
   "metadata": {},
   "source": [
    "# Mission 5.\n",
    "\n",
    "- df3 데이터를 이용해 아래와 같은 분석을 실시하고자 한다.\n",
    "1) df3 데이터 연속형 자료의 기술 통계량을 확인\n",
    "2) '판매금액'이 상위 75% 이상인 데이터를 A / 이하인 데이터를 B로 '판매구분'이라는 새로운 파생변수를 생성\n",
    "3) df3 '날짜'데이터를 이용해 월 / 요일 데이터 추출\n",
    "4) '분류'에서 A에 해당하는 제품을 뽑아 '판매금액'의 평균과 중앙값의 차이를 계산\n",
    "5) '분류'에 따른 '판매금액'이 가장 높은 '제품명' 2가지 제품의 '판매금액'의 평균의 차이가 있는지 가설검정을 수행\n",
    "6) df3 데이터에서 '판매금액'이 가장 높은 '제품명' 2가지 제품의 '판매금액'의 평균의 차이가 있는지 가설검정을 수행\n",
    "\n",
    "- 블로그 03_Data.csv 파일을 다운로드 받아 df4로 선언하여 아래의 과제를 수행\n",
    "7) df4 데이터의 데이터의 구조와 타입을 확인\n",
    "8) df4 데이터의 범주형 데이터의 요약통계량을 계산\n",
    "9) df4 데이터의 '프로그램'항목의 종류와 빈도수를 확인\n",
    "10) df4 데이터의 '채널'별 '최종결제금액'의 합을 계산\n",
    "11) df4 데이터의 '결제시각'데이터를 이용해 '결제일자'와 '결제시간'(날짜와 시간을 분리 (apply 함수 활용)\n",
    "12) 'facebook'으로 유입된 고객들과 'naver'로 유입된 고객들의 '최종결제금액'평균의 차이가 있는자ㅣ 시각화 하고 가설검정을 수행\n",
    "13) 'facebook'으로 유입된 고객들 중 '최종결제금액'이 가장 높은 상위 10명의 명단을 뽑아 result1_facebook.xlsx로 저장"
   ]
  },
  {
   "cell_type": "markdown",
   "id": "4e0969c4",
   "metadata": {},
   "source": [
    "1) df3 데이터를 이용해 아래와 같은 분석을 실시하고자 한다.\n",
    "   df3 데이터 연속형 자료의 기술 통계량을 확인\n"
   ]
  },
  {
   "cell_type": "code",
   "execution_count": 40,
   "id": "ab486bb9",
   "metadata": {},
   "outputs": [
    {
     "data": {
      "text/html": [
       "<div>\n",
       "<style scoped>\n",
       "    .dataframe tbody tr th:only-of-type {\n",
       "        vertical-align: middle;\n",
       "    }\n",
       "\n",
       "    .dataframe tbody tr th {\n",
       "        vertical-align: top;\n",
       "    }\n",
       "\n",
       "    .dataframe thead th {\n",
       "        text-align: right;\n",
       "    }\n",
       "</style>\n",
       "<table border=\"1\" class=\"dataframe\">\n",
       "  <thead>\n",
       "    <tr style=\"text-align: right;\">\n",
       "      <th></th>\n",
       "      <th>자재그룹</th>\n",
       "      <th>판매</th>\n",
       "      <th>안전재고</th>\n",
       "      <th>판매금액</th>\n",
       "      <th>공급연도</th>\n",
       "    </tr>\n",
       "  </thead>\n",
       "  <tbody>\n",
       "    <tr>\n",
       "      <th>count</th>\n",
       "      <td>640.0</td>\n",
       "      <td>640.000000</td>\n",
       "      <td>640.000000</td>\n",
       "      <td>640.000000</td>\n",
       "      <td>640.000000</td>\n",
       "    </tr>\n",
       "    <tr>\n",
       "      <th>mean</th>\n",
       "      <td>1687.0</td>\n",
       "      <td>14025.460000</td>\n",
       "      <td>2162.180000</td>\n",
       "      <td>4427.560781</td>\n",
       "      <td>2019.750000</td>\n",
       "    </tr>\n",
       "    <tr>\n",
       "      <th>std</th>\n",
       "      <td>0.0</td>\n",
       "      <td>40176.636238</td>\n",
       "      <td>9467.402429</td>\n",
       "      <td>11714.434732</td>\n",
       "      <td>0.433351</td>\n",
       "    </tr>\n",
       "    <tr>\n",
       "      <th>min</th>\n",
       "      <td>1687.0</td>\n",
       "      <td>0.000000</td>\n",
       "      <td>0.000000</td>\n",
       "      <td>0.000000</td>\n",
       "      <td>2019.000000</td>\n",
       "    </tr>\n",
       "    <tr>\n",
       "      <th>25%</th>\n",
       "      <td>1687.0</td>\n",
       "      <td>0.000000</td>\n",
       "      <td>0.000000</td>\n",
       "      <td>0.000000</td>\n",
       "      <td>2019.750000</td>\n",
       "    </tr>\n",
       "    <tr>\n",
       "      <th>50%</th>\n",
       "      <td>1687.0</td>\n",
       "      <td>438.150000</td>\n",
       "      <td>0.000000</td>\n",
       "      <td>0.000000</td>\n",
       "      <td>2020.000000</td>\n",
       "    </tr>\n",
       "    <tr>\n",
       "      <th>75%</th>\n",
       "      <td>1687.0</td>\n",
       "      <td>9258.275000</td>\n",
       "      <td>0.000000</td>\n",
       "      <td>492.425000</td>\n",
       "      <td>2020.000000</td>\n",
       "    </tr>\n",
       "    <tr>\n",
       "      <th>max</th>\n",
       "      <td>1687.0</td>\n",
       "      <td>234603.900000</td>\n",
       "      <td>46893.900000</td>\n",
       "      <td>84967.200000</td>\n",
       "      <td>2020.000000</td>\n",
       "    </tr>\n",
       "  </tbody>\n",
       "</table>\n",
       "</div>"
      ],
      "text/plain": [
       "         자재그룹             판매          안전재고          판매금액         공급연도\n",
       "count   640.0     640.000000    640.000000    640.000000   640.000000\n",
       "mean   1687.0   14025.460000   2162.180000   4427.560781  2019.750000\n",
       "std       0.0   40176.636238   9467.402429  11714.434732     0.433351\n",
       "min    1687.0       0.000000      0.000000      0.000000  2019.000000\n",
       "25%    1687.0       0.000000      0.000000      0.000000  2019.750000\n",
       "50%    1687.0     438.150000      0.000000      0.000000  2020.000000\n",
       "75%    1687.0    9258.275000      0.000000    492.425000  2020.000000\n",
       "max    1687.0  234603.900000  46893.900000  84967.200000  2020.000000"
      ]
     },
     "execution_count": 40,
     "metadata": {},
     "output_type": "execute_result"
    }
   ],
   "source": [
    "df3.describe()"
   ]
  },
  {
   "cell_type": "markdown",
   "id": "4c9f892f",
   "metadata": {},
   "source": [
    "2) '판매금액'이 상위 75% 이상인 데이터를 A\n",
    "    이하인 데이터를 B로 '판매구분'이라는 새로운 파생변수를 생성\n"
   ]
  },
  {
   "cell_type": "code",
   "execution_count": 41,
   "id": "9b5e531c",
   "metadata": {},
   "outputs": [],
   "source": [
    "cond1 = df3['판매금액']>=df3['판매금액'].quantile(0.75)\n",
    "df3.loc[cond1,'판매구분']='A'\n",
    "df3.loc[~cond1,'판매구분']='B'"
   ]
  },
  {
   "cell_type": "code",
   "execution_count": 42,
   "id": "3cc87dae",
   "metadata": {},
   "outputs": [
    {
     "data": {
      "text/plain": [
       "B    480\n",
       "A    160\n",
       "Name: 판매구분, dtype: int64"
      ]
     },
     "execution_count": 42,
     "metadata": {},
     "output_type": "execute_result"
    }
   ],
   "source": [
    "df3['판매구분'].value_counts()"
   ]
  },
  {
   "cell_type": "markdown",
   "id": "062e5191",
   "metadata": {},
   "source": [
    "3) df3 '날짜'데이터를 이용해 월 / 요일 데이터 추출"
   ]
  },
  {
   "cell_type": "code",
   "execution_count": 43,
   "id": "03867e69",
   "metadata": {},
   "outputs": [],
   "source": [
    "df3['날짜_dt']=pd.to_datetime(df3['날짜'])\n",
    "df3['월']=df3['날짜_dt'].dt.month\n",
    "df3['요일']=df3['날짜_dt'].dt.day_name()"
   ]
  },
  {
   "cell_type": "markdown",
   "id": "8811a290",
   "metadata": {},
   "source": [
    "4) '분류'에서 A에 해당하는 제품을 뽑아 '판매금액'의 평균과 중앙값의 차이를 계산"
   ]
  },
  {
   "cell_type": "code",
   "execution_count": 44,
   "id": "9f034673",
   "metadata": {},
   "outputs": [
    {
     "data": {
      "text/plain": [
       "10151.6875"
      ]
     },
     "execution_count": 44,
     "metadata": {},
     "output_type": "execute_result"
    }
   ],
   "source": [
    "cond1 = (df3['분류']=='A')\n",
    "df3_a = df3.loc[cond1]\n",
    "df3_a['판매금액'].mean() - df3_a['판매금액'].median()"
   ]
  },
  {
   "cell_type": "markdown",
   "id": "ad0cb780",
   "metadata": {},
   "source": [
    "5) '분류'에 따른 '판매금액'이 가장 높은 '제품명' 2가지 제품의 '판매금액'의 평균의 차이가 있는지 가설검정을 수행\n",
    "# * '범주'별,'연속'의 통계량 계산 (~에 따른)"
   ]
  },
  {
   "cell_type": "code",
   "execution_count": 1,
   "id": "e2694c3c",
   "metadata": {
    "collapsed": true
   },
   "outputs": [
    {
     "ename": "NameError",
     "evalue": "name 'df1' is not defined",
     "output_type": "error",
     "traceback": [
      "\u001b[1;31m---------------------------------------------------------------------------\u001b[0m",
      "\u001b[1;31mNameError\u001b[0m                                 Traceback (most recent call last)",
      "\u001b[1;32m~\\AppData\\Local\\Temp\\ipykernel_1760\\2345449233.py\u001b[0m in \u001b[0;36m<module>\u001b[1;34m\u001b[0m\n\u001b[1;32m----> 1\u001b[1;33m \u001b[0mdf1\u001b[0m\u001b[1;33m[\u001b[0m\u001b[1;34m'메세지'\u001b[0m\u001b[1;33m]\u001b[0m\u001b[1;33m.\u001b[0m\u001b[0mvalue_counts\u001b[0m\u001b[1;33m(\u001b[0m\u001b[1;33m)\u001b[0m\u001b[1;33m\u001b[0m\u001b[1;33m\u001b[0m\u001b[0m\n\u001b[0m",
      "\u001b[1;31mNameError\u001b[0m: name 'df1' is not defined"
     ]
    }
   ],
   "source": [
    "df1['메세지'].value_counts()"
   ]
  },
  {
   "cell_type": "markdown",
   "id": "6c54b362",
   "metadata": {},
   "source": [
    "6) df3 데이터에서 '판매금액'의 합이 가장 높은 '제품명' 2가지 제품의\n",
    "  '판매금액'의 평균의 차이가 있는지 가설검정을 수행"
   ]
  },
  {
   "cell_type": "code",
   "execution_count": 46,
   "id": "26273ea3",
   "metadata": {},
   "outputs": [
    {
     "data": {
      "text/html": [
       "<div>\n",
       "<style scoped>\n",
       "    .dataframe tbody tr th:only-of-type {\n",
       "        vertical-align: middle;\n",
       "    }\n",
       "\n",
       "    .dataframe tbody tr th {\n",
       "        vertical-align: top;\n",
       "    }\n",
       "\n",
       "    .dataframe thead th {\n",
       "        text-align: right;\n",
       "    }\n",
       "</style>\n",
       "<table border=\"1\" class=\"dataframe\">\n",
       "  <thead>\n",
       "    <tr style=\"text-align: right;\">\n",
       "      <th></th>\n",
       "      <th>판매금액</th>\n",
       "    </tr>\n",
       "    <tr>\n",
       "      <th>제품명</th>\n",
       "      <th></th>\n",
       "    </tr>\n",
       "  </thead>\n",
       "  <tbody>\n",
       "    <tr>\n",
       "      <th>E</th>\n",
       "      <td>589560.1</td>\n",
       "    </tr>\n",
       "    <tr>\n",
       "      <th>H</th>\n",
       "      <td>297757.6</td>\n",
       "    </tr>\n",
       "    <tr>\n",
       "      <th>FF3</th>\n",
       "      <td>279876.8</td>\n",
       "    </tr>\n",
       "    <tr>\n",
       "      <th>A2</th>\n",
       "      <td>238295.4</td>\n",
       "    </tr>\n",
       "    <tr>\n",
       "      <th>J</th>\n",
       "      <td>194242.5</td>\n",
       "    </tr>\n",
       "    <tr>\n",
       "      <th>K</th>\n",
       "      <td>187450.4</td>\n",
       "    </tr>\n",
       "    <tr>\n",
       "      <th>G</th>\n",
       "      <td>159748.9</td>\n",
       "    </tr>\n",
       "    <tr>\n",
       "      <th>I</th>\n",
       "      <td>110513.8</td>\n",
       "    </tr>\n",
       "    <tr>\n",
       "      <th>KC2</th>\n",
       "      <td>107632.8</td>\n",
       "    </tr>\n",
       "    <tr>\n",
       "      <th>L</th>\n",
       "      <td>87297.2</td>\n",
       "    </tr>\n",
       "    <tr>\n",
       "      <th>B3</th>\n",
       "      <td>77405.9</td>\n",
       "    </tr>\n",
       "    <tr>\n",
       "      <th>M</th>\n",
       "      <td>63899.4</td>\n",
       "    </tr>\n",
       "    <tr>\n",
       "      <th>C</th>\n",
       "      <td>59125.3</td>\n",
       "    </tr>\n",
       "    <tr>\n",
       "      <th>KC3</th>\n",
       "      <td>55963.8</td>\n",
       "    </tr>\n",
       "    <tr>\n",
       "      <th>Z1</th>\n",
       "      <td>52900.4</td>\n",
       "    </tr>\n",
       "    <tr>\n",
       "      <th>F</th>\n",
       "      <td>46092.0</td>\n",
       "    </tr>\n",
       "    <tr>\n",
       "      <th>Z2</th>\n",
       "      <td>45977.9</td>\n",
       "    </tr>\n",
       "    <tr>\n",
       "      <th>FF1</th>\n",
       "      <td>43091.0</td>\n",
       "    </tr>\n",
       "    <tr>\n",
       "      <th>D</th>\n",
       "      <td>41055.1</td>\n",
       "    </tr>\n",
       "    <tr>\n",
       "      <th>Z3</th>\n",
       "      <td>37597.8</td>\n",
       "    </tr>\n",
       "    <tr>\n",
       "      <th>B2</th>\n",
       "      <td>26849.2</td>\n",
       "    </tr>\n",
       "    <tr>\n",
       "      <th>A3</th>\n",
       "      <td>20684.1</td>\n",
       "    </tr>\n",
       "    <tr>\n",
       "      <th>O</th>\n",
       "      <td>3388.2</td>\n",
       "    </tr>\n",
       "    <tr>\n",
       "      <th>V</th>\n",
       "      <td>1487.8</td>\n",
       "    </tr>\n",
       "    <tr>\n",
       "      <th>Y</th>\n",
       "      <td>1108.3</td>\n",
       "    </tr>\n",
       "    <tr>\n",
       "      <th>KC</th>\n",
       "      <td>812.8</td>\n",
       "    </tr>\n",
       "    <tr>\n",
       "      <th>W</th>\n",
       "      <td>796.7</td>\n",
       "    </tr>\n",
       "    <tr>\n",
       "      <th>B</th>\n",
       "      <td>787.4</td>\n",
       "    </tr>\n",
       "    <tr>\n",
       "      <th>R</th>\n",
       "      <td>516.4</td>\n",
       "    </tr>\n",
       "    <tr>\n",
       "      <th>Q</th>\n",
       "      <td>445.4</td>\n",
       "    </tr>\n",
       "    <tr>\n",
       "      <th>S</th>\n",
       "      <td>345.4</td>\n",
       "    </tr>\n",
       "    <tr>\n",
       "      <th>X</th>\n",
       "      <td>199.8</td>\n",
       "    </tr>\n",
       "    <tr>\n",
       "      <th>A</th>\n",
       "      <td>197.6</td>\n",
       "    </tr>\n",
       "    <tr>\n",
       "      <th>Z</th>\n",
       "      <td>165.4</td>\n",
       "    </tr>\n",
       "    <tr>\n",
       "      <th>N</th>\n",
       "      <td>93.8</td>\n",
       "    </tr>\n",
       "    <tr>\n",
       "      <th>FF2</th>\n",
       "      <td>89.4</td>\n",
       "    </tr>\n",
       "    <tr>\n",
       "      <th>P</th>\n",
       "      <td>76.7</td>\n",
       "    </tr>\n",
       "    <tr>\n",
       "      <th>T</th>\n",
       "      <td>63.6</td>\n",
       "    </tr>\n",
       "    <tr>\n",
       "      <th>U</th>\n",
       "      <td>38.0</td>\n",
       "    </tr>\n",
       "    <tr>\n",
       "      <th>A1</th>\n",
       "      <td>8.8</td>\n",
       "    </tr>\n",
       "  </tbody>\n",
       "</table>\n",
       "</div>"
      ],
      "text/plain": [
       "         판매금액\n",
       "제품명          \n",
       "E    589560.1\n",
       "H    297757.6\n",
       "FF3  279876.8\n",
       "A2   238295.4\n",
       "J    194242.5\n",
       "K    187450.4\n",
       "G    159748.9\n",
       "I    110513.8\n",
       "KC2  107632.8\n",
       "L     87297.2\n",
       "B3    77405.9\n",
       "M     63899.4\n",
       "C     59125.3\n",
       "KC3   55963.8\n",
       "Z1    52900.4\n",
       "F     46092.0\n",
       "Z2    45977.9\n",
       "FF1   43091.0\n",
       "D     41055.1\n",
       "Z3    37597.8\n",
       "B2    26849.2\n",
       "A3    20684.1\n",
       "O      3388.2\n",
       "V      1487.8\n",
       "Y      1108.3\n",
       "KC      812.8\n",
       "W       796.7\n",
       "B       787.4\n",
       "R       516.4\n",
       "Q       445.4\n",
       "S       345.4\n",
       "X       199.8\n",
       "A       197.6\n",
       "Z       165.4\n",
       "N        93.8\n",
       "FF2      89.4\n",
       "P        76.7\n",
       "T        63.6\n",
       "U        38.0\n",
       "A1        8.8"
      ]
     },
     "execution_count": 46,
     "metadata": {},
     "output_type": "execute_result"
    }
   ],
   "source": [
    "df3.pivot_table(index='제품명',values='판매금액',\n",
    "                aggfunc='sum').sort_values(by='판매금액',ascending=False)"
   ]
  },
  {
   "cell_type": "markdown",
   "id": "8fd2103a",
   "metadata": {},
   "source": [
    "6-1) E 제품과 H 제품의 '판매금액'의 분포가 정규분포를 따르는가?\n",
    "    귀무가설 : 해당 데이터의 분포는 정규분포를 따른다.\n",
    "    대립가설 : 해당 데이터의 분포는 정규분포를 따르지 않는다."
   ]
  },
  {
   "cell_type": "code",
   "execution_count": 47,
   "id": "1cba4e2c",
   "metadata": {},
   "outputs": [
    {
     "data": {
      "text/plain": [
       "NormaltestResult(statistic=9.306514822431357, pvalue=0.00953050653391736)"
      ]
     },
     "execution_count": 47,
     "metadata": {},
     "output_type": "execute_result"
    }
   ],
   "source": [
    "cond1 = (df3['제품명']=='E')\n",
    "cond2 = (df3['제품명']=='H')\n",
    "stats.normaltest(df3.loc[cond1|cond2]['판매금액'])\n",
    "# P.value<0.05 | 대립가설 참 | 해당 분포는 정규분포를 따르지 않는다."
   ]
  },
  {
   "cell_type": "markdown",
   "id": "ce7cc72a",
   "metadata": {},
   "source": [
    "6-2) 정규성을 따르지 않는 판매금액에 대해, 두집단 간 평균의 차이가 있는가?\n",
    "    귀무가설 : E와 H집단의 판매금액의 평균이 같다.\n",
    "    대립가설 : E와 H집단의 판매금액의 평균이 다르다."
   ]
  },
  {
   "cell_type": "code",
   "execution_count": 48,
   "id": "4e75892b",
   "metadata": {},
   "outputs": [
    {
     "data": {
      "text/plain": [
       "RanksumsResult(statistic=0.0, pvalue=1.0)"
      ]
     },
     "execution_count": 48,
     "metadata": {},
     "output_type": "execute_result"
    }
   ],
   "source": [
    "df3_E = df3.loc[cond1]\n",
    "df3_H = df3.loc[cond2]\n",
    "stats.ranksums(df3_E['판매금액'],df3_E['판매금액'])\n",
    "# P.value<0.05 | 귀무가설 참 | E와 H집단의 판매금액의 평균이 같다."
   ]
  },
  {
   "cell_type": "code",
   "execution_count": 49,
   "id": "c369ffae",
   "metadata": {},
   "outputs": [
    {
     "data": {
      "text/html": [
       "<div>\n",
       "<style scoped>\n",
       "    .dataframe tbody tr th:only-of-type {\n",
       "        vertical-align: middle;\n",
       "    }\n",
       "\n",
       "    .dataframe tbody tr th {\n",
       "        vertical-align: top;\n",
       "    }\n",
       "\n",
       "    .dataframe thead th {\n",
       "        text-align: right;\n",
       "    }\n",
       "</style>\n",
       "<table border=\"1\" class=\"dataframe\">\n",
       "  <thead>\n",
       "    <tr style=\"text-align: right;\">\n",
       "      <th></th>\n",
       "      <th>판매금액</th>\n",
       "    </tr>\n",
       "    <tr>\n",
       "      <th>제품명</th>\n",
       "      <th></th>\n",
       "    </tr>\n",
       "  </thead>\n",
       "  <tbody>\n",
       "    <tr>\n",
       "      <th>A</th>\n",
       "      <td>0.00</td>\n",
       "    </tr>\n",
       "    <tr>\n",
       "      <th>A1</th>\n",
       "      <td>0.00</td>\n",
       "    </tr>\n",
       "    <tr>\n",
       "      <th>A2</th>\n",
       "      <td>9147.15</td>\n",
       "    </tr>\n",
       "    <tr>\n",
       "      <th>A3</th>\n",
       "      <td>13.35</td>\n",
       "    </tr>\n",
       "    <tr>\n",
       "      <th>B</th>\n",
       "      <td>0.00</td>\n",
       "    </tr>\n",
       "    <tr>\n",
       "      <th>B2</th>\n",
       "      <td>60.20</td>\n",
       "    </tr>\n",
       "    <tr>\n",
       "      <th>B3</th>\n",
       "      <td>3733.95</td>\n",
       "    </tr>\n",
       "    <tr>\n",
       "      <th>C</th>\n",
       "      <td>1687.30</td>\n",
       "    </tr>\n",
       "    <tr>\n",
       "      <th>D</th>\n",
       "      <td>1340.00</td>\n",
       "    </tr>\n",
       "    <tr>\n",
       "      <th>E</th>\n",
       "      <td>28301.30</td>\n",
       "    </tr>\n",
       "    <tr>\n",
       "      <th>F</th>\n",
       "      <td>1680.45</td>\n",
       "    </tr>\n",
       "    <tr>\n",
       "      <th>FF1</th>\n",
       "      <td>0.00</td>\n",
       "    </tr>\n",
       "    <tr>\n",
       "      <th>FF2</th>\n",
       "      <td>0.00</td>\n",
       "    </tr>\n",
       "    <tr>\n",
       "      <th>FF3</th>\n",
       "      <td>8677.85</td>\n",
       "    </tr>\n",
       "    <tr>\n",
       "      <th>G</th>\n",
       "      <td>8569.40</td>\n",
       "    </tr>\n",
       "    <tr>\n",
       "      <th>H</th>\n",
       "      <td>13120.90</td>\n",
       "    </tr>\n",
       "    <tr>\n",
       "      <th>I</th>\n",
       "      <td>2248.25</td>\n",
       "    </tr>\n",
       "    <tr>\n",
       "      <th>J</th>\n",
       "      <td>8559.95</td>\n",
       "    </tr>\n",
       "    <tr>\n",
       "      <th>K</th>\n",
       "      <td>3058.25</td>\n",
       "    </tr>\n",
       "    <tr>\n",
       "      <th>KC</th>\n",
       "      <td>0.00</td>\n",
       "    </tr>\n",
       "    <tr>\n",
       "      <th>KC2</th>\n",
       "      <td>0.00</td>\n",
       "    </tr>\n",
       "    <tr>\n",
       "      <th>KC3</th>\n",
       "      <td>0.00</td>\n",
       "    </tr>\n",
       "    <tr>\n",
       "      <th>L</th>\n",
       "      <td>3236.90</td>\n",
       "    </tr>\n",
       "    <tr>\n",
       "      <th>M</th>\n",
       "      <td>7.00</td>\n",
       "    </tr>\n",
       "    <tr>\n",
       "      <th>N</th>\n",
       "      <td>0.00</td>\n",
       "    </tr>\n",
       "    <tr>\n",
       "      <th>O</th>\n",
       "      <td>0.00</td>\n",
       "    </tr>\n",
       "    <tr>\n",
       "      <th>P</th>\n",
       "      <td>0.00</td>\n",
       "    </tr>\n",
       "    <tr>\n",
       "      <th>Q</th>\n",
       "      <td>0.00</td>\n",
       "    </tr>\n",
       "    <tr>\n",
       "      <th>R</th>\n",
       "      <td>0.00</td>\n",
       "    </tr>\n",
       "    <tr>\n",
       "      <th>S</th>\n",
       "      <td>0.00</td>\n",
       "    </tr>\n",
       "    <tr>\n",
       "      <th>T</th>\n",
       "      <td>0.00</td>\n",
       "    </tr>\n",
       "    <tr>\n",
       "      <th>U</th>\n",
       "      <td>0.00</td>\n",
       "    </tr>\n",
       "    <tr>\n",
       "      <th>V</th>\n",
       "      <td>0.00</td>\n",
       "    </tr>\n",
       "    <tr>\n",
       "      <th>W</th>\n",
       "      <td>0.00</td>\n",
       "    </tr>\n",
       "    <tr>\n",
       "      <th>X</th>\n",
       "      <td>0.00</td>\n",
       "    </tr>\n",
       "    <tr>\n",
       "      <th>Y</th>\n",
       "      <td>0.00</td>\n",
       "    </tr>\n",
       "    <tr>\n",
       "      <th>Z</th>\n",
       "      <td>0.00</td>\n",
       "    </tr>\n",
       "    <tr>\n",
       "      <th>Z1</th>\n",
       "      <td>0.00</td>\n",
       "    </tr>\n",
       "    <tr>\n",
       "      <th>Z2</th>\n",
       "      <td>814.40</td>\n",
       "    </tr>\n",
       "    <tr>\n",
       "      <th>Z3</th>\n",
       "      <td>1595.60</td>\n",
       "    </tr>\n",
       "  </tbody>\n",
       "</table>\n",
       "</div>"
      ],
      "text/plain": [
       "         판매금액\n",
       "제품명          \n",
       "A        0.00\n",
       "A1       0.00\n",
       "A2    9147.15\n",
       "A3      13.35\n",
       "B        0.00\n",
       "B2      60.20\n",
       "B3    3733.95\n",
       "C     1687.30\n",
       "D     1340.00\n",
       "E    28301.30\n",
       "F     1680.45\n",
       "FF1      0.00\n",
       "FF2      0.00\n",
       "FF3   8677.85\n",
       "G     8569.40\n",
       "H    13120.90\n",
       "I     2248.25\n",
       "J     8559.95\n",
       "K     3058.25\n",
       "KC       0.00\n",
       "KC2      0.00\n",
       "KC3      0.00\n",
       "L     3236.90\n",
       "M        7.00\n",
       "N        0.00\n",
       "O        0.00\n",
       "P        0.00\n",
       "Q        0.00\n",
       "R        0.00\n",
       "S        0.00\n",
       "T        0.00\n",
       "U        0.00\n",
       "V        0.00\n",
       "W        0.00\n",
       "X        0.00\n",
       "Y        0.00\n",
       "Z        0.00\n",
       "Z1       0.00\n",
       "Z2     814.40\n",
       "Z3    1595.60"
      ]
     },
     "execution_count": 49,
     "metadata": {},
     "output_type": "execute_result"
    }
   ],
   "source": [
    "df3.pivot_table(index='제품명',values='판매금액',aggfunc='median')"
   ]
  },
  {
   "cell_type": "markdown",
   "id": "338e7578",
   "metadata": {},
   "source": [
    "7) df4 데이터의 데이터의 구조와 타입을 확인"
   ]
  },
  {
   "cell_type": "code",
   "execution_count": 50,
   "id": "e85ab96f",
   "metadata": {},
   "outputs": [
    {
     "name": "stdout",
     "output_type": "stream",
     "text": [
      "<class 'pandas.core.frame.DataFrame'>\n",
      "RangeIndex: 10000 entries, 0 to 9999\n",
      "Data columns (total 10 columns):\n",
      " #   Column      Non-Null Count  Dtype \n",
      "---  ------      --------------  ----- \n",
      " 0   회원코드        10000 non-null  object\n",
      " 1   프로그램        10000 non-null  object\n",
      " 2   상태          10000 non-null  object\n",
      " 3   프로그램가격      10000 non-null  int64 \n",
      " 4   최종결제금액      10000 non-null  int64 \n",
      " 5   결제시각        10000 non-null  object\n",
      " 6   결제유형        10000 non-null  object\n",
      " 7   채널          10000 non-null  object\n",
      " 8   보조식품가격      10000 non-null  int64 \n",
      " 9   보조식품(추가구매)  10000 non-null  object\n",
      "dtypes: int64(3), object(7)\n",
      "memory usage: 781.4+ KB\n"
     ]
    }
   ],
   "source": [
    "df4 = pd.read_csv('03_data.csv')\n",
    "df4.info()"
   ]
  },
  {
   "cell_type": "markdown",
   "id": "ad8db7ee",
   "metadata": {},
   "source": [
    "8) df4 데이터의 범주형 데이터의 요약통계량을 계산\n"
   ]
  },
  {
   "cell_type": "code",
   "execution_count": 51,
   "id": "124ff086",
   "metadata": {},
   "outputs": [
    {
     "data": {
      "text/html": [
       "<div>\n",
       "<style scoped>\n",
       "    .dataframe tbody tr th:only-of-type {\n",
       "        vertical-align: middle;\n",
       "    }\n",
       "\n",
       "    .dataframe tbody tr th {\n",
       "        vertical-align: top;\n",
       "    }\n",
       "\n",
       "    .dataframe thead th {\n",
       "        text-align: right;\n",
       "    }\n",
       "</style>\n",
       "<table border=\"1\" class=\"dataframe\">\n",
       "  <thead>\n",
       "    <tr style=\"text-align: right;\">\n",
       "      <th></th>\n",
       "      <th>회원코드</th>\n",
       "      <th>프로그램</th>\n",
       "      <th>상태</th>\n",
       "      <th>결제시각</th>\n",
       "      <th>결제유형</th>\n",
       "      <th>채널</th>\n",
       "      <th>보조식품(추가구매)</th>\n",
       "    </tr>\n",
       "  </thead>\n",
       "  <tbody>\n",
       "    <tr>\n",
       "      <th>count</th>\n",
       "      <td>10000</td>\n",
       "      <td>10000</td>\n",
       "      <td>10000</td>\n",
       "      <td>10000</td>\n",
       "      <td>10000</td>\n",
       "      <td>10000</td>\n",
       "      <td>10000</td>\n",
       "    </tr>\n",
       "    <tr>\n",
       "      <th>unique</th>\n",
       "      <td>10000</td>\n",
       "      <td>2</td>\n",
       "      <td>3</td>\n",
       "      <td>9995</td>\n",
       "      <td>1</td>\n",
       "      <td>7</td>\n",
       "      <td>6</td>\n",
       "    </tr>\n",
       "    <tr>\n",
       "      <th>top</th>\n",
       "      <td>Y9RY2VSI</td>\n",
       "      <td>체중감량 프로그램 (타입 A)</td>\n",
       "      <td>completed</td>\n",
       "      <td>2017-05-13 오후 10:18:29.768000</td>\n",
       "      <td>Recurring</td>\n",
       "      <td>facebook</td>\n",
       "      <td>구매안함</td>\n",
       "    </tr>\n",
       "    <tr>\n",
       "      <th>freq</th>\n",
       "      <td>1</td>\n",
       "      <td>6672</td>\n",
       "      <td>5400</td>\n",
       "      <td>2</td>\n",
       "      <td>10000</td>\n",
       "      <td>6880</td>\n",
       "      <td>7520</td>\n",
       "    </tr>\n",
       "  </tbody>\n",
       "</table>\n",
       "</div>"
      ],
      "text/plain": [
       "            회원코드              프로그램         상태                           결제시각  \\\n",
       "count      10000             10000      10000                          10000   \n",
       "unique     10000                 2          3                           9995   \n",
       "top     Y9RY2VSI  체중감량 프로그램 (타입 A)  completed  2017-05-13 오후 10:18:29.768000   \n",
       "freq           1              6672       5400                              2   \n",
       "\n",
       "             결제유형        채널 보조식품(추가구매)  \n",
       "count       10000     10000      10000  \n",
       "unique          1         7          6  \n",
       "top     Recurring  facebook       구매안함  \n",
       "freq        10000      6880       7520  "
      ]
     },
     "execution_count": 51,
     "metadata": {},
     "output_type": "execute_result"
    }
   ],
   "source": [
    "df4.describe(include='object')"
   ]
  },
  {
   "cell_type": "markdown",
   "id": "9773ae51",
   "metadata": {},
   "source": [
    "9) df4 데이터의 '프로그램'항목의 종류와 빈도수를 확인"
   ]
  },
  {
   "cell_type": "code",
   "execution_count": 52,
   "id": "1d892054",
   "metadata": {},
   "outputs": [
    {
     "data": {
      "text/plain": [
       "체중감량 프로그램 (타입 A)    6672\n",
       "체중감량 프로그램 (타입B)     3328\n",
       "Name: 프로그램, dtype: int64"
      ]
     },
     "execution_count": 52,
     "metadata": {},
     "output_type": "execute_result"
    }
   ],
   "source": [
    "df4['프로그램'].value_counts()"
   ]
  },
  {
   "cell_type": "markdown",
   "id": "195ec2fa",
   "metadata": {},
   "source": [
    "10) df4 데이터의 '채널'별 '최종결제금액'의 합을 계산"
   ]
  },
  {
   "cell_type": "code",
   "execution_count": 53,
   "id": "dc7cb708",
   "metadata": {},
   "outputs": [
    {
     "data": {
      "text/html": [
       "<div>\n",
       "<style scoped>\n",
       "    .dataframe tbody tr th:only-of-type {\n",
       "        vertical-align: middle;\n",
       "    }\n",
       "\n",
       "    .dataframe tbody tr th {\n",
       "        vertical-align: top;\n",
       "    }\n",
       "\n",
       "    .dataframe thead th {\n",
       "        text-align: right;\n",
       "    }\n",
       "</style>\n",
       "<table border=\"1\" class=\"dataframe\">\n",
       "  <thead>\n",
       "    <tr style=\"text-align: right;\">\n",
       "      <th></th>\n",
       "      <th>최종결제금액</th>\n",
       "    </tr>\n",
       "    <tr>\n",
       "      <th>채널</th>\n",
       "      <th></th>\n",
       "    </tr>\n",
       "  </thead>\n",
       "  <tbody>\n",
       "    <tr>\n",
       "      <th>direct</th>\n",
       "      <td>31337160</td>\n",
       "    </tr>\n",
       "    <tr>\n",
       "      <th>email</th>\n",
       "      <td>30655080</td>\n",
       "    </tr>\n",
       "    <tr>\n",
       "      <th>facebook</th>\n",
       "      <td>825136460</td>\n",
       "    </tr>\n",
       "    <tr>\n",
       "      <th>google</th>\n",
       "      <td>12663480</td>\n",
       "    </tr>\n",
       "    <tr>\n",
       "      <th>instagram</th>\n",
       "      <td>3562620</td>\n",
       "    </tr>\n",
       "    <tr>\n",
       "      <th>naver</th>\n",
       "      <td>111491750</td>\n",
       "    </tr>\n",
       "    <tr>\n",
       "      <th>others</th>\n",
       "      <td>149349690</td>\n",
       "    </tr>\n",
       "  </tbody>\n",
       "</table>\n",
       "</div>"
      ],
      "text/plain": [
       "              최종결제금액\n",
       "채널                  \n",
       "direct      31337160\n",
       "email       30655080\n",
       "facebook   825136460\n",
       "google      12663480\n",
       "instagram    3562620\n",
       "naver      111491750\n",
       "others     149349690"
      ]
     },
     "execution_count": 53,
     "metadata": {},
     "output_type": "execute_result"
    }
   ],
   "source": [
    "df4.pivot_table(index='채널',values='최종결제금액',aggfunc='sum')"
   ]
  },
  {
   "cell_type": "markdown",
   "id": "f25f6f64",
   "metadata": {},
   "source": [
    "11) df4 데이터의 '결제시각'데이터를 이용해 '결제일자'와 '결제시간'\n",
    "    (날짜와 시간을 분리 (apply 함수 활용)"
   ]
  },
  {
   "cell_type": "code",
   "execution_count": 54,
   "id": "69adfc07",
   "metadata": {},
   "outputs": [],
   "source": [
    "def func1(row):\n",
    "    return row[0:10]\n",
    "\n",
    "def func2(row):\n",
    "    return row.split(' ')[2]\n",
    "\n",
    "df4['결제일자'] = pd.to_datetime(df4['결제시각'].apply(func1))\n",
    "df4['결제시간'] = df4['결제시각'].apply(func2)"
   ]
  },
  {
   "cell_type": "code",
   "execution_count": 55,
   "id": "39e529d7",
   "metadata": {},
   "outputs": [
    {
     "ename": "KeyError",
     "evalue": "'최종결제금액'",
     "output_type": "error",
     "traceback": [
      "\u001b[1;31m---------------------------------------------------------------------------\u001b[0m",
      "\u001b[1;31mKeyError\u001b[0m                                  Traceback (most recent call last)",
      "\u001b[1;32mC:\\ProgramData\\Anaconda3\\lib\\site-packages\\pandas\\core\\indexes\\base.py\u001b[0m in \u001b[0;36mget_loc\u001b[1;34m(self, key, method, tolerance)\u001b[0m\n\u001b[0;32m   3628\u001b[0m             \u001b[1;32mtry\u001b[0m\u001b[1;33m:\u001b[0m\u001b[1;33m\u001b[0m\u001b[1;33m\u001b[0m\u001b[0m\n\u001b[1;32m-> 3629\u001b[1;33m                 \u001b[1;32mreturn\u001b[0m \u001b[0mself\u001b[0m\u001b[1;33m.\u001b[0m\u001b[0m_engine\u001b[0m\u001b[1;33m.\u001b[0m\u001b[0mget_loc\u001b[0m\u001b[1;33m(\u001b[0m\u001b[0mcasted_key\u001b[0m\u001b[1;33m)\u001b[0m\u001b[1;33m\u001b[0m\u001b[1;33m\u001b[0m\u001b[0m\n\u001b[0m\u001b[0;32m   3630\u001b[0m             \u001b[1;32mexcept\u001b[0m \u001b[0mKeyError\u001b[0m \u001b[1;32mas\u001b[0m \u001b[0merr\u001b[0m\u001b[1;33m:\u001b[0m\u001b[1;33m\u001b[0m\u001b[1;33m\u001b[0m\u001b[0m\n",
      "\u001b[1;32mC:\\ProgramData\\Anaconda3\\lib\\site-packages\\pandas\\_libs\\index.pyx\u001b[0m in \u001b[0;36mpandas._libs.index.IndexEngine.get_loc\u001b[1;34m()\u001b[0m\n",
      "\u001b[1;32mC:\\ProgramData\\Anaconda3\\lib\\site-packages\\pandas\\_libs\\index.pyx\u001b[0m in \u001b[0;36mpandas._libs.index.IndexEngine.get_loc\u001b[1;34m()\u001b[0m\n",
      "\u001b[1;32mpandas\\_libs\\hashtable_class_helper.pxi\u001b[0m in \u001b[0;36mpandas._libs.hashtable.PyObjectHashTable.get_item\u001b[1;34m()\u001b[0m\n",
      "\u001b[1;32mpandas\\_libs\\hashtable_class_helper.pxi\u001b[0m in \u001b[0;36mpandas._libs.hashtable.PyObjectHashTable.get_item\u001b[1;34m()\u001b[0m\n",
      "\u001b[1;31mKeyError\u001b[0m: '최종결제금액'",
      "\nThe above exception was the direct cause of the following exception:\n",
      "\u001b[1;31mKeyError\u001b[0m                                  Traceback (most recent call last)",
      "\u001b[1;32m~\\AppData\\Local\\Temp\\ipykernel_11800\\575354080.py\u001b[0m in \u001b[0;36m<module>\u001b[1;34m\u001b[0m\n\u001b[0;32m      2\u001b[0m \u001b[1;31m# '최종결제금액'평균의 차이가 있는지 시각화 하고 가설검정을 수행\u001b[0m\u001b[1;33m\u001b[0m\u001b[1;33m\u001b[0m\u001b[0m\n\u001b[0;32m      3\u001b[0m \u001b[1;33m\u001b[0m\u001b[0m\n\u001b[1;32m----> 4\u001b[1;33m \u001b[0mcond1\u001b[0m \u001b[1;33m=\u001b[0m \u001b[0mdf_product\u001b[0m\u001b[1;33m[\u001b[0m\u001b[1;34m'최종결제금액'\u001b[0m\u001b[1;33m]\u001b[0m\u001b[1;33m==\u001b[0m\u001b[1;34m'naver'\u001b[0m\u001b[1;33m\u001b[0m\u001b[1;33m\u001b[0m\u001b[0m\n\u001b[0m\u001b[0;32m      5\u001b[0m \u001b[0mcond2\u001b[0m \u001b[1;33m=\u001b[0m \u001b[0mdf_product\u001b[0m\u001b[1;33m[\u001b[0m\u001b[1;34m'최종결제금액'\u001b[0m\u001b[1;33m]\u001b[0m\u001b[1;33m==\u001b[0m\u001b[1;34m'facebook'\u001b[0m\u001b[1;33m\u001b[0m\u001b[1;33m\u001b[0m\u001b[0m\n\u001b[0;32m      6\u001b[0m \u001b[0mdf_product_sun\u001b[0m \u001b[1;33m=\u001b[0m \u001b[0mdf_product\u001b[0m\u001b[1;33m.\u001b[0m\u001b[0mloc\u001b[0m\u001b[1;33m[\u001b[0m\u001b[0mcond1\u001b[0m\u001b[1;33m]\u001b[0m\u001b[1;33m\u001b[0m\u001b[1;33m\u001b[0m\u001b[0m\n",
      "\u001b[1;32mC:\\ProgramData\\Anaconda3\\lib\\site-packages\\pandas\\core\\frame.py\u001b[0m in \u001b[0;36m__getitem__\u001b[1;34m(self, key)\u001b[0m\n\u001b[0;32m   3503\u001b[0m             \u001b[1;32mif\u001b[0m \u001b[0mself\u001b[0m\u001b[1;33m.\u001b[0m\u001b[0mcolumns\u001b[0m\u001b[1;33m.\u001b[0m\u001b[0mnlevels\u001b[0m \u001b[1;33m>\u001b[0m \u001b[1;36m1\u001b[0m\u001b[1;33m:\u001b[0m\u001b[1;33m\u001b[0m\u001b[1;33m\u001b[0m\u001b[0m\n\u001b[0;32m   3504\u001b[0m                 \u001b[1;32mreturn\u001b[0m \u001b[0mself\u001b[0m\u001b[1;33m.\u001b[0m\u001b[0m_getitem_multilevel\u001b[0m\u001b[1;33m(\u001b[0m\u001b[0mkey\u001b[0m\u001b[1;33m)\u001b[0m\u001b[1;33m\u001b[0m\u001b[1;33m\u001b[0m\u001b[0m\n\u001b[1;32m-> 3505\u001b[1;33m             \u001b[0mindexer\u001b[0m \u001b[1;33m=\u001b[0m \u001b[0mself\u001b[0m\u001b[1;33m.\u001b[0m\u001b[0mcolumns\u001b[0m\u001b[1;33m.\u001b[0m\u001b[0mget_loc\u001b[0m\u001b[1;33m(\u001b[0m\u001b[0mkey\u001b[0m\u001b[1;33m)\u001b[0m\u001b[1;33m\u001b[0m\u001b[1;33m\u001b[0m\u001b[0m\n\u001b[0m\u001b[0;32m   3506\u001b[0m             \u001b[1;32mif\u001b[0m \u001b[0mis_integer\u001b[0m\u001b[1;33m(\u001b[0m\u001b[0mindexer\u001b[0m\u001b[1;33m)\u001b[0m\u001b[1;33m:\u001b[0m\u001b[1;33m\u001b[0m\u001b[1;33m\u001b[0m\u001b[0m\n\u001b[0;32m   3507\u001b[0m                 \u001b[0mindexer\u001b[0m \u001b[1;33m=\u001b[0m \u001b[1;33m[\u001b[0m\u001b[0mindexer\u001b[0m\u001b[1;33m]\u001b[0m\u001b[1;33m\u001b[0m\u001b[1;33m\u001b[0m\u001b[0m\n",
      "\u001b[1;32mC:\\ProgramData\\Anaconda3\\lib\\site-packages\\pandas\\core\\indexes\\base.py\u001b[0m in \u001b[0;36mget_loc\u001b[1;34m(self, key, method, tolerance)\u001b[0m\n\u001b[0;32m   3629\u001b[0m                 \u001b[1;32mreturn\u001b[0m \u001b[0mself\u001b[0m\u001b[1;33m.\u001b[0m\u001b[0m_engine\u001b[0m\u001b[1;33m.\u001b[0m\u001b[0mget_loc\u001b[0m\u001b[1;33m(\u001b[0m\u001b[0mcasted_key\u001b[0m\u001b[1;33m)\u001b[0m\u001b[1;33m\u001b[0m\u001b[1;33m\u001b[0m\u001b[0m\n\u001b[0;32m   3630\u001b[0m             \u001b[1;32mexcept\u001b[0m \u001b[0mKeyError\u001b[0m \u001b[1;32mas\u001b[0m \u001b[0merr\u001b[0m\u001b[1;33m:\u001b[0m\u001b[1;33m\u001b[0m\u001b[1;33m\u001b[0m\u001b[0m\n\u001b[1;32m-> 3631\u001b[1;33m                 \u001b[1;32mraise\u001b[0m \u001b[0mKeyError\u001b[0m\u001b[1;33m(\u001b[0m\u001b[0mkey\u001b[0m\u001b[1;33m)\u001b[0m \u001b[1;32mfrom\u001b[0m \u001b[0merr\u001b[0m\u001b[1;33m\u001b[0m\u001b[1;33m\u001b[0m\u001b[0m\n\u001b[0m\u001b[0;32m   3632\u001b[0m             \u001b[1;32mexcept\u001b[0m \u001b[0mTypeError\u001b[0m\u001b[1;33m:\u001b[0m\u001b[1;33m\u001b[0m\u001b[1;33m\u001b[0m\u001b[0m\n\u001b[0;32m   3633\u001b[0m                 \u001b[1;31m# If we have a listlike key, _check_indexing_error will raise\u001b[0m\u001b[1;33m\u001b[0m\u001b[1;33m\u001b[0m\u001b[0m\n",
      "\u001b[1;31mKeyError\u001b[0m: '최종결제금액'"
     ]
    }
   ],
   "source": [
    "# 12) 'facebook'으로 유입된 고객들과 'naver'로 유입된 고객들의\n",
    "# '최종결제금액'평균의 차이가 있는지 시각화 하고 가설검정을 수행\n",
    "\n",
    "cond1 = df_product['최종결제금액']=='naver'\n",
    "cond2 = df_product['최종결제금액']=='facebook'\n",
    "df_product_sun = df_product.loc[cond1]\n",
    "df_product_sat = df_product.loc[cond2]\n",
    "stats.ranksums(df_product_sun['구매금액'], df_product_sat['구매금액'])"
   ]
  },
  {
   "cell_type": "code",
   "execution_count": null,
   "id": "22615a69",
   "metadata": {},
   "outputs": [],
   "source": [
    "cond1 = (df4['채널'].isin(['facebook','naver']))\n",
    "df4_ch1 = df4.loc[cond1]"
   ]
  },
  {
   "cell_type": "code",
   "execution_count": null,
   "id": "132f032d",
   "metadata": {},
   "outputs": [],
   "source": [
    "sns.barplot(data=df4_ch1, x='채널', y='최종결제금액', ci=None)"
   ]
  },
  {
   "cell_type": "code",
   "execution_count": null,
   "id": "7395e282",
   "metadata": {},
   "outputs": [],
   "source": [
    "# 12-1) 두 집단 데이터의 '최종결제금액'이 정규분포를 따르는가?\n",
    "# 귀무가설 : 해당 분포는 정규분포를 따른다. \n",
    "# 대립가설 : 해당 분포는 정규분포를 따르지 않는다. \n",
    "stats.normaltest(df4_ch1['최종결제금액'])\n",
    "# P.value < 0.05 / 대립가설 참 / '최종결제금액'은 정규분포를 따르지 않음\n"
   ]
  },
  {
   "cell_type": "code",
   "execution_count": null,
   "id": "26bf8bea",
   "metadata": {},
   "outputs": [],
   "source": [
    "# 12-2 ) 두 집단의 '최종결제금액'의 평균의 차이가 있는가?\n",
    "# 귀무 가설 : 두 집단 간 평균의 없다. \n",
    "# 대립 가설 : 두 집단 간 평균의 있다.\n",
    "cond1 = (df4['채널']=='facebook')\n",
    "cond2 = (df4['채널']=='naver')\n",
    "df4_face  = df4.loc[cond1]\n",
    "df4_naver = df4.loc[cond2]\n",
    "stats.ranksums(df4_face['최종결제금액'],df4_naver['최종결제금액'])\n",
    "# P.value < 0.05 / 대립가설 참 / 두 집단 간 평균의 있다."
   ]
  },
  {
   "cell_type": "markdown",
   "id": "a791ae40",
   "metadata": {},
   "source": [
    "13) 'facebook'으로 유입된 고객들 중 '최종결제금액'이\n",
    "     가장 높은 상위 10명의 명단을 뽑아 result1_facebook.xlsx로 저장"
   ]
  },
  {
   "cell_type": "code",
   "execution_count": null,
   "id": "9e68e79f",
   "metadata": {},
   "outputs": [],
   "source": [
    "cond1 = (df4['채널']=='facebook')\n",
    "df4.loc[cond1].sort_values(by='최종결제금액',\n",
    "            ascending= False).head(10).to_excel('result1_facebook.xlsx')"
   ]
  }
 ],
 "metadata": {
  "kernelspec": {
   "display_name": "Python 3 (ipykernel)",
   "language": "python",
   "name": "python3"
  },
  "language_info": {
   "codemirror_mode": {
    "name": "ipython",
    "version": 3
   },
   "file_extension": ".py",
   "mimetype": "text/x-python",
   "name": "python",
   "nbconvert_exporter": "python",
   "pygments_lexer": "ipython3",
   "version": "3.9.13"
  }
 },
 "nbformat": 4,
 "nbformat_minor": 5
}
