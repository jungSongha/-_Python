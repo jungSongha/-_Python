{
 "cells": [
  {
   "cell_type": "code",
   "execution_count": null,
   "id": "12aaa96e",
   "metadata": {
    "ExecuteTime": {
     "start_time": "2022-09-29T00:07:25.405Z"
    }
   },
   "outputs": [],
   "source": [
    "#C:\\Users\\kccistc\\Desktop\\김은기\\파이썬\\계산기.ui"
   ]
  },
  {
   "cell_type": "code",
   "execution_count": null,
   "id": "36fa22fd",
   "metadata": {
    "ExecuteTime": {
     "start_time": "2022-09-29T01:54:57.491Z"
    }
   },
   "outputs": [],
   "source": [
    "import sys \n",
    "from PyQt5.QtWidgets import *\n",
    "from PyQt5 import uic\n",
    "\n",
    "ui_path = r\"C:\\Users\\kccistc\\Desktop\\김은기\\파이썬\\계산기.ui\"\n",
    "form_class = uic.loadUiType(ui_path)[0] #부모class[계산기.ui]\n",
    "\n",
    "class WindowClass(QMainWindow, form_class) :  #자식class\n",
    "    def __init__(self) :\n",
    "        super().__init__() #부모class 초기값 상속\n",
    "        self.setupUi(self)\n",
    "        \n",
    "if __name__ == \"__main__\" :\n",
    "    app = QApplication(sys.argv) #GUI 불러오기\n",
    "    myWindow = WindowClass() \n",
    "    myWindow.show() \n",
    "    app.exec_()"
   ]
  },
  {
   "cell_type": "code",
   "execution_count": 1,
   "id": "827df1ca",
   "metadata": {
    "ExecuteTime": {
     "end_time": "2022-09-29T01:52:37.767381Z",
     "start_time": "2022-09-29T01:52:33.070123Z"
    }
   },
   "outputs": [],
   "source": [
    "import sys \n",
    "from PyQt5.QtWidgets import *\n",
    "from PyQt5 import uic\n",
    "\n",
    "ui_path = r\"C:\\Users\\kccistc\\Desktop\\김은기\\파이썬\\계산기.ui\"\n",
    "form_class = uic.loadUiType(ui_path)[0]  #부모class\n",
    "\n",
    "class WindowClass(QMainWindow, form_class) : #자식class\n",
    "    def __init__(self) :\n",
    "        super().__init__() \n",
    "        self.setupUi(self)\n",
    "\n",
    "        self.btn_C.clicked.connect(self.btn_clicked)\n",
    "        self.btn_number0.clicked.connect(self.btn_clicked)\n",
    "        self.btn_number1.clicked.connect(self.btn_clicked)\n",
    "        self.btn_number2.clicked.connect(self.btn_clicked)\n",
    "        self.btn_number3.clicked.connect(self.btn_clicked)\n",
    "        self.btn_number4.clicked.connect(self.btn_clicked)\n",
    "        self.btn_number5.clicked.connect(self.btn_clicked)\n",
    "        self.btn_number6.clicked.connect(self.btn_clicked)\n",
    "        self.btn_number7.clicked.connect(self.btn_clicked)\n",
    "        self.btn_number8.clicked.connect(self.btn_clicked)\n",
    "        self.btn_number9.clicked.connect(self.btn_clicked)\n",
    "        self.btn_result.clicked.connect(self.btn_clicked)\n",
    "        self.btn_minus.clicked.connect(self.btn_clicked)\n",
    "        self.btn_add.clicked.connect(self.btn_clicked)\n",
    "        self.btn_multipy.clicked.connect(self.btn_clicked)\n",
    "        self.btn_divide.clicked.connect(self.btn_clicked)\n",
    "\n",
    "        self.le_view.setEnabled(False)\n",
    "        #False 설정 시, 버튼을 사용할 수 없음\n",
    "        \n",
    "    def btn_clicked(self):\n",
    "        btn_value = self.sender().text()\n",
    "        print(btn_value)\n",
    "        \n",
    "        \n",
    "        \n",
    "if __name__ == \"__main__\" :\n",
    "    app = QApplication(sys.argv) \n",
    "    myWindow = WindowClass() \n",
    "    myWindow.show() \n",
    "    app.exec_()"
   ]
  },
  {
   "cell_type": "code",
   "execution_count": 1,
   "id": "1b71fe39",
   "metadata": {
    "ExecuteTime": {
     "end_time": "2022-09-29T01:53:24.194443Z",
     "start_time": "2022-09-29T01:52:59.201618Z"
    }
   },
   "outputs": [
    {
     "name": "stdout",
     "output_type": "stream",
     "text": [
      "1\n",
      "1+\n",
      "1+1\n",
      "=\n",
      "1+1-\n",
      "1+1-3\n",
      "=\n"
     ]
    }
   ],
   "source": [
    "import sys \n",
    "from PyQt5.QtWidgets import *\n",
    "from PyQt5 import uic\n",
    "\n",
    "\n",
    "ui_path = r\"C:\\Users\\kccistc\\Desktop\\김은기\\파이썬\\계산기.ui\"\n",
    "form_class = uic.loadUiType(ui_path)[0] \n",
    "\n",
    "\n",
    "class WindowClass(QMainWindow, form_class) : \n",
    "    def __init__(self) :\n",
    "        super().__init__()\n",
    "        self.setupUi(self)\n",
    "\n",
    "        self.btn_C.clicked.connect(self.btn_clicked)\n",
    "        self.btn_number0.clicked.connect(self.btn_clicked)\n",
    "        self.btn_number1.clicked.connect(self.btn_clicked)\n",
    "        self.btn_number2.clicked.connect(self.btn_clicked)\n",
    "        self.btn_number3.clicked.connect(self.btn_clicked)\n",
    "        self.btn_number4.clicked.connect(self.btn_clicked)\n",
    "        self.btn_number5.clicked.connect(self.btn_clicked)\n",
    "        self.btn_number6.clicked.connect(self.btn_clicked)\n",
    "        self.btn_number7.clicked.connect(self.btn_clicked)\n",
    "        self.btn_number8.clicked.connect(self.btn_clicked)\n",
    "        self.btn_number9.clicked.connect(self.btn_clicked)\n",
    "        self.btn_result.clicked.connect(self.btn_clicked)\n",
    "        self.btn_minus.clicked.connect(self.btn_clicked)\n",
    "        self.btn_add.clicked.connect(self.btn_clicked)\n",
    "        self.btn_multipy.clicked.connect(self.btn_clicked)\n",
    "        self.btn_divide.clicked.connect(self.btn_clicked)\n",
    "\n",
    "        self.le_view.setEnabled(False)\n",
    "        \n",
    "        self.text_value = \"\"\n",
    "        \n",
    "    def btn_clicked(self):\n",
    "        btn_value = self.sender().text()\n",
    "        if btn_value == 'C':\n",
    "            print(\"clear\")\n",
    "            self.le_view.setText(\"0\")\n",
    "            self.text_value = \"\"\n",
    "        elif btn_value == '=':\n",
    "            print(\"=\")\n",
    "            try:\n",
    "                resultValue = eval(self.text_value.lstrip(\"0\")) \n",
    "                self.le_view.setText(str(resultValue))\n",
    "            except:\n",
    "                self.le_view.setText(\"error\")\n",
    "        else:\n",
    "            if btn_value == 'X':\n",
    "                btn_value = '*'\n",
    "            self.text_value = self.text_value + btn_value\n",
    "            print(self.text_value)\n",
    "            self.le_view.setText(self.text_value)\n",
    "            #setText()버튼에 표시될 텍스트를 설정\n",
    "\n",
    "\n",
    "if __name__ == \"__main__\" :\n",
    "    app = QApplication(sys.argv) \n",
    "    myWindow = WindowClass() \n",
    "    myWindow.show() \n",
    "    app.exec_()"
   ]
  }
 ],
 "metadata": {
  "kernelspec": {
   "display_name": "Python 3.9.12 ('base')",
   "language": "python",
   "name": "python3"
  },
  "language_info": {
   "codemirror_mode": {
    "name": "ipython",
    "version": 3
   },
   "file_extension": ".py",
   "mimetype": "text/x-python",
   "name": "python",
   "nbconvert_exporter": "python",
   "pygments_lexer": "ipython3",
   "version": "3.9.12"
  },
  "toc": {
   "base_numbering": 1,
   "nav_menu": {},
   "number_sections": true,
   "sideBar": true,
   "skip_h1_title": false,
   "title_cell": "Table of Contents",
   "title_sidebar": "Contents",
   "toc_cell": false,
   "toc_position": {},
   "toc_section_display": true,
   "toc_window_display": false
  },
  "vscode": {
   "interpreter": {
    "hash": "ad2bdc8ecc057115af97d19610ffacc2b4e99fae6737bb82f5d7fb13d2f2c186"
   }
  }
 },
 "nbformat": 4,
 "nbformat_minor": 5
}
